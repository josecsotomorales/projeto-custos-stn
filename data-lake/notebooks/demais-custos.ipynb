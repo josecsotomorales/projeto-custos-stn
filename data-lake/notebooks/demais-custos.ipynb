{
 "cells": [
  {
   "cell_type": "code",
   "execution_count": 1,
   "metadata": {},
   "outputs": [],
   "source": [
    "import os\n",
    "from pyspark.sql import SparkSession\n",
    "from pyspark.sql.functions import *"
   ]
  },
  {
   "cell_type": "code",
   "execution_count": 6,
   "metadata": {},
   "outputs": [],
   "source": [
    "# criar spark session\n",
    "spark = SparkSession \\\n",
    "    .builder \\\n",
    "    .config('spark.jars.packages', 'org.apache.hadoop:hadoop-aws:3.2.0') \\\n",
    "    .config('spark.hadoop.fs.s3a.access.key', '') \\\n",
    "    .config('spark.hadoop.fs.s3a.secret.key', '') \\\n",
    "    .appName('spark etl - demais') \\\n",
    "    .getOrCreate()\n",
    "\n",
    "# ler arquivos no s3\n",
    "df = spark.read.csv('s3a://custos-stn-bucket/demais/demais_0.csv', header=True, inferSchema=True)"
   ]
  },
  {
   "cell_type": "code",
   "execution_count": 7,
   "metadata": {
    "scrolled": false
   },
   "outputs": [
    {
     "name": "stdout",
     "output_type": "stream",
     "text": [
      "root\n",
      " |-- co_siorg_n05: integer (nullable = true)\n",
      " |-- ds_siorg_n05: string (nullable = true)\n",
      " |-- co_siorg_n06: integer (nullable = true)\n",
      " |-- ds_siorg_n06: string (nullable = true)\n",
      " |-- co_siorg_n07: integer (nullable = true)\n",
      " |-- ds_siorg_n07: string (nullable = true)\n",
      " |-- me_referencia: integer (nullable = true)\n",
      " |-- an_referencia: integer (nullable = true)\n",
      " |-- sg_mes_completo: string (nullable = true)\n",
      " |-- me_emissao: integer (nullable = true)\n",
      " |-- an_emissao: integer (nullable = true)\n",
      " |-- co_situacao_icc: string (nullable = true)\n",
      " |-- no_situacao_icc: string (nullable = true)\n",
      " |-- id_natureza_juridica_siorg: integer (nullable = true)\n",
      " |-- ds_natureza_juridica_siorg: string (nullable = true)\n",
      " |-- id_categoria_economica_nade: integer (nullable = true)\n",
      " |-- id_grupo_despesa_nade: integer (nullable = true)\n",
      " |-- id_moap_nade: integer (nullable = true)\n",
      " |-- id_elemento_despesa_nade: integer (nullable = true)\n",
      " |-- id_subitem_nade: integer (nullable = true)\n",
      " |-- co_natureza_despesa_deta: integer (nullable = true)\n",
      " |-- no_natureza_despesa_deta: string (nullable = true)\n",
      " |-- id_esfera_orcamentaria: integer (nullable = true)\n",
      " |-- no_esfera_orcamentaria: string (nullable = true)\n",
      " |-- id_in_resultado_eof: integer (nullable = true)\n",
      " |-- no_in_resultado_eof: string (nullable = true)\n",
      " |-- va_custo: double (nullable = true)\n",
      "\n"
     ]
    }
   ],
   "source": [
    "# schema\n",
    "df.printSchema()"
   ]
  },
  {
   "cell_type": "code",
   "execution_count": 8,
   "metadata": {},
   "outputs": [
    {
     "data": {
      "text/plain": [
       "250"
      ]
     },
     "execution_count": 8,
     "metadata": {},
     "output_type": "execute_result"
    }
   ],
   "source": [
    "# contagem de linhas\n",
    "df.count()"
   ]
  },
  {
   "cell_type": "code",
   "execution_count": 9,
   "metadata": {},
   "outputs": [
    {
     "name": "stdout",
     "output_type": "stream",
     "text": [
      "+------------+--------------------+------------+--------------------+------------+--------------------+-------------+-------------+---------------+----------+----------+---------------+--------------------+--------------------------+--------------------------+---------------------------+---------------------+------------+------------------------+---------------+------------------------+------------------------+----------------------+----------------------+-------------------+--------------------+--------+\n",
      "|co_siorg_n05|        ds_siorg_n05|co_siorg_n06|        ds_siorg_n06|co_siorg_n07|        ds_siorg_n07|me_referencia|an_referencia|sg_mes_completo|me_emissao|an_emissao|co_situacao_icc|     no_situacao_icc|id_natureza_juridica_siorg|ds_natureza_juridica_siorg|id_categoria_economica_nade|id_grupo_despesa_nade|id_moap_nade|id_elemento_despesa_nade|id_subitem_nade|co_natureza_despesa_deta|no_natureza_despesa_deta|id_esfera_orcamentaria|no_esfera_orcamentaria|id_in_resultado_eof| no_in_resultado_eof|va_custo|\n",
      "+------------+--------------------+------------+--------------------+------------+--------------------+-------------+-------------+---------------+----------+----------+---------------+--------------------+--------------------------+--------------------------+---------------------------+---------------------+------------+------------------------+---------------+------------------------+------------------------+----------------------+----------------------+-------------------+--------------------+--------+\n",
      "|         244|MINISTERIO DA EDU...|         444|INSTITUTO FEDERAL...|      105098|       CAMPUS SEABRA|            3|         2021|       ABR/2021|         4|      2021|         DSP001|AQUISICAO DE SERV...|                         4|                 AUTARQUIA|                          3|                    3|          90|                      39|             43|                33903943|    SERVICOS DE ENERG...|                     1|      ORCAMENTO FISCAL|                  2|PRIMARIO DISCRICI...| 3112.47|\n",
      "|         244|MINISTERIO DA EDU...|         444|INSTITUTO FEDERAL...|      204784|CAMPUS EUCLIDES D...|            3|         2021|       ABR/2021|         4|      2021|         DSP001|AQUISICAO DE SERV...|                         4|                 AUTARQUIA|                          3|                    3|          90|                      39|             43|                33903943|    SERVICOS DE ENERG...|                     1|      ORCAMENTO FISCAL|                  2|PRIMARIO DISCRICI...| 6064.78|\n",
      "|         244|MINISTERIO DA EDU...|         451|INSTITUTO FEDERAL...|          -9|       NAO SE APLICA|            3|         2021|       ABR/2021|         4|      2021|         DSP001|AQUISICAO DE SERV...|                         4|                 AUTARQUIA|                          3|                    3|          90|                      39|             43|                33903943|    SERVICOS DE ENERG...|                     1|      ORCAMENTO FISCAL|                  2|PRIMARIO DISCRICI...| 12937.3|\n",
      "|         244|MINISTERIO DA EDU...|         453|INSTITUTO FEDERAL...|          -9|       NAO SE APLICA|            3|         2021|       ABR/2021|         4|      2021|         DSP001|AQUISICAO DE SERV...|                         4|                 AUTARQUIA|                          3|                    3|          90|                      39|             43|                33903943|    SERVICOS DE ENERG...|                     1|      ORCAMENTO FISCAL|                  2|PRIMARIO DISCRICI...|59507.93|\n",
      "|         244|MINISTERIO DA EDU...|         453|INSTITUTO FEDERAL...|      103819|       CAMPUS SUZANO|            3|         2021|       ABR/2021|         4|      2021|         DSP001|AQUISICAO DE SERV...|                         4|                 AUTARQUIA|                          3|                    3|          90|                      39|             43|                33903943|    SERVICOS DE ENERG...|                     1|      ORCAMENTO FISCAL|                  2|PRIMARIO DISCRICI...|12466.99|\n",
      "+------------+--------------------+------------+--------------------+------------+--------------------+-------------+-------------+---------------+----------+----------+---------------+--------------------+--------------------------+--------------------------+---------------------------+---------------------+------------+------------------------+---------------+------------------------+------------------------+----------------------+----------------------+-------------------+--------------------+--------+\n",
      "only showing top 5 rows\n",
      "\n"
     ]
    }
   ],
   "source": [
    "# emprimir primeiras 5 linhas\n",
    "df.show(5)"
   ]
  },
  {
   "cell_type": "code",
   "execution_count": 10,
   "metadata": {},
   "outputs": [],
   "source": [
    "# criar view para spark sql\n",
    "df.createOrReplaceTempView(\"demais\")"
   ]
  },
  {
   "cell_type": "code",
   "execution_count": 75,
   "metadata": {},
   "outputs": [
    {
     "name": "stdout",
     "output_type": "stream",
     "text": [
      "root\n",
      " |-- co_siorg_n05: integer (nullable = true)\n",
      " |-- ds_siorg_n05: string (nullable = true)\n",
      " |-- co_siorg_n06: integer (nullable = true)\n",
      " |-- ds_siorg_n06: string (nullable = true)\n",
      " |-- co_siorg_n07: integer (nullable = true)\n",
      " |-- ds_siorg_n07: string (nullable = true)\n",
      " |-- me_referencia: integer (nullable = true)\n",
      " |-- an_referencia: integer (nullable = true)\n",
      " |-- sg_mes_completo: string (nullable = true)\n",
      " |-- me_emissao: integer (nullable = true)\n",
      " |-- an_emissao: integer (nullable = true)\n",
      " |-- co_situacao_icc: string (nullable = true)\n",
      " |-- no_situacao_icc: string (nullable = true)\n",
      " |-- id_natureza_juridica_siorg: integer (nullable = true)\n",
      " |-- ds_natureza_juridica_siorg: string (nullable = true)\n",
      " |-- id_categoria_economica_nade: integer (nullable = true)\n",
      " |-- id_grupo_despesa_nade: integer (nullable = true)\n",
      " |-- id_moap_nade: integer (nullable = true)\n",
      " |-- id_elemento_despesa_nade: integer (nullable = true)\n",
      " |-- id_subitem_nade: integer (nullable = true)\n",
      " |-- co_natureza_despesa_deta: integer (nullable = true)\n",
      " |-- no_natureza_despesa_deta: string (nullable = true)\n",
      " |-- id_esfera_orcamentaria: integer (nullable = true)\n",
      " |-- no_esfera_orcamentaria: string (nullable = true)\n",
      " |-- id_in_resultado_eof: integer (nullable = true)\n",
      " |-- no_in_resultado_eof: string (nullable = true)\n",
      " |-- va_custo: double (nullable = true)\n",
      "\n"
     ]
    }
   ],
   "source": [
    "\n",
    "df_dm = spark.sql(\"\"\"\n",
    "                  select *\n",
    "                  from demais\n",
    "                  \"\"\")\n",
    "\n",
    "df_dm.printSchema()\n"
   ]
  },
  {
   "cell_type": "code",
   "execution_count": 96,
   "metadata": {},
   "outputs": [
    {
     "name": "stdout",
     "output_type": "stream",
     "text": [
      "+--------------------+--------------------+-----------------+--------------------+-----------------+--------------------+-----------------+-----------------+-------+-------+----------------------+----------------------+-----------------------+-----------------------+----------------+--------------------+-----------------------+\n",
      "|co_natureza_juridica|ds_natureza_juridica|co_organizacao_n1|   ds_organizacao_n1|co_organizacao_n2|   ds_organizacao_n2|co_organizacao_n3|ds_organizacao_n3|an_lanc|me_lanc|co_esfera_orcamentaria|ds_esfera_orcamentaria|co_modalidade_aplicacao|ds_modalidade_aplicacao|co_resultado_eof|    ds_resultado_eof|va_custo_transferencias|\n",
      "+--------------------+--------------------+-----------------+--------------------+-----------------+--------------------+-----------------+-----------------+-------+-------+----------------------+----------------------+-----------------------+-----------------------+----------------+--------------------+-----------------------+\n",
      "|                   4|           AUTARQUIA|              244|MINISTERIO DA EDU...|           100905|INSTITUTO FEDERAL...|               -9|    NAO SE APLICA|   2019|     10|                     1|      ORCAMENTO FISCAL|                     80|   TRANSFERENCIAS AO...|               2|PRIMARIO DISCRICI...|                    0.0|\n",
      "|                   4|           AUTARQUIA|              244|MINISTERIO DA EDU...|           100905|INSTITUTO FEDERAL...|               -9|    NAO SE APLICA|   2019|     11|                     1|      ORCAMENTO FISCAL|                     50|   TRANSF. A INST. P...|               2|PRIMARIO DISCRICI...|                    0.0|\n",
      "|                   4|           AUTARQUIA|              244|MINISTERIO DA EDU...|           100905|INSTITUTO FEDERAL...|               -9|    NAO SE APLICA|   2019|     11|                     1|      ORCAMENTO FISCAL|                     80|   TRANSFERENCIAS AO...|               2|PRIMARIO DISCRICI...|                    0.0|\n",
      "|                   4|           AUTARQUIA|              244|MINISTERIO DA EDU...|           100905|INSTITUTO FEDERAL...|               -9|    NAO SE APLICA|   2019|     12|                     1|      ORCAMENTO FISCAL|                     50|   TRANSF. A INST. P...|               2|PRIMARIO DISCRICI...|                    0.0|\n",
      "|                   4|           AUTARQUIA|              244|MINISTERIO DA EDU...|           100905|INSTITUTO FEDERAL...|               -9|    NAO SE APLICA|   2019|     12|                     1|      ORCAMENTO FISCAL|                     80|   TRANSFERENCIAS AO...|               2|PRIMARIO DISCRICI...|                    0.0|\n",
      "|                   4|           AUTARQUIA|              244|MINISTERIO DA EDU...|           100906|INSTITUTO FEDERAL...|               -9|    NAO SE APLICA|   2019|      3|                     1|      ORCAMENTO FISCAL|                     50|   TRANSF. A INST. P...|               2|PRIMARIO DISCRICI...|                    0.0|\n",
      "|                   4|           AUTARQUIA|              244|MINISTERIO DA EDU...|           100906|INSTITUTO FEDERAL...|               -9|    NAO SE APLICA|   2019|      4|                     1|      ORCAMENTO FISCAL|                     50|   TRANSF. A INST. P...|               2|PRIMARIO DISCRICI...|                    0.0|\n",
      "|                   4|           AUTARQUIA|              244|MINISTERIO DA EDU...|           100906|INSTITUTO FEDERAL...|               -9|    NAO SE APLICA|   2019|      5|                     1|      ORCAMENTO FISCAL|                     50|   TRANSF. A INST. P...|               2|PRIMARIO DISCRICI...|                    0.0|\n",
      "|                   4|           AUTARQUIA|              244|MINISTERIO DA EDU...|           100906|INSTITUTO FEDERAL...|               -9|    NAO SE APLICA|   2019|      6|                     1|      ORCAMENTO FISCAL|                     50|   TRANSF. A INST. P...|               2|PRIMARIO DISCRICI...|                    0.0|\n",
      "|                   4|           AUTARQUIA|              244|MINISTERIO DA EDU...|           100906|INSTITUTO FEDERAL...|               -9|    NAO SE APLICA|   2019|      7|                     1|      ORCAMENTO FISCAL|                     50|   TRANSF. A INST. P...|               2|PRIMARIO DISCRICI...|                 1500.0|\n",
      "|                   4|           AUTARQUIA|              244|MINISTERIO DA EDU...|           100906|INSTITUTO FEDERAL...|               -9|    NAO SE APLICA|   2019|      8|                     1|      ORCAMENTO FISCAL|                     50|   TRANSF. A INST. P...|               2|PRIMARIO DISCRICI...|                    0.0|\n",
      "|                   4|           AUTARQUIA|              244|MINISTERIO DA EDU...|           100906|INSTITUTO FEDERAL...|               -9|    NAO SE APLICA|   2019|      8|                     1|      ORCAMENTO FISCAL|                     80|   TRANSFERENCIAS AO...|               2|PRIMARIO DISCRICI...|                    0.0|\n",
      "|                   4|           AUTARQUIA|              244|MINISTERIO DA EDU...|           100906|INSTITUTO FEDERAL...|               -9|    NAO SE APLICA|   2019|      9|                     1|      ORCAMENTO FISCAL|                     50|   TRANSF. A INST. P...|               2|PRIMARIO DISCRICI...|                    0.0|\n",
      "|                   4|           AUTARQUIA|              244|MINISTERIO DA EDU...|           100906|INSTITUTO FEDERAL...|               -9|    NAO SE APLICA|   2019|      9|                     1|      ORCAMENTO FISCAL|                     80|   TRANSFERENCIAS AO...|               2|PRIMARIO DISCRICI...|                    0.0|\n",
      "|                   4|           AUTARQUIA|              244|MINISTERIO DA EDU...|           100906|INSTITUTO FEDERAL...|               -9|    NAO SE APLICA|   2019|     10|                     1|      ORCAMENTO FISCAL|                     50|   TRANSF. A INST. P...|               2|PRIMARIO DISCRICI...|                    0.0|\n",
      "|                   4|           AUTARQUIA|              244|MINISTERIO DA EDU...|           100906|INSTITUTO FEDERAL...|               -9|    NAO SE APLICA|   2019|     10|                     1|      ORCAMENTO FISCAL|                     80|   TRANSFERENCIAS AO...|               2|PRIMARIO DISCRICI...|                    0.0|\n",
      "|                   2|    FUNDACAO PUBLICA|              304| MINISTERIO DA SAUDE|             2207|FUNDACAO NACIONAL...|               -9|    NAO SE APLICA|   2019|     11|                     2|  ORCAMENTO DE SEGU...|                     30|   TRANSFER. A ESTAD...|               2|PRIMARIO DISCRICI...|                    0.0|\n",
      "|                   2|    FUNDACAO PUBLICA|              304| MINISTERIO DA SAUDE|             2207|FUNDACAO NACIONAL...|               -9|    NAO SE APLICA|   2019|     11|                     2|  ORCAMENTO DE SEGU...|                     30|   TRANSFER. A ESTAD...|               3|PRIMARIO SEM IMPA...|           2.30690199E7|\n",
      "|                   2|    FUNDACAO PUBLICA|              304| MINISTERIO DA SAUDE|             2207|FUNDACAO NACIONAL...|               -9|    NAO SE APLICA|   2019|     11|                     2|  ORCAMENTO DE SEGU...|                     30|   TRANSFER. A ESTAD...|               6|DESPESA DISCRICIO...|                    0.0|\n",
      "|                   2|    FUNDACAO PUBLICA|              304| MINISTERIO DA SAUDE|             2207|FUNDACAO NACIONAL...|               -9|    NAO SE APLICA|   2019|     11|                     2|  ORCAMENTO DE SEGU...|                     40|   TRANSFERENCIAS A ...|               2|PRIMARIO DISCRICI...|             1688678.65|\n",
      "+--------------------+--------------------+-----------------+--------------------+-----------------+--------------------+-----------------+-----------------+-------+-------+----------------------+----------------------+-----------------------+-----------------------+----------------+--------------------+-----------------------+\n",
      "only showing top 20 rows\n",
      "\n"
     ]
    }
   ],
   "source": [
    "df_dm.show()"
   ]
  },
  {
   "cell_type": "code",
   "execution_count": 12,
   "metadata": {},
   "outputs": [
    {
     "data": {
      "text/plain": [
       "[Row(co_siorg_n05=244, ds_siorg_n05='MINISTERIO DA EDUCACAO', co_siorg_n06=444, ds_siorg_n06='INSTITUTO FEDERAL DE EDUCACAO, CIENCIA E TECNOLOGIA DA BAHIA', co_siorg_n07=105098, ds_siorg_n07='CAMPUS SEABRA', me_referencia=3, an_referencia=2021, sg_mes_completo='ABR/2021', me_emissao=4, an_emissao=2021, co_situacao_icc='DSP001', no_situacao_icc='AQUISICAO DE SERVICOS - PESSOAS JURIDICAS', id_natureza_juridica_siorg=4, ds_natureza_juridica_siorg='AUTARQUIA', id_categoria_economica_nade=3, id_grupo_despesa_nade=3, id_moap_nade=90, id_elemento_despesa_nade=39, id_subitem_nade=43, co_natureza_despesa_deta=33903943, no_natureza_despesa_deta='SERVICOS DE ENERGIA ELETRICA', id_esfera_orcamentaria=1, no_esfera_orcamentaria='ORCAMENTO FISCAL', id_in_resultado_eof=2, no_in_resultado_eof='PRIMARIO DISCRICIONARIO', va_custo=3112.47)]"
      ]
     },
     "execution_count": 12,
     "metadata": {},
     "output_type": "execute_result"
    }
   ],
   "source": [
    "df_dm.head(1) # Mostra o cabeçalho da primeira linha"
   ]
  },
  {
   "cell_type": "code",
   "execution_count": 14,
   "metadata": {},
   "outputs": [
    {
     "name": "stdout",
     "output_type": "stream",
     "text": [
      "+-------+------------------+--------------------+-----------------+--------------------+-----------------+\n",
      "|summary|      co_siorg_n05|        ds_siorg_n05|     co_siorg_n06|        ds_siorg_n06|     co_siorg_n07|\n",
      "+-------+------------------+--------------------+-----------------+--------------------+-----------------+\n",
      "|  count|               250|                 250|              250|                 250|              250|\n",
      "|   mean|         21245.344|                null|        60081.072|                null|        62939.132|\n",
      "| stddev|63753.512338187975|                null|51498.11740680035|                null|72145.64180422785|\n",
      "|    min|                14|MINISTERIO DA AGR...|              223|AGENCIA NACIONAL ...|               -9|\n",
      "|    max|            267175|MINISTERIO DO TUR...|           222120|UNIVERSIDADE TECN...|           267910|\n",
      "+-------+------------------+--------------------+-----------------+--------------------+-----------------+\n",
      "\n"
     ]
    }
   ],
   "source": [
    "df_dm.describe([\"co_siorg_n05\",\"ds_siorg_n05\",\"co_siorg_n06\",\"ds_siorg_n06\",\"co_siorg_n07\"]).show()"
   ]
  },
  {
   "cell_type": "code",
   "execution_count": 18,
   "metadata": {},
   "outputs": [
    {
     "name": "stdout",
     "output_type": "stream",
     "text": [
      "+-------+--------------------+----------------+-------------+---------------+------------------+----------+\n",
      "|summary|        ds_siorg_n07|   me_referencia|an_referencia|sg_mes_completo|        me_emissao|an_emissao|\n",
      "+-------+--------------------+----------------+-------------+---------------+------------------+----------+\n",
      "|  count|                 250|             250|          250|            250|               250|       250|\n",
      "|   mean|                null|            2.34|       2021.0|           null|              2.58|    2021.0|\n",
      "| stddev|                null|2.08272681934431|          0.0|           null|0.9629689698779456|       0.0|\n",
      "|    min|      CAMPUS  VICOSA|               1|         2021|       ABR/2021|                 1|      2021|\n",
      "|    max|SUPERINTENDENCIA ...|              12|         2021|       MAR/2021|                 4|      2021|\n",
      "+-------+--------------------+----------------+-------------+---------------+------------------+----------+\n",
      "\n"
     ]
    }
   ],
   "source": [
    "df_dm.describe([\"ds_siorg_n07\",\"me_referencia\",\"an_referencia\",\"sg_mes_completo\",\"me_emissao\",\"an_emissao\"]).show()"
   ]
  },
  {
   "cell_type": "code",
   "execution_count": 22,
   "metadata": {},
   "outputs": [
    {
     "name": "stdout",
     "output_type": "stream",
     "text": [
      "+-------+---------------+--------------------+--------------------------+--------------------------+\n",
      "|summary|co_situacao_icc|     no_situacao_icc|id_natureza_juridica_siorg|ds_natureza_juridica_siorg|\n",
      "+-------+---------------+--------------------+--------------------------+--------------------------+\n",
      "|  count|            250|                 250|                       250|                       250|\n",
      "|   mean|           null|                null|                       4.0|                      null|\n",
      "| stddev|           null|                null|                       0.0|                      null|\n",
      "|    min|         DSP001|AQUISICAO DE SERV...|                         4|                 AUTARQUIA|\n",
      "|    max|         DSP001|AQUISICAO DE SERV...|                         4|                 AUTARQUIA|\n",
      "+-------+---------------+--------------------+--------------------------+--------------------------+\n",
      "\n"
     ]
    }
   ],
   "source": [
    "df_dm.describe([\"co_situacao_icc\",\"no_situacao_icc\",\"id_natureza_juridica_siorg\",\"ds_natureza_juridica_siorg\"]).show()"
   ]
  },
  {
   "cell_type": "code",
   "execution_count": 23,
   "metadata": {},
   "outputs": [
    {
     "name": "stdout",
     "output_type": "stream",
     "text": [
      "+-------+---------------------------+---------------------+------------+------------------------+\n",
      "|summary|id_categoria_economica_nade|id_grupo_despesa_nade|id_moap_nade|id_elemento_despesa_nade|\n",
      "+-------+---------------------------+---------------------+------------+------------------------+\n",
      "|  count|                        250|                  250|         250|                     250|\n",
      "|   mean|                        3.0|                  3.0|        90.0|                    39.0|\n",
      "| stddev|                        0.0|                  0.0|         0.0|                     0.0|\n",
      "|    min|                          3|                    3|          90|                      39|\n",
      "|    max|                          3|                    3|          90|                      39|\n",
      "+-------+---------------------------+---------------------+------------+------------------------+\n",
      "\n"
     ]
    }
   ],
   "source": [
    "df_dm.describe([\"id_categoria_economica_nade\",\"id_grupo_despesa_nade\",\"id_moap_nade\",\"id_elemento_despesa_nade\"]).show()"
   ]
  },
  {
   "cell_type": "code",
   "execution_count": 24,
   "metadata": {},
   "outputs": [
    {
     "name": "stdout",
     "output_type": "stream",
     "text": [
      "+-------+-----------------+------------------------+------------------------+----------------------+\n",
      "|summary|  id_subitem_nade|co_natureza_despesa_deta|no_natureza_despesa_deta|id_esfera_orcamentaria|\n",
      "+-------+-----------------+------------------------+------------------------+----------------------+\n",
      "|  count|              250|                     250|                     250|                   250|\n",
      "|   mean|           50.908|          3.3903950908E7|                    null|                 1.172|\n",
      "| stddev|6.845654676640306|       6.845654676370931|                    null|    0.3781374773904708|\n",
      "|    min|               43|                33903943|    SERVICO DE SELECA...|                     1|\n",
      "|    max|               63|                33903963|    SERVICOS GRAFICOS...|                     2|\n",
      "+-------+-----------------+------------------------+------------------------+----------------------+\n",
      "\n"
     ]
    }
   ],
   "source": [
    "df_dm.describe([\"id_subitem_nade\",\"co_natureza_despesa_deta\",\"no_natureza_despesa_deta\",\"id_esfera_orcamentaria\"]).show()"
   ]
  },
  {
   "cell_type": "code",
   "execution_count": 25,
   "metadata": {},
   "outputs": [
    {
     "name": "stdout",
     "output_type": "stream",
     "text": [
      "+-------+----------------------+-------------------+--------------------+------------------+\n",
      "|summary|no_esfera_orcamentaria|id_in_resultado_eof| no_in_resultado_eof|          va_custo|\n",
      "+-------+----------------------+-------------------+--------------------+------------------+\n",
      "|  count|                   250|                250|                 250|               250|\n",
      "|   mean|                  null|              2.624|                null|14559.910119999988|\n",
      "| stddev|                  null| 2.0325227168170863|                null| 104585.6641084334|\n",
      "|    min|  ORCAMENTO DE SEGU...|                  1|DESP.DISC.DECORRE...|              0.39|\n",
      "|    max|      ORCAMENTO FISCAL|                  9|PRIMARIO OBRIGATORIO|        1553663.14|\n",
      "+-------+----------------------+-------------------+--------------------+------------------+\n",
      "\n"
     ]
    }
   ],
   "source": [
    "df_dm.describe([\"no_esfera_orcamentaria\",\"id_in_resultado_eof\",\"no_in_resultado_eof\",\"va_custo\"]).show()"
   ]
  },
  {
   "cell_type": "code",
   "execution_count": 26,
   "metadata": {},
   "outputs": [
    {
     "data": {
      "text/plain": [
       "['MINISTERIO DA JUSTICA E SEGURANCA PUBLICA',\n",
       " 'MINISTERIO DA SAUDE',\n",
       " 'MINISTERIO DO DESENVOLVIMENTO REGIONAL',\n",
       " 'MINISTERIO DO MEIO AMBIENTE',\n",
       " 'MINISTERIO DA CIENCIA, TECNOLOGIA E INOVACOES',\n",
       " 'MINISTERIO DA EDUCACAO',\n",
       " 'MINISTERIO DO TURISMO',\n",
       " 'MINISTERIO DA AGRICULTURA, PECUARIA E ABASTECIMENTO',\n",
       " 'MINISTERIO DE MINAS E ENERGIA',\n",
       " 'MINISTERIO DA ECONOMIA']"
      ]
     },
     "execution_count": 26,
     "metadata": {},
     "output_type": "execute_result"
    }
   ],
   "source": [
    "df_dm.select('ds_siorg_n05').distinct().rdd.map(lambda r: r[0]).collect()\n",
    "# Util para conhecer classes discretas de uma coluna categórica.\n",
    "# Neste caso mostra as organizacoes presentes nestes dados"
   ]
  },
  {
   "cell_type": "code",
   "execution_count": 27,
   "metadata": {},
   "outputs": [
    {
     "data": {
      "text/plain": [
       "['COLEGIO PEDRO II',\n",
       " 'FUNDO NACIONAL DE DESENVOLVIMENTO DA EDUCACAO',\n",
       " 'SUPERINTENDENCIA DO DESENVOLVIMENTO DA AMAZONIA',\n",
       " 'INSTITUTO FEDERAL DE EDUCACAO, CIENCIA E TECNOLOGIA DA BAHIA',\n",
       " 'CENTRO FEDERAL DE EDUCACAO TECNOLOGICA DE MINAS GERAIS',\n",
       " 'INSTITUTO FEDERAL DE EDUCACAO, CIENCIA E TECNOLOGIA DE BRASILIA',\n",
       " 'AGENCIA NACIONAL DE SAUDE SUPLEMENTAR',\n",
       " 'UNIVERSIDADE FEDERAL DE SANTA MARIA',\n",
       " 'UNIVERSIDADE FEDERAL DE ALFENAS',\n",
       " 'INSTITUTO FEDERAL DE EDUCACAO, CIENCIA E TECNOLOGIA DO MATO GROSSO DO SUL',\n",
       " 'INSTITUTO NACIONAL DE COLONIZACAO E REFORMA AGRARIA',\n",
       " 'UNIVERSIDADE DA INTEGRACAO INTERNACIONAL DA LUSOFONIA AFRO-BRASILEIRA',\n",
       " 'UNIVERSIDADE FEDERAL RURAL DE PERNAMBUCO',\n",
       " 'UNIVERSIDADE FEDERAL DO RECONCAVO DA BAHIA',\n",
       " 'DEPARTAMENTO NACIONAL DE OBRAS CONTRA AS SECAS',\n",
       " 'INSTITUTO DO PATRIMONIO HISTORICO E ARTISTICO NACIONAL',\n",
       " 'INSTITUTO NACIONAL DO SEGURO SOCIAL',\n",
       " 'UNIVERSIDADE FEDERAL DE MINAS GERAIS',\n",
       " 'INSTITUTO FEDERAL DE EDUCACAO, CIENCIA E TECNOLOGIA DO PARA',\n",
       " 'INSTITUTO FEDERAL DE EDUCACAO, CIENCIA E TECNOLOGIA DO NORTE DE MINAS GERAIS',\n",
       " 'INSTITUTO FEDERAL DE EDUCACAO, CIENCIA E TECNOLOGIA DO TRIANGULO MINEIRO',\n",
       " 'INSTITUTO FEDERAL DE EDUCACAO, CIENCIA E TECNOLOGIA DE RONDONIA',\n",
       " 'COMISSAO NACIONAL DE ENERGIA NUCLEAR',\n",
       " 'INSTITUTO FEDERAL DE EDUCACAO, CIENCIA E TECNOLOGIA CATARINENSE',\n",
       " 'INSTITUTO BRASILEIRO DE MUSEUS',\n",
       " 'SUPERINTENDENCIA DE SEGUROS PRIVADOS',\n",
       " 'INSTITUTO NACIONAL DE METROLOGIA, QUALIDADE E TECNOLOGIA',\n",
       " 'INSTITUTO CHICO MENDES DE CONSERVACAO DA BIODIVERSIDADE',\n",
       " 'UNIVERSIDADE FEDERAL DO RIO GRANDE DO NORTE',\n",
       " 'INSTITUTO FEDERAL DE EDUCACAO, CIENCIA E TECNOLOGIA DA PARAIBA',\n",
       " 'INSTITUTO FEDERAL DE EDUCACAO, CIENCIA E TECNOLOGIA DE SAO PAULO',\n",
       " 'INSTITUTO FEDERAL DE EDUCACAO, CIENCIA E TECNOLOGIA DE MATO GROSSO',\n",
       " 'AGENCIA NACIONAL DE VIGILANCIA SANITARIA',\n",
       " 'INSTITUTO FEDERAL DE EDUCACAO, CIENCIA E TECNOLOGIA SUDESTE DE MINAS GERAIS',\n",
       " 'INSTITUTO DE PESQUISAS JARDIM BOTANICO DO RIO DE JANEIRO',\n",
       " 'UNIVERSIDADE FEDERAL DOS VALES DO JEQUITINHONHA E MUCURI',\n",
       " 'INSTITUTO FEDERAL DE EDUCACAO, CIENCIA E TECNOLOGIA FLUMINENSE',\n",
       " 'INSTITUTO FEDERAL DE EDUCACAO, CIENCIA E TECNOLOGIA DO RIO GRANDE DO NORTE',\n",
       " 'INSTITUTO FEDERAL DE EDUCACAO, CIENCIA E TECNOLOGIA FARROUPILHA',\n",
       " 'INSTITUTO FEDERAL DE EDUCACAO, CIENCIA E TECNOLOGIA SUL-RIO-GRANDENSE',\n",
       " 'COMISSAO DE VALORES MOBILIARIOS',\n",
       " 'UNIVERSIDADE FEDERAL RURAL DO RIO DE JANEIRO',\n",
       " 'INSTITUTO FEDERAL DE EDUCACAO, CIENCIA E TECNOLOGIA DO ACRE',\n",
       " 'INSTITUTO NACIONAL DA PROPRIEDADE INDUSTRIAL',\n",
       " 'INSTITUTO BRASILEIRO DO MEIO AMBIENTE E DOS RECURSOS NATURAIS RENOVAVEIS',\n",
       " 'INSTITUTO FEDERAL DE EDUCACAO, CIENCIA E TECNOLOGIA DO MARANHAO',\n",
       " 'UNIVERSIDADE TECNOLOGICA FEDERAL DO PARANA',\n",
       " 'SUPERINTENDENCIA DE DESENVOLVIMENTO DO CENTRO-OESTE',\n",
       " 'UNIVERSIDADE FEDERAL FLUMINENSE',\n",
       " 'UNIVERSIDADE FEDERAL DO CEARA',\n",
       " 'UNIVERSIDADE FEDERAL DE ALAGOAS',\n",
       " 'INSTITUTO FEDERAL DE EDUCACAO, CIENCIA E TECNOLOGIA DE PERNAMBUCO',\n",
       " 'INSTITUTO FEDERAL DE EDUCACAO, CIENCIA E TECNOLOGIA DO RIO GRANDE DO SUL',\n",
       " 'UNIVERSIDADE FEDERAL RURAL DO SEMI-ARIDO',\n",
       " 'CONSELHO ADMINISTRATIVO DE DEFESA ECONOMICA',\n",
       " 'INSTITUTO FEDERAL DE EDUCACAO, CIENCIA E TECNOLOGIA DE ALAGOAS',\n",
       " 'UNIVERSIDADE FEDERAL DO RIO DE JANEIRO',\n",
       " 'UNIVERSIDADE FEDERAL DE JUIZ DE FORA',\n",
       " 'INSTITUTO FEDERAL DE EDUCACAO, CIENCIA E TECNOLOGIA DE GOIAS',\n",
       " 'UNIVERSIDADE FEDERAL DE SAO PAULO',\n",
       " 'UNIVERSIDADE FEDERAL DE CAMPINA GRANDE',\n",
       " 'INSTITUTO FEDERAL DE EDUCACAO, CIENCIA E TECNOLOGIA DO PIAUI',\n",
       " 'UNIVERSIDADE FEDERAL DE SANTA CATARINA',\n",
       " 'INSTITUTO FEDERAL DE EDUCACAO, CIENCIA E TECNOLOGIA BAIANO',\n",
       " 'UNIVERSIDADE FEDERAL DO RIO GRANDE DO SUL',\n",
       " 'SUPERINTENDENCIA NACIONAL DE PREVIDENCIA COMPLEMENTAR',\n",
       " 'INSTITUTO FEDERAL DE EDUCACAO, CIENCIA E TECNOLOGIA DO SUL DE MINAS GERAIS',\n",
       " 'UNIVERSIDADE FEDERAL DO PARA',\n",
       " 'AGENCIA NACIONAL DE MINERACAO']"
      ]
     },
     "execution_count": 27,
     "metadata": {},
     "output_type": "execute_result"
    }
   ],
   "source": [
    "df_dm.select('ds_siorg_n06').distinct().rdd.map(lambda r: r[0]).collect()\n",
    "# Util para conhecer classes discretas de uma coluna categórica.\n",
    "# Neste caso mostra as modalidades de aplicacao presentes nestes dados"
   ]
  },
  {
   "cell_type": "code",
   "execution_count": 74,
   "metadata": {},
   "outputs": [
    {
     "data": {
      "text/plain": [
       "250"
      ]
     },
     "execution_count": 74,
     "metadata": {},
     "output_type": "execute_result"
    }
   ],
   "source": [
    "df_dm = spark.sql(\"\"\"\n",
    "                  select distinct *\n",
    "                  from demais\n",
    "                  \"\"\")\n",
    "df_dm.count() # Verificar se tem linhas duplicadas\n",
    "\n",
    "# Retorna 250, isso quer dizer que as linhas sao todas diferentes"
   ]
  },
  {
   "cell_type": "code",
   "execution_count": 29,
   "metadata": {},
   "outputs": [
    {
     "data": {
      "text/plain": [
       "[Row(co_siorg_n05=244, ds_siorg_n05='MINISTERIO DA EDUCACAO', co_siorg_n06=100906, ds_siorg_n06='INSTITUTO FEDERAL DE EDUCACAO, CIENCIA E TECNOLOGIA FARROUPILHA', co_siorg_n07=-9, ds_siorg_n07='NAO SE APLICA', me_referencia=2, an_referencia=2021, sg_mes_completo='MAR/2021', me_emissao=3, an_emissao=2021, co_situacao_icc='DSP001', no_situacao_icc='AQUISICAO DE SERVICOS - PESSOAS JURIDICAS', id_natureza_juridica_siorg=4, ds_natureza_juridica_siorg='AUTARQUIA', id_categoria_economica_nade=3, id_grupo_despesa_nade=3, id_moap_nade=90, id_elemento_despesa_nade=39, id_subitem_nade=47, co_natureza_despesa_deta=33903947, no_natureza_despesa_deta='SERVICOS DE COMUNICACAO EM GERAL', id_esfera_orcamentaria=1, no_esfera_orcamentaria='ORCAMENTO FISCAL', id_in_resultado_eof=2, no_in_resultado_eof='PRIMARIO DISCRICIONARIO', va_custo=49.09)]"
      ]
     },
     "execution_count": 29,
     "metadata": {},
     "output_type": "execute_result"
    }
   ],
   "source": [
    "df_dm.head(1)"
   ]
  },
  {
   "cell_type": "code",
   "execution_count": 161,
   "metadata": {},
   "outputs": [
    {
     "data": {
      "text/plain": [
       "0"
      ]
     },
     "execution_count": 161,
     "metadata": {},
     "output_type": "execute_result"
    }
   ],
   "source": [
    "df_dm_unique = spark.sql(\"\"\"\n",
    "                  select co_siorg_n05 || '-' ||ds_siorg_n05 || '-' || co_siorg_n06 || '-' ||ds_siorg_n06 || '-' || co_siorg_n07 || '-' || \n",
    "                  ds_siorg_n07 || me_referencia || an_referencia  || sg_mes_completo  || va_custo   as id, \n",
    "                  count( 1)\n",
    "                  from demais\n",
    "                  group by 1\n",
    "                  having count(1) > 1\n",
    "                  \"\"\")\n",
    "# Encontrando a chave primária através de:\n",
    "# 1- co_siorg_n05\n",
    "# 2- ds_siorg_n05\n",
    "# 3- co_siorg_n06\n",
    "# 4- ds_siorg_n06\n",
    "# 5- co_siorg_n07\n",
    "# 6- ds_siorg_n07\n",
    "# 7- me_referencia\n",
    "# 8- an_referencia\n",
    "# 9- sg_mes_completo\n",
    "# 10 - va_custo\n",
    "\n",
    "df_dm_unique.count()"
   ]
  },
  {
   "cell_type": "code",
   "execution_count": 162,
   "metadata": {},
   "outputs": [
    {
     "name": "stdout",
     "output_type": "stream",
     "text": [
      "+------------+--------------------+-----+\n",
      "|co_siorg_n05|        ds_siorg_n05|count|\n",
      "+------------+--------------------+-----+\n",
      "|      235881|MINISTERIO DA JUS...|    1|\n",
      "|      267175|MINISTERIO DA CIE...|    1|\n",
      "|      235880|MINISTERIO DO DES...|    4|\n",
      "|          14|MINISTERIO DA AGR...|    5|\n",
      "|        2852|MINISTERIO DE MIN...|    5|\n",
      "|        1927|MINISTERIO DO MEI...|    6|\n",
      "|       72084|MINISTERIO DO TUR...|   10|\n",
      "|      235876|MINISTERIO DA ECO...|   13|\n",
      "|         304| MINISTERIO DA SAUDE|   27|\n",
      "|         244|MINISTERIO DA EDU...|  178|\n",
      "+------------+--------------------+-----+\n",
      "\n"
     ]
    }
   ],
   "source": [
    "df_dm.groupBy([\"co_siorg_n05\",\"ds_siorg_n05\"]).count().sort(\"count\", ascending=True).show()\n",
    "# Mostra a quantidade de descricao por natureza juridica"
   ]
  },
  {
   "cell_type": "code",
   "execution_count": null,
   "metadata": {},
   "outputs": [],
   "source": [
    "# TODO carregar postgres"
   ]
  }
 ],
 "metadata": {
  "kernelspec": {
   "display_name": "Python 3",
   "language": "python",
   "name": "python3"
  },
  "language_info": {
   "codemirror_mode": {
    "name": "ipython",
    "version": 3
   },
   "file_extension": ".py",
   "mimetype": "text/x-python",
   "name": "python",
   "nbconvert_exporter": "python",
   "pygments_lexer": "ipython3",
   "version": "3.8.8"
  }
 },
 "nbformat": 4,
 "nbformat_minor": 2
}
