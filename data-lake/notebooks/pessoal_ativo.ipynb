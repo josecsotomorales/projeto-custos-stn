{
 "cells": [
  {
   "cell_type": "code",
   "execution_count": 1,
   "metadata": {},
   "outputs": [],
   "source": [
    "import os\n",
    "from pyspark.sql import SparkSession\n",
    "from pyspark.sql.functions import *"
   ]
  },
  {
   "cell_type": "code",
   "execution_count": 24,
   "metadata": {},
   "outputs": [],
   "source": [
    "# criar spark session\n",
    "spark = SparkSession \\\n",
    "    .builder \\\n",
    "    .config('spark.jars.packages', 'org.apache.hadoop:hadoop-aws:3.2.0') \\\n",
    "    .config('spark.hadoop.fs.s3a.access.key', '') \\\n",
    "    .config('spark.hadoop.fs.s3a.secret.key', '') \\\n",
    "    .appName('spark etl - pessoal ativo') \\\n",
    "    .getOrCreate()\n",
    "\n",
    "# ler arquivos no s3\n",
    "df = spark.read.csv('s3a://custos-stn-bucket/pessoal_ativo/pessoal_ativo_1500.csv', header=True, inferSchema=True)"
   ]
  },
  {
   "cell_type": "code",
   "execution_count": 25,
   "metadata": {
    "scrolled": false
   },
   "outputs": [
    {
     "name": "stdout",
     "output_type": "stream",
     "text": [
      "root\n",
      " |-- co_natureza_juridica: integer (nullable = true)\n",
      " |-- ds_natureza_juridica: string (nullable = true)\n",
      " |-- co_organizacao_n1: integer (nullable = true)\n",
      " |-- ds_organizacao_n1: string (nullable = true)\n",
      " |-- co_organizacao_n2: integer (nullable = true)\n",
      " |-- ds_organizacao_n2: string (nullable = true)\n",
      " |-- co_organizacao_n3: integer (nullable = true)\n",
      " |-- ds_organizacao_n3: string (nullable = true)\n",
      " |-- co_organizacao_n4: integer (nullable = true)\n",
      " |-- ds_organizacao_n4: string (nullable = true)\n",
      " |-- co_organizacao_n5: integer (nullable = true)\n",
      " |-- ds_organizacao_n5: string (nullable = true)\n",
      " |-- co_organizacao_n6: integer (nullable = true)\n",
      " |-- ds_organizacao_n6: string (nullable = true)\n",
      " |-- an_lanc: integer (nullable = true)\n",
      " |-- me_lanc: integer (nullable = true)\n",
      " |-- in_area_atuacao: integer (nullable = true)\n",
      " |-- ds_area_atuacao: string (nullable = true)\n",
      " |-- in_escolaridade: integer (nullable = true)\n",
      " |-- ds_escolaridade: string (nullable = true)\n",
      " |-- in_faixa_etaria: integer (nullable = true)\n",
      " |-- ds_faixa_etaria: string (nullable = true)\n",
      " |-- in_sexo: string (nullable = true)\n",
      " |-- in_forca_trabalho: integer (nullable = true)\n",
      " |-- va_custo_de_pessoal: double (nullable = true)\n",
      "\n"
     ]
    }
   ],
   "source": [
    "# schema\n",
    "df.printSchema()"
   ]
  },
  {
   "cell_type": "code",
   "execution_count": 26,
   "metadata": {},
   "outputs": [
    {
     "data": {
      "text/plain": [
       "250"
      ]
     },
     "execution_count": 26,
     "metadata": {},
     "output_type": "execute_result"
    }
   ],
   "source": [
    "# contagem de linhas\n",
    "df.count()"
   ]
  },
  {
   "cell_type": "code",
   "execution_count": 27,
   "metadata": {},
   "outputs": [
    {
     "name": "stdout",
     "output_type": "stream",
     "text": [
      "+--------------------+--------------------+-----------------+--------------------+-----------------+--------------------+-----------------+-----------------+-----------------+--------------------+-----------------+--------------------+-----------------+--------------------+-------+-------+---------------+---------------+---------------+--------------------+---------------+----------------+-------+-----------------+-------------------+\n",
      "|co_natureza_juridica|ds_natureza_juridica|co_organizacao_n1|   ds_organizacao_n1|co_organizacao_n2|   ds_organizacao_n2|co_organizacao_n3|ds_organizacao_n3|co_organizacao_n4|   ds_organizacao_n4|co_organizacao_n5|   ds_organizacao_n5|co_organizacao_n6|   ds_organizacao_n6|an_lanc|me_lanc|in_area_atuacao|ds_area_atuacao|in_escolaridade|     ds_escolaridade|in_faixa_etaria| ds_faixa_etaria|in_sexo|in_forca_trabalho|va_custo_de_pessoal|\n",
      "+--------------------+--------------------+-----------------+--------------------+-----------------+--------------------+-----------------+-----------------+-----------------+--------------------+-----------------+--------------------+-----------------+--------------------+-------+-------+---------------+---------------+---------------+--------------------+---------------+----------------+-------+-----------------+-------------------+\n",
      "|                   2|    FUNDACAO PUBLICA|              244|MINISTERIO DA EDU...|              470|FUNDACAO UNIVERSI...|             6337|         REITORIA|            24233|DECANATO DE ASSUN...|            24268|DIRETORIA DE DESE...|            43310|SERVICO DE ATENDI...|   2015|      2|             -8| SEM INFORMACAO|             10|SUP COMPL OU HAB ...|             12|ACIMA DE 65 ANOS|      M|                1|                0.0|\n",
      "|                   2|    FUNDACAO PUBLICA|              244|MINISTERIO DA EDU...|              470|FUNDACAO UNIVERSI...|             6337|         REITORIA|            24233|DECANATO DE ASSUN...|            24268|DIRETORIA DE DESE...|            43310|SERVICO DE ATENDI...|   2015|      3|             -8| SEM INFORMACAO|             10|SUP COMPL OU HAB ...|             12|ACIMA DE 65 ANOS|      M|                1|                0.0|\n",
      "|                   2|    FUNDACAO PUBLICA|              244|MINISTERIO DA EDU...|              470|FUNDACAO UNIVERSI...|             6337|         REITORIA|            24233|DECANATO DE ASSUN...|            24268|DIRETORIA DE DESE...|            43310|SERVICO DE ATENDI...|   2015|      4|             -8| SEM INFORMACAO|             10|SUP COMPL OU HAB ...|             12|ACIMA DE 65 ANOS|      M|                1|                0.0|\n",
      "|                   2|    FUNDACAO PUBLICA|              244|MINISTERIO DA EDU...|              470|FUNDACAO UNIVERSI...|             6337|         REITORIA|            24233|DECANATO DE ASSUN...|            24268|DIRETORIA DE DESE...|            43310|SERVICO DE ATENDI...|   2015|      5|             -8| SEM INFORMACAO|             10|SUP COMPL OU HAB ...|             12|ACIMA DE 65 ANOS|      M|                1|                0.0|\n",
      "|                   2|    FUNDACAO PUBLICA|              244|MINISTERIO DA EDU...|              470|FUNDACAO UNIVERSI...|             6337|         REITORIA|            24233|DECANATO DE ASSUN...|            24268|DIRETORIA DE DESE...|            43310|SERVICO DE ATENDI...|   2015|      6|             -8| SEM INFORMACAO|             10|SUP COMPL OU HAB ...|             12|ACIMA DE 65 ANOS|      M|                1|                0.0|\n",
      "+--------------------+--------------------+-----------------+--------------------+-----------------+--------------------+-----------------+-----------------+-----------------+--------------------+-----------------+--------------------+-----------------+--------------------+-------+-------+---------------+---------------+---------------+--------------------+---------------+----------------+-------+-----------------+-------------------+\n",
      "only showing top 5 rows\n",
      "\n"
     ]
    }
   ],
   "source": [
    "# emprimir primeiras 5 linhas\n",
    "df.show(5)"
   ]
  },
  {
   "cell_type": "code",
   "execution_count": 28,
   "metadata": {},
   "outputs": [],
   "source": [
    "# criar view para spark sql\n",
    "df.createOrReplaceTempView(\"pessoal_ativo\")"
   ]
  },
  {
   "cell_type": "code",
   "execution_count": 29,
   "metadata": {},
   "outputs": [
    {
     "name": "stdout",
     "output_type": "stream",
     "text": [
      "root\n",
      " |-- co_natureza_juridica: integer (nullable = true)\n",
      " |-- ds_natureza_juridica: string (nullable = true)\n",
      " |-- co_organizacao_n1: integer (nullable = true)\n",
      " |-- ds_organizacao_n1: string (nullable = true)\n",
      " |-- co_organizacao_n2: integer (nullable = true)\n",
      " |-- ds_organizacao_n2: string (nullable = true)\n",
      " |-- co_organizacao_n3: integer (nullable = true)\n",
      " |-- ds_organizacao_n3: string (nullable = true)\n",
      " |-- co_organizacao_n4: integer (nullable = true)\n",
      " |-- ds_organizacao_n4: string (nullable = true)\n",
      " |-- co_organizacao_n5: integer (nullable = true)\n",
      " |-- ds_organizacao_n5: string (nullable = true)\n",
      " |-- co_organizacao_n6: integer (nullable = true)\n",
      " |-- ds_organizacao_n6: string (nullable = true)\n",
      " |-- an_lanc: integer (nullable = true)\n",
      " |-- me_lanc: integer (nullable = true)\n",
      " |-- in_area_atuacao: integer (nullable = true)\n",
      " |-- ds_area_atuacao: string (nullable = true)\n",
      " |-- in_escolaridade: integer (nullable = true)\n",
      " |-- ds_escolaridade: string (nullable = true)\n",
      " |-- in_faixa_etaria: integer (nullable = true)\n",
      " |-- ds_faixa_etaria: string (nullable = true)\n",
      " |-- in_sexo: string (nullable = true)\n",
      " |-- in_forca_trabalho: integer (nullable = true)\n",
      " |-- va_custo_de_pessoal: double (nullable = true)\n",
      "\n"
     ]
    }
   ],
   "source": [
    "\n",
    "df_pa = spark.sql(\"\"\"\n",
    "                  select *\n",
    "                  from pessoal_ativo\n",
    "                  \"\"\")\n",
    "\n",
    "df_pa.printSchema()\n"
   ]
  },
  {
   "cell_type": "code",
   "execution_count": 30,
   "metadata": {},
   "outputs": [
    {
     "name": "stdout",
     "output_type": "stream",
     "text": [
      "+--------------------+--------------------+-----------------+--------------------+-----------------+--------------------+-----------------+-----------------+-----------------+--------------------+-----------------+--------------------+-----------------+--------------------+-------+-------+---------------+---------------+---------------+--------------------+---------------+----------------+-------+-----------------+-------------------+\n",
      "|co_natureza_juridica|ds_natureza_juridica|co_organizacao_n1|   ds_organizacao_n1|co_organizacao_n2|   ds_organizacao_n2|co_organizacao_n3|ds_organizacao_n3|co_organizacao_n4|   ds_organizacao_n4|co_organizacao_n5|   ds_organizacao_n5|co_organizacao_n6|   ds_organizacao_n6|an_lanc|me_lanc|in_area_atuacao|ds_area_atuacao|in_escolaridade|     ds_escolaridade|in_faixa_etaria| ds_faixa_etaria|in_sexo|in_forca_trabalho|va_custo_de_pessoal|\n",
      "+--------------------+--------------------+-----------------+--------------------+-----------------+--------------------+-----------------+-----------------+-----------------+--------------------+-----------------+--------------------+-----------------+--------------------+-------+-------+---------------+---------------+---------------+--------------------+---------------+----------------+-------+-----------------+-------------------+\n",
      "|                   2|    FUNDACAO PUBLICA|              244|MINISTERIO DA EDU...|              470|FUNDACAO UNIVERSI...|             6337|         REITORIA|            24233|DECANATO DE ASSUN...|            24268|DIRETORIA DE DESE...|            43310|SERVICO DE ATENDI...|   2015|      2|             -8| SEM INFORMACAO|             10|SUP COMPL OU HAB ...|             12|ACIMA DE 65 ANOS|      M|                1|                0.0|\n",
      "|                   2|    FUNDACAO PUBLICA|              244|MINISTERIO DA EDU...|              470|FUNDACAO UNIVERSI...|             6337|         REITORIA|            24233|DECANATO DE ASSUN...|            24268|DIRETORIA DE DESE...|            43310|SERVICO DE ATENDI...|   2015|      3|             -8| SEM INFORMACAO|             10|SUP COMPL OU HAB ...|             12|ACIMA DE 65 ANOS|      M|                1|                0.0|\n",
      "|                   2|    FUNDACAO PUBLICA|              244|MINISTERIO DA EDU...|              470|FUNDACAO UNIVERSI...|             6337|         REITORIA|            24233|DECANATO DE ASSUN...|            24268|DIRETORIA DE DESE...|            43310|SERVICO DE ATENDI...|   2015|      4|             -8| SEM INFORMACAO|             10|SUP COMPL OU HAB ...|             12|ACIMA DE 65 ANOS|      M|                1|                0.0|\n",
      "|                   2|    FUNDACAO PUBLICA|              244|MINISTERIO DA EDU...|              470|FUNDACAO UNIVERSI...|             6337|         REITORIA|            24233|DECANATO DE ASSUN...|            24268|DIRETORIA DE DESE...|            43310|SERVICO DE ATENDI...|   2015|      5|             -8| SEM INFORMACAO|             10|SUP COMPL OU HAB ...|             12|ACIMA DE 65 ANOS|      M|                1|                0.0|\n",
      "|                   2|    FUNDACAO PUBLICA|              244|MINISTERIO DA EDU...|              470|FUNDACAO UNIVERSI...|             6337|         REITORIA|            24233|DECANATO DE ASSUN...|            24268|DIRETORIA DE DESE...|            43310|SERVICO DE ATENDI...|   2015|      6|             -8| SEM INFORMACAO|             10|SUP COMPL OU HAB ...|             12|ACIMA DE 65 ANOS|      M|                1|                0.0|\n",
      "|                   2|    FUNDACAO PUBLICA|              244|MINISTERIO DA EDU...|              470|FUNDACAO UNIVERSI...|             6337|         REITORIA|            24233|DECANATO DE ASSUN...|            24268|DIRETORIA DE DESE...|            43310|SERVICO DE ATENDI...|   2015|      7|             -8| SEM INFORMACAO|             10|SUP COMPL OU HAB ...|             12|ACIMA DE 65 ANOS|      M|                1|                0.0|\n",
      "|                   2|    FUNDACAO PUBLICA|              244|MINISTERIO DA EDU...|              470|FUNDACAO UNIVERSI...|             6337|         REITORIA|            24233|DECANATO DE ASSUN...|            24268|DIRETORIA DE DESE...|            43310|SERVICO DE ATENDI...|   2015|      8|             -8| SEM INFORMACAO|             10|SUP COMPL OU HAB ...|             12|ACIMA DE 65 ANOS|      M|                1|                0.0|\n",
      "|                   2|    FUNDACAO PUBLICA|              244|MINISTERIO DA EDU...|              470|FUNDACAO UNIVERSI...|             6337|         REITORIA|            24234|DECANATO DE ADMIN...|               -9|       NAO SE APLICA|               -9|       NAO SE APLICA|   2015|     10|             -8| SEM INFORMACAO|             10|SUP COMPL OU HAB ...|              6|    36 A 40 ANOS|      F|                2|           17513.68|\n",
      "|                   2|    FUNDACAO PUBLICA|              244|MINISTERIO DA EDU...|              470|FUNDACAO UNIVERSI...|             6337|         REITORIA|            24234|DECANATO DE ADMIN...|               -9|       NAO SE APLICA|               -9|       NAO SE APLICA|   2015|     11|             -8| SEM INFORMACAO|             10|SUP COMPL OU HAB ...|              6|    36 A 40 ANOS|      F|                2|           17513.68|\n",
      "|                   2|    FUNDACAO PUBLICA|              244|MINISTERIO DA EDU...|              470|FUNDACAO UNIVERSI...|             6337|         REITORIA|            24234|DECANATO DE ADMIN...|               -9|       NAO SE APLICA|               -9|       NAO SE APLICA|   2015|     12|             -8| SEM INFORMACAO|             10|SUP COMPL OU HAB ...|              6|    36 A 40 ANOS|      F|                2|           17588.58|\n",
      "|                   2|    FUNDACAO PUBLICA|              244|MINISTERIO DA EDU...|              470|FUNDACAO UNIVERSI...|             6337|         REITORIA|            24234|DECANATO DE ADMIN...|               -9|       NAO SE APLICA|               -9|       NAO SE APLICA|   2015|      1|             -8| SEM INFORMACAO|             10|SUP COMPL OU HAB ...|              7|    41 A 45 ANOS|      F|                1|            7909.27|\n",
      "|                   2|    FUNDACAO PUBLICA|              244|MINISTERIO DA EDU...|              470|FUNDACAO UNIVERSI...|             6337|         REITORIA|            24234|DECANATO DE ADMIN...|               -9|       NAO SE APLICA|               -9|       NAO SE APLICA|   2015|      2|             -8| SEM INFORMACAO|             10|SUP COMPL OU HAB ...|              7|    41 A 45 ANOS|      F|                1|            7920.37|\n",
      "|                   2|    FUNDACAO PUBLICA|              244|MINISTERIO DA EDU...|              470|FUNDACAO UNIVERSI...|             6337|         REITORIA|            24234|DECANATO DE ADMIN...|               -9|       NAO SE APLICA|               -9|       NAO SE APLICA|   2015|      3|             -8| SEM INFORMACAO|             10|SUP COMPL OU HAB ...|              7|    41 A 45 ANOS|      F|                1|            8240.35|\n",
      "|                   2|    FUNDACAO PUBLICA|              244|MINISTERIO DA EDU...|              470|FUNDACAO UNIVERSI...|             6337|         REITORIA|            24234|DECANATO DE ADMIN...|               -9|       NAO SE APLICA|               -9|       NAO SE APLICA|   2015|      4|             -8| SEM INFORMACAO|             10|SUP COMPL OU HAB ...|              7|    41 A 45 ANOS|      F|                1|            8240.35|\n",
      "|                   2|    FUNDACAO PUBLICA|              244|MINISTERIO DA EDU...|              470|FUNDACAO UNIVERSI...|             6337|         REITORIA|            24234|DECANATO DE ADMIN...|               -9|       NAO SE APLICA|               -9|       NAO SE APLICA|   2015|      5|             -8| SEM INFORMACAO|             10|SUP COMPL OU HAB ...|              7|    41 A 45 ANOS|      F|                1|            8240.35|\n",
      "|                   2|    FUNDACAO PUBLICA|              244|MINISTERIO DA EDU...|              470|FUNDACAO UNIVERSI...|             6337|         REITORIA|            24234|DECANATO DE ADMIN...|               -9|       NAO SE APLICA|               -9|       NAO SE APLICA|   2015|      6|             -8| SEM INFORMACAO|             10|SUP COMPL OU HAB ...|              7|    41 A 45 ANOS|      F|                1|            8240.35|\n",
      "|                   2|    FUNDACAO PUBLICA|              244|MINISTERIO DA EDU...|              470|FUNDACAO UNIVERSI...|             6337|         REITORIA|            24234|DECANATO DE ADMIN...|               -9|       NAO SE APLICA|               -9|       NAO SE APLICA|   2015|      7|             -8| SEM INFORMACAO|             10|SUP COMPL OU HAB ...|              7|    41 A 45 ANOS|      F|                1|            8240.35|\n",
      "|                   2|    FUNDACAO PUBLICA|              244|MINISTERIO DA EDU...|              470|FUNDACAO UNIVERSI...|             6337|         REITORIA|            24234|DECANATO DE ADMIN...|               -9|       NAO SE APLICA|               -9|       NAO SE APLICA|   2015|      1|             -8| SEM INFORMACAO|             10|SUP COMPL OU HAB ...|              8|    46 A 50 ANOS|      F|                2|           17092.39|\n",
      "|                   2|    FUNDACAO PUBLICA|              244|MINISTERIO DA EDU...|              470|FUNDACAO UNIVERSI...|             6337|         REITORIA|            24234|DECANATO DE ADMIN...|               -9|       NAO SE APLICA|               -9|       NAO SE APLICA|   2015|      2|             -8| SEM INFORMACAO|             10|SUP COMPL OU HAB ...|              8|    46 A 50 ANOS|      F|                2|           17162.99|\n",
      "|                   2|    FUNDACAO PUBLICA|              244|MINISTERIO DA EDU...|              470|FUNDACAO UNIVERSI...|             6337|         REITORIA|            24234|DECANATO DE ADMIN...|               -9|       NAO SE APLICA|               -9|       NAO SE APLICA|   2015|      3|             -8| SEM INFORMACAO|             10|SUP COMPL OU HAB ...|              8|    46 A 50 ANOS|      F|                2|            17791.1|\n",
      "+--------------------+--------------------+-----------------+--------------------+-----------------+--------------------+-----------------+-----------------+-----------------+--------------------+-----------------+--------------------+-----------------+--------------------+-------+-------+---------------+---------------+---------------+--------------------+---------------+----------------+-------+-----------------+-------------------+\n",
      "only showing top 20 rows\n",
      "\n"
     ]
    }
   ],
   "source": [
    "df_pa.show()"
   ]
  },
  {
   "cell_type": "code",
   "execution_count": 31,
   "metadata": {},
   "outputs": [
    {
     "data": {
      "text/plain": [
       "[Row(co_natureza_juridica=2, ds_natureza_juridica='FUNDACAO PUBLICA', co_organizacao_n1=244, ds_organizacao_n1='MINISTERIO DA EDUCACAO', co_organizacao_n2=470, ds_organizacao_n2='FUNDACAO UNIVERSIDADE DE BRASILIA', co_organizacao_n3=6337, ds_organizacao_n3='REITORIA', co_organizacao_n4=24233, ds_organizacao_n4='DECANATO DE ASSUNTOS COMUNITARIOS', co_organizacao_n5=24268, ds_organizacao_n5='DIRETORIA DE DESENVOLVIMENTO SOCIAL', co_organizacao_n6=43310, ds_organizacao_n6='SERVICO DE ATENDIMENTO MEDICO', an_lanc=2015, me_lanc=2, in_area_atuacao=-8, ds_area_atuacao='SEM INFORMACAO', in_escolaridade=10, ds_escolaridade='SUP COMPL OU HAB LEGAL EQV', in_faixa_etaria=12, ds_faixa_etaria='ACIMA DE 65 ANOS', in_sexo='M', in_forca_trabalho=1, va_custo_de_pessoal=0.0)]"
      ]
     },
     "execution_count": 31,
     "metadata": {},
     "output_type": "execute_result"
    }
   ],
   "source": [
    "df_pa.head(1) # Mostra o cabeçalho da primeira linha"
   ]
  },
  {
   "cell_type": "code",
   "execution_count": 32,
   "metadata": {},
   "outputs": [
    {
     "name": "stdout",
     "output_type": "stream",
     "text": [
      "+-------+--------------------+--------------------+-----------------+--------------------+------------------+\n",
      "|summary|co_natureza_juridica|ds_natureza_juridica|co_organizacao_n1|   ds_organizacao_n1| co_organizacao_n2|\n",
      "+-------+--------------------+--------------------+-----------------+--------------------+------------------+\n",
      "|  count|                 250|                 250|              250|                 250|               250|\n",
      "|   mean|                 2.0|                null|            244.0|                null|           468.256|\n",
      "| stddev|                 0.0|                null|              0.0|                null|1.2183602120988661|\n",
      "|    min|                   2|    FUNDACAO PUBLICA|              244|MINISTERIO DA EDU...|               467|\n",
      "|    max|                   2|    FUNDACAO PUBLICA|              244|MINISTERIO DA EDU...|               470|\n",
      "+-------+--------------------+--------------------+-----------------+--------------------+------------------+\n",
      "\n"
     ]
    }
   ],
   "source": [
    "\n",
    "df_pa.describe([\"co_natureza_juridica\",\"ds_natureza_juridica\",\"co_organizacao_n1\",\"ds_organizacao_n1\",\"co_organizacao_n2\"]).show()"
   ]
  },
  {
   "cell_type": "code",
   "execution_count": 33,
   "metadata": {},
   "outputs": [
    {
     "name": "stdout",
     "output_type": "stream",
     "text": [
      "+-------+--------------------+------------------+--------------------+------------------+--------------------+-----------------+\n",
      "|summary|   ds_organizacao_n2| co_organizacao_n3|   ds_organizacao_n3| co_organizacao_n4|   ds_organizacao_n4|co_organizacao_n5|\n",
      "+-------+--------------------+------------------+--------------------+------------------+--------------------+-----------------+\n",
      "|  count|                 250|               250|                 250|               250|                 250|              250|\n",
      "|   mean|                null|         26171.248|                null|         25457.292|                null|         5511.176|\n",
      "| stddev|                null|25140.790158179327|                null|16891.587002189768|                null|11831.53055925234|\n",
      "|    min|FUNDACAO UNIVERSI...|                -9|CENTRO DE CIENCIA...|                -9|ASSESSORIA DE ASS...|               -9|\n",
      "|    max|FUNDACAO UNIVERSI...|             61421|            REITORIA|             61427|PRO-REITORIA DE P...|            37535|\n",
      "+-------+--------------------+------------------+--------------------+------------------+--------------------+-----------------+\n",
      "\n"
     ]
    }
   ],
   "source": [
    "\n",
    "df_pa.describe([\"ds_organizacao_n2\",\"co_organizacao_n3\",\"ds_organizacao_n3\",\"co_organizacao_n4\",\"ds_organizacao_n4\",\"co_organizacao_n5\"]).show()"
   ]
  },
  {
   "cell_type": "code",
   "execution_count": 34,
   "metadata": {},
   "outputs": [
    {
     "name": "stdout",
     "output_type": "stream",
     "text": [
      "+-------+--------------------+------------------+--------------------+-------+------------------+---------------+\n",
      "|summary|   ds_organizacao_n5| co_organizacao_n6|   ds_organizacao_n6|an_lanc|           me_lanc|in_area_atuacao|\n",
      "+-------+--------------------+------------------+--------------------+-------+------------------+---------------+\n",
      "|  count|                 250|               250|                 250|    250|               250|            250|\n",
      "|   mean|                null|          4980.948|                null| 2015.0|             6.236|           -8.0|\n",
      "| stddev|                null|14710.212231264764|                null|    0.0|3.5652697786251064|            0.0|\n",
      "|    min|COORDENADORIA DE ...|                -9|       NAO SE APLICA|   2015|                 1|             -8|\n",
      "|    max|       NAO SE APLICA|             50044|SERVICOS DE DIPLO...|   2015|                12|             -8|\n",
      "+-------+--------------------+------------------+--------------------+-------+------------------+---------------+\n",
      "\n"
     ]
    }
   ],
   "source": [
    "df_pa.describe([\"ds_organizacao_n5\",\"co_organizacao_n6\",\"ds_organizacao_n6\",\"an_lanc\",\"me_lanc\",\"in_area_atuacao\"]).show()"
   ]
  },
  {
   "cell_type": "code",
   "execution_count": 35,
   "metadata": {},
   "outputs": [
    {
     "name": "stdout",
     "output_type": "stream",
     "text": [
      "+-------+---------------+-----------------+--------------------+------------------+----------------+-------+\n",
      "|summary|ds_area_atuacao|  in_escolaridade|     ds_escolaridade|   in_faixa_etaria| ds_faixa_etaria|in_sexo|\n",
      "+-------+---------------+-----------------+--------------------+------------------+----------------+-------+\n",
      "|  count|            250|              250|                 250|               250|             250|    250|\n",
      "|   mean|           null|           19.012|                null|             7.112|            null|   null|\n",
      "| stddev|           null|8.177489918395612|                null|2.3049309810294183|            null|   null|\n",
      "|    min| SEM INFORMACAO|                6|1O GR COMPL - 8A ...|                 3|    19 A 25 ANOS|      F|\n",
      "|    max| SEM INFORMACAO|               27|SUP COMPL OU HAB ...|                12|ACIMA DE 65 ANOS|      M|\n",
      "+-------+---------------+-----------------+--------------------+------------------+----------------+-------+\n",
      "\n"
     ]
    }
   ],
   "source": [
    "df_pa.describe([\"ds_area_atuacao\",\"in_escolaridade\",\"ds_escolaridade\",\"in_faixa_etaria\",\"ds_faixa_etaria\",\"in_sexo\"]).show()"
   ]
  },
  {
   "cell_type": "code",
   "execution_count": 20,
   "metadata": {},
   "outputs": [
    {
     "name": "stdout",
     "output_type": "stream",
     "text": [
      "+-------+-----------------+-------------------+\n",
      "|summary|in_forca_trabalho|va_custo_de_pessoal|\n",
      "+-------+-----------------+-------------------+\n",
      "|  count|              250|                250|\n",
      "|   mean|          612.448|  4326026.909200001|\n",
      "| stddev| 921.245746910564|  7501645.848585117|\n",
      "|    min|                1|                0.0|\n",
      "|    max|             4154|      3.965909554E7|\n",
      "+-------+-----------------+-------------------+\n",
      "\n"
     ]
    }
   ],
   "source": [
    "df_pa.describe([\"in_forca_trabalho\",\"va_custo_de_pessoal\"]).show()"
   ]
  },
  {
   "cell_type": "code",
   "execution_count": 23,
   "metadata": {},
   "outputs": [
    {
     "data": {
      "text/plain": [
       "['1O GR COMPL - 8A SER COMPL',\n",
       " '2O GR INCOMPLETO',\n",
       " 'SUPERIOR INCOMPLETO',\n",
       " 'ALFABETIZ S/ CURSOS REGUL',\n",
       " '1O GR INC - 4A SERIE COMPL',\n",
       " '1O GR INC - 5A A 8A SER INC',\n",
       " '2O GR COMPL OU TEC PROFISS',\n",
       " 'ANALFABETO']"
      ]
     },
     "execution_count": 23,
     "metadata": {},
     "output_type": "execute_result"
    }
   ],
   "source": [
    "df_pa.select('ds_escolaridade').distinct().rdd.map(lambda r: r[0]).collect()\n",
    "# Util para conhecer classes discretas de uma coluna categórica.\n",
    "# Neste caso mostra as organizacoes presentes nestes dados"
   ]
  },
  {
   "cell_type": "code",
   "execution_count": 36,
   "metadata": {},
   "outputs": [
    {
     "data": {
      "text/plain": [
       "['DIRETORIA DE RECURSOS MATERIAIS E COMUNICACAO ADMINISTRATIVA',\n",
       " 'DIRETORIA DE CONTABILIDADE E FINANCAS',\n",
       " 'DIRETORIA DE DESENVOLVIMENTO SOCIAL',\n",
       " 'COORDENADORIA DE ESTATISTICA E DOCUMENTACAO DE ENSINO',\n",
       " 'NAO SE APLICA']"
      ]
     },
     "execution_count": 36,
     "metadata": {},
     "output_type": "execute_result"
    }
   ],
   "source": [
    "df_pa.select('ds_organizacao_n5').distinct().rdd.map(lambda r: r[0]).collect()\n",
    "# Util para conhecer classes discretas de uma coluna categórica.\n",
    "# Neste caso mostra as modalidades de aplicacao presentes nestes dados"
   ]
  },
  {
   "cell_type": "code",
   "execution_count": 37,
   "metadata": {},
   "outputs": [
    {
     "data": {
      "text/plain": [
       "250"
      ]
     },
     "execution_count": 37,
     "metadata": {},
     "output_type": "execute_result"
    }
   ],
   "source": [
    "df_pa = spark.sql(\"\"\"\n",
    "                  select distinct *\n",
    "                  from pessoal_ativo\n",
    "                  \"\"\")\n",
    "df_tf.count() # Verificar se tem linhas duplicadas\n",
    "\n",
    "# Retorna 250, isso quer dizer que as linhas sao todas diferentes"
   ]
  },
  {
   "cell_type": "code",
   "execution_count": 38,
   "metadata": {},
   "outputs": [
    {
     "data": {
      "text/plain": [
       "[Row(co_natureza_juridica=2, ds_natureza_juridica='FUNDACAO PUBLICA', co_organizacao_n1=244, ds_organizacao_n1='MINISTERIO DA EDUCACAO', co_organizacao_n2=467, ds_organizacao_n2='FUNDACAO UNIVERSIDADE FEDERAL DO MARANHAO', co_organizacao_n3=61421, ds_organizacao_n3='CENTRO DE CIENCIAS EXATAS E TECNOLOGIA', co_organizacao_n4=32331, ds_organizacao_n4='DEPARTAMENTO DE MATEMATICA', co_organizacao_n5=-9, ds_organizacao_n5='NAO SE APLICA', co_organizacao_n6=-9, ds_organizacao_n6='NAO SE APLICA', an_lanc=2015, me_lanc=5, in_area_atuacao=-8, ds_area_atuacao='SEM INFORMACAO', in_escolaridade=25, ds_escolaridade='ESPECIALIZACAO NIV SUP(T)', in_faixa_etaria=4, ds_faixa_etaria='26 A 30 ANOS', in_sexo='F', in_forca_trabalho=1, va_custo_de_pessoal=4525.95)]"
      ]
     },
     "execution_count": 38,
     "metadata": {},
     "output_type": "execute_result"
    }
   ],
   "source": [
    "df_pa.head(1)"
   ]
  },
  {
   "cell_type": "code",
   "execution_count": 72,
   "metadata": {},
   "outputs": [
    {
     "data": {
      "text/plain": [
       "0"
      ]
     },
     "execution_count": 72,
     "metadata": {},
     "output_type": "execute_result"
    }
   ],
   "source": [
    "df_pa_unique = spark.sql(\"\"\"\n",
    "                  select me_lanc ||an_lanc|| in_faixa_etaria || in_sexo || co_organizacao_n1 ||co_organizacao_n2||\n",
    "                  co_organizacao_n3||co_organizacao_n4||co_organizacao_n5||co_organizacao_n6||in_escolaridade||\n",
    "                  in_forca_trabalho||va_custo_de_pessoal, \n",
    "                  count(1)\n",
    "                  from pessoal_ativo\n",
    "                  group by 1\n",
    "                  having count(1) > 1\n",
    "                  \"\"\")\n",
    "# Encontrando a chave primária através de:\n",
    "# 1- me_lanc\n",
    "# 2- an_lanc\n",
    "# 3- in_faixa_etaria\n",
    "# 4- in_sexo\n",
    "# 5- co_organizacao_n1\n",
    "# 6- co_organizacao_n2\n",
    "# 7- co_organizacao_n3\n",
    "# 8- co_organizacao_n4\n",
    "# 9- co_organizacao_n5\n",
    "# 10- co_organizacao_n6\n",
    "# 11- in_escolaridade\n",
    "# 12- in_forca_trabalho\n",
    "# 13- va_custo_de_pessoal\n",
    "\n",
    "\n",
    "df_pa_unique.count()"
   ]
  },
  {
   "cell_type": "code",
   "execution_count": 74,
   "metadata": {},
   "outputs": [
    {
     "name": "stdout",
     "output_type": "stream",
     "text": [
      "+-----------------+--------------------+-----+\n",
      "|co_organizacao_n3|   ds_organizacao_n3|count|\n",
      "+-----------------+--------------------+-----+\n",
      "|            61178|COLEGIO UNIVERSIT...|   15|\n",
      "|            37530|            REITORIA|   31|\n",
      "|            61421|CENTRO DE CIENCIA...|   35|\n",
      "|            51034|CENTRO DE CIENCIA...|   36|\n",
      "|               -9|       NAO SE APLICA|   58|\n",
      "|             6337|            REITORIA|   75|\n",
      "+-----------------+--------------------+-----+\n",
      "\n"
     ]
    }
   ],
   "source": [
    "df_pa.groupBy([\"co_organizacao_n3\",\"ds_organizacao_n3\"]).count().sort(\"count\", ascending=True).show()\n"
   ]
  },
  {
   "cell_type": "code",
   "execution_count": null,
   "metadata": {},
   "outputs": [],
   "source": [
    "# TODO carregar postgres"
   ]
  }
 ],
 "metadata": {
  "kernelspec": {
   "display_name": "Python 3",
   "language": "python",
   "name": "python3"
  },
  "language_info": {
   "codemirror_mode": {
    "name": "ipython",
    "version": 3
   },
   "file_extension": ".py",
   "mimetype": "text/x-python",
   "name": "python",
   "nbconvert_exporter": "python",
   "pygments_lexer": "ipython3",
   "version": "3.8.8"
  }
 },
 "nbformat": 4,
 "nbformat_minor": 2
}
