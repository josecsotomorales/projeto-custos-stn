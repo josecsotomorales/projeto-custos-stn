{
 "cells": [
  {
   "cell_type": "code",
   "execution_count": 154,
   "metadata": {},
   "outputs": [],
   "source": [
    "import json\n",
    "import requests\n",
    "\n",
    "from pyspark.sql import SparkSession, Row\n",
    "from pyspark.sql.functions import *"
   ]
  },
  {
   "cell_type": "code",
   "execution_count": 155,
   "metadata": {},
   "outputs": [],
   "source": [
    "spark = SparkSession \\\n",
    "    .builder \\\n",
    "    .appName(\"Spark SQL Exemplo\") \\\n",
    "    .getOrCreate()\n",
    "\n",
    "request = requests.get(\"http://apidatalake.tesouro.gov.br/ords/custos/tt/depreciacao?offset=123999\")\n",
    "df = spark.createDataFrame([json.loads(line) for line in request.iter_lines()])"
   ]
  },
  {
   "cell_type": "code",
   "execution_count": 204,
   "metadata": {},
   "outputs": [
    {
     "name": "stdout",
     "output_type": "stream",
     "text": [
      "root\n",
      " |-- items: array (nullable = true)\n",
      " |    |-- element: map (containsNull = true)\n",
      " |    |    |-- key: string\n",
      " |    |    |-- value: long (valueContainsNull = true)\n",
      "\n",
      "root\n",
      " |-- key: string (nullable = false)\n",
      " |-- value: long (nullable = true)\n",
      "\n",
      "+--------------------+---------+\n",
      "|                 key|    value|\n",
      "+--------------------+---------+\n",
      "|             an_lanc|     2020|\n",
      "|   co_organizacao_n3|     null|\n",
      "|   co_organizacao_n2|     null|\n",
      "|   co_organizacao_n1|     null|\n",
      "|ds_natureza_juridica|     null|\n",
      "|   id_conta_contabil|333110200|\n",
      "|va_custo_depreciacao|     null|\n",
      "|   ds_organizacao_n1|     null|\n",
      "|   ds_organizacao_n2|     null|\n",
      "|   ds_organizacao_n3|     null|\n",
      "|             me_lanc|       11|\n",
      "|co_natureza_juridica|        3|\n",
      "|   no_conta_contabil|     null|\n",
      "|             an_lanc|     2020|\n",
      "|   co_organizacao_n3|     null|\n",
      "|   co_organizacao_n2|     null|\n",
      "|   co_organizacao_n1|     null|\n",
      "|ds_natureza_juridica|     null|\n",
      "|   id_conta_contabil|333110200|\n",
      "|va_custo_depreciacao|     null|\n",
      "+--------------------+---------+\n",
      "only showing top 20 rows\n",
      "\n"
     ]
    }
   ],
   "source": [
    "#  ------------------- Don't know how to proceed with this, Pivot???---------------------------------------\n",
    "\n",
    "df.printSchema()\n",
    "# df = df.select(\"items\")\n",
    "df2 = df.select(explode(df.items))\n",
    "df3 = df2.select(explode(df2.col))\n",
    "df3.printSchema()\n",
    "df3.show()\n",
    "#  ------ possible solution with pivot? -----\n",
    "\n",
    "\n",
    "#  ------------------- Solution 1 ?------------------------------------------------------------------------\n",
    "\n",
    "# df.printSchema()\n",
    "# df = df.select(\"items\")\n",
    "# df2 = df.select(explode(df.items))\n",
    "# df2.printSchema()\n",
    "# df2.show()\n",
    "# df3 = df2\\\n",
    "#     .withColumn(\"co_natureza_juridica\", col('col').getItem('co_natureza_juridica'))\\\n",
    "#     .withColumn(\"ds_natureza_juridica\", col('col').getItem('ds_natureza_juridica'))\\\n",
    "#     .withColumn(\"co_organizacao_n1\", col('col').getItem('co_organizacao_n1'))\\\n",
    "#     .withColumn(\"ds_organizacao_n1\", col('col').getItem('ds_organizacao_n1'))\\\n",
    "#     .withColumn(\"co_organizacao_n2\", col('col').getItem('co_organizacao_n2'))\\\n",
    "#     .withColumn(\"ds_organizacao_n2\", col('col').getItem('ds_organizacao_n2'))\\\n",
    "#     .withColumn(\"co_organizacao_n3\", col('col').getItem('co_organizacao_n3'))\\\n",
    "#     .withColumn(\"ds_organizacao_n3\", col('col').getItem('ds_organizacao_n3'))\\\n",
    "#     .withColumn(\"an_lanc\", col('col').getItem('an_lanc'))\\\n",
    "#     .withColumn(\"me_lanc\", col('col').getItem('me_lanc'))\\\n",
    "#     .withColumn(\"id_conta_contabil\", col('col').getItem('id_conta_contabil'))\\\n",
    "#     .withColumn(\"no_conta_contabil\", col('col').getItem('no_conta_contabil'))\\\n",
    "#     .withColumn(\"va_custo_depreciacao\", col('col').getItem('va_custo_depreciacao'))\n",
    "# df3.createOrReplaceTempView(\"items\")\n",
    "# spark.sql(\"\"\"select co_natureza_juridica,\n",
    "#           ds_natureza_juridica,\n",
    "#           co_organizacao_n1,\n",
    "#           ds_organizacao_n1,\n",
    "#           co_organizacao_n2,\n",
    "#           ds_organizacao_n2,\n",
    "#           co_organizacao_n3,\n",
    "#           ds_organizacao_n3,\n",
    "#           an_lanc,\n",
    "#           me_lanc,\n",
    "#           id_conta_contabil,\n",
    "#           no_conta_contabil,\n",
    "#           va_custo_depreciacao\n",
    "#           from items\"\"\").show()"
   ]
  },
  {
   "cell_type": "code",
   "execution_count": null,
   "metadata": {},
   "outputs": [],
   "source": []
  },
  {
   "cell_type": "code",
   "execution_count": null,
   "metadata": {},
   "outputs": [],
   "source": []
  }
 ],
 "metadata": {
  "kernelspec": {
   "display_name": "Python 3",
   "language": "python",
   "name": "python3"
  },
  "language_info": {
   "codemirror_mode": {
    "name": "ipython",
    "version": 3
   },
   "file_extension": ".py",
   "mimetype": "text/x-python",
   "name": "python",
   "nbconvert_exporter": "python",
   "pygments_lexer": "ipython3",
   "version": "3.8.8"
  }
 },
 "nbformat": 4,
 "nbformat_minor": 2
}
