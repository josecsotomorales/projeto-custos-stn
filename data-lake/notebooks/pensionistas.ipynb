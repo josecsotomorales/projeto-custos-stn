{
 "cells": [
  {
   "cell_type": "code",
   "execution_count": 2,
   "metadata": {},
   "outputs": [],
   "source": [
    "import os\n",
    "from pyspark.sql import SparkSession\n",
    "from pyspark.sql.functions import *"
   ]
  },
  {
   "cell_type": "code",
   "execution_count": 12,
   "metadata": {},
   "outputs": [],
   "source": [
    "# criar spark session\n",
    "spark = SparkSession \\\n",
    "    .builder \\\n",
    "    .config('spark.jars.packages', 'org.apache.hadoop:hadoop-aws:3.2.0') \\\n",
    "    .config('spark.hadoop.fs.s3a.access.key', '') \\\n",
    "    .config('spark.hadoop.fs.s3a.secret.key', '') \\\n",
    "    .appName('spark etl - pensionistas') \\\n",
    "    .getOrCreate()\n",
    "\n",
    "# ler arquivos no s3\n",
    "df = spark.read.csv('s3a://custos-stn-bucket/pensionista/pensionista_0.csv', header=True, inferSchema=True)"
   ]
  },
  {
   "cell_type": "code",
   "execution_count": 13,
   "metadata": {
    "scrolled": false
   },
   "outputs": [
    {
     "name": "stdout",
     "output_type": "stream",
     "text": [
      "root\n",
      " |-- co_natureza_juridica: integer (nullable = true)\n",
      " |-- ds_natureza_juridica: string (nullable = true)\n",
      " |-- co_organizacao_n1: integer (nullable = true)\n",
      " |-- ds_organizacao_n1: string (nullable = true)\n",
      " |-- co_organizacao_n2: integer (nullable = true)\n",
      " |-- ds_organizacao_n2: string (nullable = true)\n",
      " |-- co_organizacao_n3: integer (nullable = true)\n",
      " |-- ds_organizacao_n3: string (nullable = true)\n",
      " |-- an_lanc: integer (nullable = true)\n",
      " |-- me_lanc: integer (nullable = true)\n",
      " |-- va_custo_pensionistas: double (nullable = true)\n",
      "\n"
     ]
    }
   ],
   "source": [
    "# schema\n",
    "df.printSchema()"
   ]
  },
  {
   "cell_type": "code",
   "execution_count": 14,
   "metadata": {},
   "outputs": [
    {
     "data": {
      "text/plain": [
       "250"
      ]
     },
     "execution_count": 14,
     "metadata": {},
     "output_type": "execute_result"
    }
   ],
   "source": [
    "# contagem de linhas\n",
    "df.count()"
   ]
  },
  {
   "cell_type": "code",
   "execution_count": 15,
   "metadata": {},
   "outputs": [
    {
     "name": "stdout",
     "output_type": "stream",
     "text": [
      "+--------------------+--------------------+-----------------+-------------------+-----------------+--------------------+-----------------+--------------------+-------+-------+---------------------+\n",
      "|co_natureza_juridica|ds_natureza_juridica|co_organizacao_n1|  ds_organizacao_n1|co_organizacao_n2|   ds_organizacao_n2|co_organizacao_n3|   ds_organizacao_n3|an_lanc|me_lanc|va_custo_pensionistas|\n",
      "+--------------------+--------------------+-----------------+-------------------+-----------------+--------------------+-----------------+--------------------+-------+-------+---------------------+\n",
      "|                   3|ADMINISTRACAO DIRETA|              304|MINISTERIO DA SAUDE|             3273|SECRETARIA-EXECUTIVA|            39109|SUPERINTENDENCIA ...|   2019|      7|        1.476405474E7|\n",
      "|                   3|ADMINISTRACAO DIRETA|              304|MINISTERIO DA SAUDE|             3273|SECRETARIA-EXECUTIVA|            39109|SUPERINTENDENCIA ...|   2019|      1|        1.464746072E7|\n",
      "|                   3|ADMINISTRACAO DIRETA|              304|MINISTERIO DA SAUDE|             3273|SECRETARIA-EXECUTIVA|            39109|SUPERINTENDENCIA ...|   2019|     10|        1.479712532E7|\n",
      "|                   3|ADMINISTRACAO DIRETA|              304|MINISTERIO DA SAUDE|             3273|SECRETARIA-EXECUTIVA|            39109|SUPERINTENDENCIA ...|   2019|      5|        1.466644838E7|\n",
      "|                   3|ADMINISTRACAO DIRETA|              304|MINISTERIO DA SAUDE|             3273|SECRETARIA-EXECUTIVA|            39109|SUPERINTENDENCIA ...|   2019|     11|        1.489362229E7|\n",
      "+--------------------+--------------------+-----------------+-------------------+-----------------+--------------------+-----------------+--------------------+-------+-------+---------------------+\n",
      "only showing top 5 rows\n",
      "\n"
     ]
    }
   ],
   "source": [
    "# emprimir primeiras 5 linhas\n",
    "df.show(5)"
   ]
  },
  {
   "cell_type": "code",
   "execution_count": 16,
   "metadata": {},
   "outputs": [],
   "source": [
    "# criar view para spark sql\n",
    "df.createOrReplaceTempView(\"pensionistas\")"
   ]
  },
  {
   "cell_type": "code",
   "execution_count": 17,
   "metadata": {},
   "outputs": [
    {
     "name": "stdout",
     "output_type": "stream",
     "text": [
      "root\n",
      " |-- co_natureza_juridica: integer (nullable = true)\n",
      " |-- ds_natureza_juridica: string (nullable = true)\n",
      " |-- co_organizacao_n1: integer (nullable = true)\n",
      " |-- ds_organizacao_n1: string (nullable = true)\n",
      " |-- co_organizacao_n2: integer (nullable = true)\n",
      " |-- ds_organizacao_n2: string (nullable = true)\n",
      " |-- co_organizacao_n3: integer (nullable = true)\n",
      " |-- ds_organizacao_n3: string (nullable = true)\n",
      " |-- an_lanc: integer (nullable = true)\n",
      " |-- me_lanc: integer (nullable = true)\n",
      " |-- va_custo_pensionistas: double (nullable = true)\n",
      "\n"
     ]
    }
   ],
   "source": [
    "\n",
    "df_ps = spark.sql(\"\"\"\n",
    "                  select *\n",
    "                  from pensionistas\n",
    "                  \"\"\")\n",
    "\n",
    "df_ps.printSchema()\n"
   ]
  },
  {
   "cell_type": "code",
   "execution_count": 18,
   "metadata": {},
   "outputs": [
    {
     "name": "stdout",
     "output_type": "stream",
     "text": [
      "+--------------------+--------------------+-----------------+--------------------+-----------------+--------------------+-----------------+--------------------+-------+-------+---------------------+\n",
      "|co_natureza_juridica|ds_natureza_juridica|co_organizacao_n1|   ds_organizacao_n1|co_organizacao_n2|   ds_organizacao_n2|co_organizacao_n3|   ds_organizacao_n3|an_lanc|me_lanc|va_custo_pensionistas|\n",
      "+--------------------+--------------------+-----------------+--------------------+-----------------+--------------------+-----------------+--------------------+-------+-------+---------------------+\n",
      "|                   3|ADMINISTRACAO DIRETA|              304| MINISTERIO DA SAUDE|             3273|SECRETARIA-EXECUTIVA|            39109|SUPERINTENDENCIA ...|   2019|      7|        1.476405474E7|\n",
      "|                   3|ADMINISTRACAO DIRETA|              304| MINISTERIO DA SAUDE|             3273|SECRETARIA-EXECUTIVA|            39109|SUPERINTENDENCIA ...|   2019|      1|        1.464746072E7|\n",
      "|                   3|ADMINISTRACAO DIRETA|              304| MINISTERIO DA SAUDE|             3273|SECRETARIA-EXECUTIVA|            39109|SUPERINTENDENCIA ...|   2019|     10|        1.479712532E7|\n",
      "|                   3|ADMINISTRACAO DIRETA|              304| MINISTERIO DA SAUDE|             3273|SECRETARIA-EXECUTIVA|            39109|SUPERINTENDENCIA ...|   2019|      5|        1.466644838E7|\n",
      "|                   3|ADMINISTRACAO DIRETA|              304| MINISTERIO DA SAUDE|             3273|SECRETARIA-EXECUTIVA|            39109|SUPERINTENDENCIA ...|   2019|     11|        1.489362229E7|\n",
      "|                   4|           AUTARQUIA|              244|MINISTERIO DA EDU...|              415|UNIVERSIDADE FEDE...|            40523|HOSPITAL UNIVERSI...|   2019|      3|             47761.89|\n",
      "|                   4|           AUTARQUIA|              244|MINISTERIO DA EDU...|              415|UNIVERSIDADE FEDE...|            40523|HOSPITAL UNIVERSI...|   2019|      8|              47803.7|\n",
      "|                   4|           AUTARQUIA|              244|MINISTERIO DA EDU...|              415|UNIVERSIDADE FEDE...|            40523|HOSPITAL UNIVERSI...|   2019|     11|             47887.79|\n",
      "|                   4|           AUTARQUIA|              244|MINISTERIO DA EDU...|              415|UNIVERSIDADE FEDE...|            40523|HOSPITAL UNIVERSI...|   2019|      4|             47887.78|\n",
      "|                   4|           AUTARQUIA|              244|MINISTERIO DA EDU...|              415|UNIVERSIDADE FEDE...|            40523|HOSPITAL UNIVERSI...|   2019|      5|             47887.78|\n",
      "|                   4|           AUTARQUIA|              244|MINISTERIO DA EDU...|              415|UNIVERSIDADE FEDE...|            40523|HOSPITAL UNIVERSI...|   2019|      2|             47950.72|\n",
      "|                   4|           AUTARQUIA|              244|MINISTERIO DA EDU...|              415|UNIVERSIDADE FEDE...|            40523|HOSPITAL UNIVERSI...|   2019|      7|              47803.7|\n",
      "|                   4|           AUTARQUIA|              244|MINISTERIO DA EDU...|              415|UNIVERSIDADE FEDE...|            40523|HOSPITAL UNIVERSI...|   2019|      6|              47803.7|\n",
      "|                   4|           AUTARQUIA|              244|MINISTERIO DA EDU...|              415|UNIVERSIDADE FEDE...|            40523|HOSPITAL UNIVERSI...|   2019|      1|             47950.72|\n",
      "|                   4|           AUTARQUIA|              244|MINISTERIO DA EDU...|              415|UNIVERSIDADE FEDE...|            40523|HOSPITAL UNIVERSI...|   2019|     12|             47887.79|\n",
      "|                   4|           AUTARQUIA|              244|MINISTERIO DA EDU...|              415|UNIVERSIDADE FEDE...|            40523|HOSPITAL UNIVERSI...|   2019|     10|             48140.02|\n",
      "|                   4|           AUTARQUIA|              244|MINISTERIO DA EDU...|              415|UNIVERSIDADE FEDE...|            40523|HOSPITAL UNIVERSI...|   2019|      9|             45891.47|\n",
      "|                   3|ADMINISTRACAO DIRETA|            41066|MINISTERIO DA DEFESA|               94| COMANDO DO EXERCITO|              131|SECRETARIA DE ECO...|   2016|     12|        3.964892566E7|\n",
      "|                   3|ADMINISTRACAO DIRETA|            41066|MINISTERIO DA DEFESA|               94| COMANDO DO EXERCITO|              131|SECRETARIA DE ECO...|   2016|      4|        3.807864359E7|\n",
      "|                   3|ADMINISTRACAO DIRETA|            41066|MINISTERIO DA DEFESA|               94| COMANDO DO EXERCITO|              131|SECRETARIA DE ECO...|   2016|      3|        3.781141648E7|\n",
      "+--------------------+--------------------+-----------------+--------------------+-----------------+--------------------+-----------------+--------------------+-------+-------+---------------------+\n",
      "only showing top 20 rows\n",
      "\n"
     ]
    }
   ],
   "source": [
    "df_ps.show()"
   ]
  },
  {
   "cell_type": "code",
   "execution_count": 19,
   "metadata": {},
   "outputs": [
    {
     "data": {
      "text/plain": [
       "[Row(co_natureza_juridica=3, ds_natureza_juridica='ADMINISTRACAO DIRETA', co_organizacao_n1=304, ds_organizacao_n1='MINISTERIO DA SAUDE', co_organizacao_n2=3273, ds_organizacao_n2='SECRETARIA-EXECUTIVA', co_organizacao_n3=39109, ds_organizacao_n3='SUPERINTENDENCIA ESTADUAL DO MINISTERIO DA SAUDE EM SAO PAULO', an_lanc=2019, me_lanc=7, va_custo_pensionistas=14764054.74)]"
      ]
     },
     "execution_count": 19,
     "metadata": {},
     "output_type": "execute_result"
    }
   ],
   "source": [
    "df_ps.head(1) # Mostra o cabeçalho da primeira linha"
   ]
  },
  {
   "cell_type": "code",
   "execution_count": 21,
   "metadata": {},
   "outputs": [
    {
     "name": "stdout",
     "output_type": "stream",
     "text": [
      "+-------+--------------------+--------------------+-----------------+--------------------+------------------+\n",
      "|summary|co_natureza_juridica|ds_natureza_juridica|co_organizacao_n1|   ds_organizacao_n1| co_organizacao_n2|\n",
      "+-------+--------------------+--------------------+-----------------+--------------------+------------------+\n",
      "|  count|                 250|                 250|              250|                 250|               250|\n",
      "|   mean|               2.776|                null|        18416.016|                null|          5162.596|\n",
      "| stddev|  0.8583537058447119|                null|54633.80115116138|                null|19974.832500284996|\n",
      "|    min|                   2|ADMINISTRACAO DIRETA|               14|MINISTERIO DA AGR...|                 3|\n",
      "|    max|                   4|    FUNDACAO PUBLICA|           235876|MINISTERIO DO MEI...|            239899|\n",
      "+-------+--------------------+--------------------+-----------------+--------------------+------------------+\n",
      "\n"
     ]
    }
   ],
   "source": [
    "df_ps.describe([\"co_natureza_juridica\",\"ds_natureza_juridica\",\"co_organizacao_n1\",\"ds_organizacao_n1\",\"co_organizacao_n2\"]).show()"
   ]
  },
  {
   "cell_type": "code",
   "execution_count": 25,
   "metadata": {},
   "outputs": [
    {
     "name": "stdout",
     "output_type": "stream",
     "text": [
      "+-------+--------------------+------------------+--------------------+------------------+-----------------+\n",
      "|summary|   ds_organizacao_n2| co_organizacao_n3|   ds_organizacao_n3|           an_lanc|          me_lanc|\n",
      "+-------+--------------------+------------------+--------------------+------------------+-----------------+\n",
      "|  count|                 250|               250|                 250|               250|              250|\n",
      "|   mean|                null|         15657.344|                null|          2018.332|            6.628|\n",
      "| stddev|                null|21799.122217361266|                null|0.6809041945004913|3.415299853946864|\n",
      "|    min|    COLEGIO PEDRO II|                -9|CENTRO DE CIENCIA...|              2015|                1|\n",
      "|    max|UNIVERSIDADE FEDE...|             69292|UNIDADE ESTADUAL ...|              2019|               12|\n",
      "+-------+--------------------+------------------+--------------------+------------------+-----------------+\n",
      "\n"
     ]
    }
   ],
   "source": [
    "df_ps.describe([\"ds_organizacao_n2\",\"co_organizacao_n3\",\"ds_organizacao_n3\",\"an_lanc\",\"me_lanc\"]).show()"
   ]
  },
  {
   "cell_type": "code",
   "execution_count": 27,
   "metadata": {},
   "outputs": [
    {
     "name": "stdout",
     "output_type": "stream",
     "text": [
      "+-------+---------------------+\n",
      "|summary|va_custo_pensionistas|\n",
      "+-------+---------------------+\n",
      "|  count|                  250|\n",
      "|   mean|    7742443.837840007|\n",
      "| stddev| 1.2636753672918526E7|\n",
      "|    min|             45891.47|\n",
      "|    max|        4.136315255E7|\n",
      "+-------+---------------------+\n",
      "\n"
     ]
    }
   ],
   "source": [
    "df_ps.describe([\"va_custo_pensionistas\"]).show()"
   ]
  },
  {
   "cell_type": "code",
   "execution_count": 28,
   "metadata": {},
   "outputs": [
    {
     "data": {
      "text/plain": [
       "['MINISTERIO DA INFRAESTRUTURA',\n",
       " 'MINISTERIO DA SAUDE',\n",
       " 'MINISTERIO DA DEFESA',\n",
       " 'MINISTERIO DO MEIO AMBIENTE',\n",
       " 'MINISTERIO DA EDUCACAO',\n",
       " 'MINISTERIO DA AGRICULTURA, PECUARIA E ABASTECIMENTO',\n",
       " 'MINISTERIO DA ECONOMIA']"
      ]
     },
     "execution_count": 28,
     "metadata": {},
     "output_type": "execute_result"
    }
   ],
   "source": [
    "df_ps.select('ds_organizacao_n1').distinct().rdd.map(lambda r: r[0]).collect()\n",
    "# Util para conhecer classes discretas de uma coluna categórica.\n",
    "# Neste caso mostra as organizacoes presentes nestes dados"
   ]
  },
  {
   "cell_type": "code",
   "execution_count": 29,
   "metadata": {},
   "outputs": [
    {
     "data": {
      "text/plain": [
       "['SUPERINTENDENCIA ESTADUAL DO MINISTERIO DA SAUDE EM SAO PAULO',\n",
       " 'SUPERINTENDENCIA ESTADUAL DE SAO PAULO',\n",
       " 'CENTRO DE CIENCIAS DA SAUDE',\n",
       " 'DIRETORIA DE GESTAO ADMINISTRATIVA',\n",
       " 'SUPERINTENDENCIA REGIONAL DO DNIT NO ESTADO DO PARANA',\n",
       " 'REITORIA',\n",
       " 'NAO SE APLICA',\n",
       " 'SUPERINTENDENCIA REGIONAL DO DNIT NO ESTADO DO RIO GRANDE DO SUL',\n",
       " 'SUPERINTENDENCIA ESTADUAL DO MINISTERIO DA SAUDE NA BAHIA',\n",
       " 'SECRETARIA DE ECONOMIA E FINANCAS',\n",
       " 'SUBSECRETARIA DE PLANEJAMENTO, ORCAMENTO E ADMINISTRACAO',\n",
       " 'UNIDADE ESTADUAL DO IBGE EM GOIAS',\n",
       " 'INSTITUTO NACIONAL DE CARDIOLOGIA',\n",
       " 'HOSPITAL UNIVERSITARIO JOAO DE BARROS BARRETO',\n",
       " 'SECRETARIA-GERAL DA MARINHA',\n",
       " 'UNIDADE ESTADUAL DO IBGE EM SAO PAULO']"
      ]
     },
     "execution_count": 29,
     "metadata": {},
     "output_type": "execute_result"
    }
   ],
   "source": [
    "df_ps.select('ds_organizacao_n3').distinct().rdd.map(lambda r: r[0]).collect()\n",
    "# Util para conhecer classes discretas de uma coluna categórica.\n",
    "# Neste caso mostra as modalidades de aplicacao presentes nestes dados"
   ]
  },
  {
   "cell_type": "code",
   "execution_count": 30,
   "metadata": {},
   "outputs": [
    {
     "data": {
      "text/plain": [
       "250"
      ]
     },
     "execution_count": 30,
     "metadata": {},
     "output_type": "execute_result"
    }
   ],
   "source": [
    "df_ps = spark.sql(\"\"\"\n",
    "                  select distinct *\n",
    "                  from pensionistas\n",
    "                  \"\"\")\n",
    "df_ps.count() # Verificar se tem linhas duplicadas\n",
    "\n",
    "# Retorna 250, isso quer dizer que as linhas sao todas diferentes"
   ]
  },
  {
   "cell_type": "code",
   "execution_count": 31,
   "metadata": {},
   "outputs": [
    {
     "data": {
      "text/plain": [
       "[Row(co_natureza_juridica=2, ds_natureza_juridica='FUNDACAO PUBLICA', co_organizacao_n1=244, ds_organizacao_n1='MINISTERIO DA EDUCACAO', co_organizacao_n2=468, ds_organizacao_n2='FUNDACAO UNIVERSIDADE FEDERAL DO PIAUI', co_organizacao_n3=-9, ds_organizacao_n3='NAO SE APLICA', an_lanc=2018, me_lanc=2, va_custo_pensionistas=2080673.4)]"
      ]
     },
     "execution_count": 31,
     "metadata": {},
     "output_type": "execute_result"
    }
   ],
   "source": [
    "df_ps.head(1)"
   ]
  },
  {
   "cell_type": "code",
   "execution_count": 47,
   "metadata": {},
   "outputs": [
    {
     "data": {
      "text/plain": [
       "0"
      ]
     },
     "execution_count": 47,
     "metadata": {},
     "output_type": "execute_result"
    }
   ],
   "source": [
    "#  select co_natureza_juridica || '-' || ds_natureza_juridica || '-' || co_organizacao_n1 || '-' || \n",
    "#                   ds_organizacao_n1 || '-' ||co_organizacao_n2 || '-' || ds_organizacao_n2 ||'-' || co_organizacao_n3 || '-' ||\n",
    "#                   ds_organizacao_n3 || '-' || an_lanc || '-'|| me_lanc || '-' || va_custo_pensionistas, \n",
    "#                   count(1)\n",
    "#                   from pensionistas\n",
    "#                   group by 1\n",
    "#                   having count(1) > 1\n",
    "#                   \"\"\")\n",
    "df_ps_unique = spark.sql(\"\"\"\n",
    "                  select co_organizacao_n3 ||'-'|| me_lanc || '-' || va_custo_pensionistas, \n",
    "                  count(1)\n",
    "                  from pensionistas\n",
    "                  group by 1\n",
    "                  having count(1) > 1\n",
    "                  \"\"\")\n",
    "# Encontrando a chave primária através de:\n",
    "# 1- co_organizacao_n3\n",
    "# 2- me_lanc\n",
    "# 3- va_custo_pensionistas\n",
    "\n",
    "df_ps_unique.count()"
   ]
  },
  {
   "cell_type": "code",
   "execution_count": 48,
   "metadata": {},
   "outputs": [
    {
     "name": "stdout",
     "output_type": "stream",
     "text": [
      "+--------------------+--------------------+-----+\n",
      "|co_natureza_juridica|ds_natureza_juridica|count|\n",
      "+--------------------+--------------------+-----+\n",
      "|                   3|ADMINISTRACAO DIRETA|   54|\n",
      "|                   4|           AUTARQUIA|   70|\n",
      "|                   2|    FUNDACAO PUBLICA|  126|\n",
      "+--------------------+--------------------+-----+\n",
      "\n"
     ]
    }
   ],
   "source": [
    "df_ps.groupBy([\"co_natureza_juridica\",\"ds_natureza_juridica\"]).count().sort(\"count\", ascending=True).show()\n",
    "# Mostra a quantidade de descricao por natureza juridica"
   ]
  },
  {
   "cell_type": "code",
   "execution_count": null,
   "metadata": {},
   "outputs": [],
   "source": [
    "# TODO carregar postgres"
   ]
  }
 ],
 "metadata": {
  "kernelspec": {
   "display_name": "Python 3",
   "language": "python",
   "name": "python3"
  },
  "language_info": {
   "codemirror_mode": {
    "name": "ipython",
    "version": 3
   },
   "file_extension": ".py",
   "mimetype": "text/x-python",
   "name": "python",
   "nbconvert_exporter": "python",
   "pygments_lexer": "ipython3",
   "version": "3.8.8"
  }
 },
 "nbformat": 4,
 "nbformat_minor": 2
}
