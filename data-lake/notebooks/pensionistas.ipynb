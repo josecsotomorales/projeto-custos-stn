{
 "cells": [
  {
   "cell_type": "code",
   "execution_count": 1,
   "metadata": {},
   "outputs": [],
   "source": [
    "import os\n",
    "from pyspark.sql import SparkSession\n",
    "from pyspark.sql.functions import *"
   ]
  },
  {
   "cell_type": "code",
   "execution_count": 2,
   "metadata": {},
   "outputs": [],
   "source": [
    "# criar spark session\n",
    "spark = SparkSession \\\n",
    "    .builder \\\n",
    "    .config('spark.jars.packages', 'org.apache.hadoop:hadoop-aws:3.2.0,org.postgresql:postgresql:42.2.20') \\\n",
    "    .config('spark.hadoop.fs.s3a.access.key', '') \\\n",
    "    .config('spark.hadoop.fs.s3a.secret.key', '') \\\n",
    "    .appName('spark etl - pensionistas') \\\n",
    "    .getOrCreate()\n",
    "\n",
    "# ler arquivos no s3\n",
    "df = spark.read.csv('s3a://custos-stn-bucket/pensionista/pensionista_0.csv', header=True, inferSchema=True)"
   ]
  },
  {
   "cell_type": "code",
   "execution_count": 3,
   "metadata": {
    "scrolled": false
   },
   "outputs": [
    {
     "output_type": "stream",
     "name": "stdout",
     "text": [
      "root\n |-- co_natureza_juridica: integer (nullable = true)\n |-- ds_natureza_juridica: string (nullable = true)\n |-- co_organizacao_n1: integer (nullable = true)\n |-- ds_organizacao_n1: string (nullable = true)\n |-- co_organizacao_n2: integer (nullable = true)\n |-- ds_organizacao_n2: string (nullable = true)\n |-- co_organizacao_n3: integer (nullable = true)\n |-- ds_organizacao_n3: string (nullable = true)\n |-- an_lanc: integer (nullable = true)\n |-- me_lanc: integer (nullable = true)\n |-- va_custo_pensionistas: double (nullable = true)\n\n"
     ]
    }
   ],
   "source": [
    "# schema\n",
    "df.printSchema()"
   ]
  },
  {
   "cell_type": "code",
   "execution_count": 4,
   "metadata": {},
   "outputs": [
    {
     "output_type": "execute_result",
     "data": {
      "text/plain": [
       "250"
      ]
     },
     "metadata": {},
     "execution_count": 4
    }
   ],
   "source": [
    "# contagem de linhas\n",
    "df.count()"
   ]
  },
  {
   "cell_type": "code",
   "execution_count": 5,
   "metadata": {},
   "outputs": [
    {
     "output_type": "stream",
     "name": "stdout",
     "text": [
      "+--------------------+--------------------+-----------------+-------------------+-----------------+--------------------+-----------------+--------------------+-------+-------+---------------------+\n|co_natureza_juridica|ds_natureza_juridica|co_organizacao_n1|  ds_organizacao_n1|co_organizacao_n2|   ds_organizacao_n2|co_organizacao_n3|   ds_organizacao_n3|an_lanc|me_lanc|va_custo_pensionistas|\n+--------------------+--------------------+-----------------+-------------------+-----------------+--------------------+-----------------+--------------------+-------+-------+---------------------+\n|                   3|ADMINISTRACAO DIRETA|              304|MINISTERIO DA SAUDE|             3273|SECRETARIA-EXECUTIVA|            39109|SUPERINTENDENCIA ...|   2019|      7|        1.476405474E7|\n|                   3|ADMINISTRACAO DIRETA|              304|MINISTERIO DA SAUDE|             3273|SECRETARIA-EXECUTIVA|            39109|SUPERINTENDENCIA ...|   2019|      1|        1.464746072E7|\n|                   3|ADMINISTRACAO DIRETA|              304|MINISTERIO DA SAUDE|             3273|SECRETARIA-EXECUTIVA|            39109|SUPERINTENDENCIA ...|   2019|     10|        1.479712532E7|\n|                   3|ADMINISTRACAO DIRETA|              304|MINISTERIO DA SAUDE|             3273|SECRETARIA-EXECUTIVA|            39109|SUPERINTENDENCIA ...|   2019|      5|        1.466644838E7|\n|                   3|ADMINISTRACAO DIRETA|              304|MINISTERIO DA SAUDE|             3273|SECRETARIA-EXECUTIVA|            39109|SUPERINTENDENCIA ...|   2019|     11|        1.489362229E7|\n+--------------------+--------------------+-----------------+-------------------+-----------------+--------------------+-----------------+--------------------+-------+-------+---------------------+\nonly showing top 5 rows\n\n"
     ]
    }
   ],
   "source": [
    "# emprimir primeiras 5 linhas\n",
    "df.show(5)"
   ]
  },
  {
   "cell_type": "code",
   "execution_count": 6,
   "metadata": {},
   "outputs": [],
   "source": [
    "# criar view para spark sql\n",
    "df.createOrReplaceTempView(\"pensionistas\")"
   ]
  },
  {
   "cell_type": "code",
   "execution_count": 7,
   "metadata": {},
   "outputs": [
    {
     "output_type": "stream",
     "name": "stdout",
     "text": [
      "root\n |-- co_natureza_juridica: integer (nullable = true)\n |-- ds_natureza_juridica: string (nullable = true)\n |-- co_organizacao_n1: integer (nullable = true)\n |-- ds_organizacao_n1: string (nullable = true)\n |-- co_organizacao_n2: integer (nullable = true)\n |-- ds_organizacao_n2: string (nullable = true)\n |-- co_organizacao_n3: integer (nullable = true)\n |-- ds_organizacao_n3: string (nullable = true)\n |-- an_lanc: integer (nullable = true)\n |-- me_lanc: integer (nullable = true)\n |-- va_custo_pensionistas: double (nullable = true)\n\n"
     ]
    }
   ],
   "source": [
    "\n",
    "df_ps = spark.sql(\"\"\"\n",
    "                  select *\n",
    "                  from pensionistas\n",
    "                  \"\"\")\n",
    "\n",
    "df_ps.printSchema()\n"
   ]
  },
  {
   "cell_type": "code",
   "execution_count": 8,
   "metadata": {},
   "outputs": [
    {
     "output_type": "stream",
     "name": "stdout",
     "text": [
      "+--------------------+--------------------+-----------------+--------------------+-----------------+--------------------+-----------------+--------------------+-------+-------+---------------------+\n|co_natureza_juridica|ds_natureza_juridica|co_organizacao_n1|   ds_organizacao_n1|co_organizacao_n2|   ds_organizacao_n2|co_organizacao_n3|   ds_organizacao_n3|an_lanc|me_lanc|va_custo_pensionistas|\n+--------------------+--------------------+-----------------+--------------------+-----------------+--------------------+-----------------+--------------------+-------+-------+---------------------+\n|                   3|ADMINISTRACAO DIRETA|              304| MINISTERIO DA SAUDE|             3273|SECRETARIA-EXECUTIVA|            39109|SUPERINTENDENCIA ...|   2019|      7|        1.476405474E7|\n|                   3|ADMINISTRACAO DIRETA|              304| MINISTERIO DA SAUDE|             3273|SECRETARIA-EXECUTIVA|            39109|SUPERINTENDENCIA ...|   2019|      1|        1.464746072E7|\n|                   3|ADMINISTRACAO DIRETA|              304| MINISTERIO DA SAUDE|             3273|SECRETARIA-EXECUTIVA|            39109|SUPERINTENDENCIA ...|   2019|     10|        1.479712532E7|\n|                   3|ADMINISTRACAO DIRETA|              304| MINISTERIO DA SAUDE|             3273|SECRETARIA-EXECUTIVA|            39109|SUPERINTENDENCIA ...|   2019|      5|        1.466644838E7|\n|                   3|ADMINISTRACAO DIRETA|              304| MINISTERIO DA SAUDE|             3273|SECRETARIA-EXECUTIVA|            39109|SUPERINTENDENCIA ...|   2019|     11|        1.489362229E7|\n|                   4|           AUTARQUIA|              244|MINISTERIO DA EDU...|              415|UNIVERSIDADE FEDE...|            40523|HOSPITAL UNIVERSI...|   2019|      3|             47761.89|\n|                   4|           AUTARQUIA|              244|MINISTERIO DA EDU...|              415|UNIVERSIDADE FEDE...|            40523|HOSPITAL UNIVERSI...|   2019|      8|              47803.7|\n|                   4|           AUTARQUIA|              244|MINISTERIO DA EDU...|              415|UNIVERSIDADE FEDE...|            40523|HOSPITAL UNIVERSI...|   2019|     11|             47887.79|\n|                   4|           AUTARQUIA|              244|MINISTERIO DA EDU...|              415|UNIVERSIDADE FEDE...|            40523|HOSPITAL UNIVERSI...|   2019|      4|             47887.78|\n|                   4|           AUTARQUIA|              244|MINISTERIO DA EDU...|              415|UNIVERSIDADE FEDE...|            40523|HOSPITAL UNIVERSI...|   2019|      5|             47887.78|\n|                   4|           AUTARQUIA|              244|MINISTERIO DA EDU...|              415|UNIVERSIDADE FEDE...|            40523|HOSPITAL UNIVERSI...|   2019|      2|             47950.72|\n|                   4|           AUTARQUIA|              244|MINISTERIO DA EDU...|              415|UNIVERSIDADE FEDE...|            40523|HOSPITAL UNIVERSI...|   2019|      7|              47803.7|\n|                   4|           AUTARQUIA|              244|MINISTERIO DA EDU...|              415|UNIVERSIDADE FEDE...|            40523|HOSPITAL UNIVERSI...|   2019|      6|              47803.7|\n|                   4|           AUTARQUIA|              244|MINISTERIO DA EDU...|              415|UNIVERSIDADE FEDE...|            40523|HOSPITAL UNIVERSI...|   2019|      1|             47950.72|\n|                   4|           AUTARQUIA|              244|MINISTERIO DA EDU...|              415|UNIVERSIDADE FEDE...|            40523|HOSPITAL UNIVERSI...|   2019|     12|             47887.79|\n|                   4|           AUTARQUIA|              244|MINISTERIO DA EDU...|              415|UNIVERSIDADE FEDE...|            40523|HOSPITAL UNIVERSI...|   2019|     10|             48140.02|\n|                   4|           AUTARQUIA|              244|MINISTERIO DA EDU...|              415|UNIVERSIDADE FEDE...|            40523|HOSPITAL UNIVERSI...|   2019|      9|             45891.47|\n|                   3|ADMINISTRACAO DIRETA|            41066|MINISTERIO DA DEFESA|               94| COMANDO DO EXERCITO|              131|SECRETARIA DE ECO...|   2016|     12|        3.964892566E7|\n|                   3|ADMINISTRACAO DIRETA|            41066|MINISTERIO DA DEFESA|               94| COMANDO DO EXERCITO|              131|SECRETARIA DE ECO...|   2016|      4|        3.807864359E7|\n|                   3|ADMINISTRACAO DIRETA|            41066|MINISTERIO DA DEFESA|               94| COMANDO DO EXERCITO|              131|SECRETARIA DE ECO...|   2016|      3|        3.781141648E7|\n+--------------------+--------------------+-----------------+--------------------+-----------------+--------------------+-----------------+--------------------+-------+-------+---------------------+\nonly showing top 20 rows\n\n"
     ]
    }
   ],
   "source": [
    "df_ps.show()"
   ]
  },
  {
   "cell_type": "code",
   "execution_count": 9,
   "metadata": {},
   "outputs": [
    {
     "output_type": "execute_result",
     "data": {
      "text/plain": [
       "[Row(co_natureza_juridica=3, ds_natureza_juridica='ADMINISTRACAO DIRETA', co_organizacao_n1=304, ds_organizacao_n1='MINISTERIO DA SAUDE', co_organizacao_n2=3273, ds_organizacao_n2='SECRETARIA-EXECUTIVA', co_organizacao_n3=39109, ds_organizacao_n3='SUPERINTENDENCIA ESTADUAL DO MINISTERIO DA SAUDE EM SAO PAULO', an_lanc=2019, me_lanc=7, va_custo_pensionistas=14764054.74)]"
      ]
     },
     "metadata": {},
     "execution_count": 9
    }
   ],
   "source": [
    "df_ps.head(1) # Mostra o cabeçalho da primeira linha"
   ]
  },
  {
   "cell_type": "code",
   "execution_count": 10,
   "metadata": {},
   "outputs": [
    {
     "output_type": "stream",
     "name": "stdout",
     "text": [
      "+-------+--------------------+--------------------+-----------------+--------------------+------------------+\n|summary|co_natureza_juridica|ds_natureza_juridica|co_organizacao_n1|   ds_organizacao_n1| co_organizacao_n2|\n+-------+--------------------+--------------------+-----------------+--------------------+------------------+\n|  count|                 250|                 250|              250|                 250|               250|\n|   mean|               2.776|                null|        18416.016|                null|          5162.596|\n| stddev|  0.8583537058447119|                null|54633.80115116138|                null|19974.832500284996|\n|    min|                   2|ADMINISTRACAO DIRETA|               14|MINISTERIO DA AGR...|                 3|\n|    max|                   4|    FUNDACAO PUBLICA|           235876|MINISTERIO DO MEI...|            239899|\n+-------+--------------------+--------------------+-----------------+--------------------+------------------+\n\n"
     ]
    }
   ],
   "source": [
    "df_ps.describe([\"co_natureza_juridica\",\"ds_natureza_juridica\",\"co_organizacao_n1\",\"ds_organizacao_n1\",\"co_organizacao_n2\"]).show()"
   ]
  },
  {
   "cell_type": "code",
   "execution_count": 11,
   "metadata": {},
   "outputs": [
    {
     "output_type": "stream",
     "name": "stdout",
     "text": [
      "+-------+--------------------+------------------+--------------------+------------------+-----------------+\n|summary|   ds_organizacao_n2| co_organizacao_n3|   ds_organizacao_n3|           an_lanc|          me_lanc|\n+-------+--------------------+------------------+--------------------+------------------+-----------------+\n|  count|                 250|               250|                 250|               250|              250|\n|   mean|                null|         15657.344|                null|          2018.332|            6.628|\n| stddev|                null|21799.122217361266|                null|0.6809041945004913|3.415299853946864|\n|    min|    COLEGIO PEDRO II|                -9|CENTRO DE CIENCIA...|              2015|                1|\n|    max|UNIVERSIDADE FEDE...|             69292|UNIDADE ESTADUAL ...|              2019|               12|\n+-------+--------------------+------------------+--------------------+------------------+-----------------+\n\n"
     ]
    }
   ],
   "source": [
    "df_ps.describe([\"ds_organizacao_n2\",\"co_organizacao_n3\",\"ds_organizacao_n3\",\"an_lanc\",\"me_lanc\"]).show()"
   ]
  },
  {
   "cell_type": "code",
   "execution_count": 12,
   "metadata": {},
   "outputs": [
    {
     "output_type": "stream",
     "name": "stdout",
     "text": [
      "+-------+---------------------+\n|summary|va_custo_pensionistas|\n+-------+---------------------+\n|  count|                  250|\n|   mean|    7742443.837840007|\n| stddev| 1.2636753672918526E7|\n|    min|             45891.47|\n|    max|        4.136315255E7|\n+-------+---------------------+\n\n"
     ]
    }
   ],
   "source": [
    "df_ps.describe([\"va_custo_pensionistas\"]).show()"
   ]
  },
  {
   "cell_type": "code",
   "execution_count": 28,
   "metadata": {},
   "outputs": [
    {
     "data": {
      "text/plain": [
       "['MINISTERIO DA INFRAESTRUTURA',\n",
       " 'MINISTERIO DA SAUDE',\n",
       " 'MINISTERIO DA DEFESA',\n",
       " 'MINISTERIO DO MEIO AMBIENTE',\n",
       " 'MINISTERIO DA EDUCACAO',\n",
       " 'MINISTERIO DA AGRICULTURA, PECUARIA E ABASTECIMENTO',\n",
       " 'MINISTERIO DA ECONOMIA']"
      ]
     },
     "execution_count": 28,
     "metadata": {},
     "output_type": "execute_result"
    }
   ],
   "source": [
    "df_ps.select('ds_organizacao_n1').distinct().rdd.map(lambda r: r[0]).collect()\n",
    "# Util para conhecer classes discretas de uma coluna categórica.\n",
    "# Neste caso mostra as organizacoes presentes nestes dados"
   ]
  },
  {
   "cell_type": "code",
   "execution_count": 29,
   "metadata": {},
   "outputs": [
    {
     "data": {
      "text/plain": [
       "['SUPERINTENDENCIA ESTADUAL DO MINISTERIO DA SAUDE EM SAO PAULO',\n",
       " 'SUPERINTENDENCIA ESTADUAL DE SAO PAULO',\n",
       " 'CENTRO DE CIENCIAS DA SAUDE',\n",
       " 'DIRETORIA DE GESTAO ADMINISTRATIVA',\n",
       " 'SUPERINTENDENCIA REGIONAL DO DNIT NO ESTADO DO PARANA',\n",
       " 'REITORIA',\n",
       " 'NAO SE APLICA',\n",
       " 'SUPERINTENDENCIA REGIONAL DO DNIT NO ESTADO DO RIO GRANDE DO SUL',\n",
       " 'SUPERINTENDENCIA ESTADUAL DO MINISTERIO DA SAUDE NA BAHIA',\n",
       " 'SECRETARIA DE ECONOMIA E FINANCAS',\n",
       " 'SUBSECRETARIA DE PLANEJAMENTO, ORCAMENTO E ADMINISTRACAO',\n",
       " 'UNIDADE ESTADUAL DO IBGE EM GOIAS',\n",
       " 'INSTITUTO NACIONAL DE CARDIOLOGIA',\n",
       " 'HOSPITAL UNIVERSITARIO JOAO DE BARROS BARRETO',\n",
       " 'SECRETARIA-GERAL DA MARINHA',\n",
       " 'UNIDADE ESTADUAL DO IBGE EM SAO PAULO']"
      ]
     },
     "execution_count": 29,
     "metadata": {},
     "output_type": "execute_result"
    }
   ],
   "source": [
    "df_ps.select('ds_organizacao_n3').distinct().rdd.map(lambda r: r[0]).collect()\n",
    "# Util para conhecer classes discretas de uma coluna categórica.\n",
    "# Neste caso mostra as modalidades de aplicacao presentes nestes dados"
   ]
  },
  {
   "cell_type": "code",
   "execution_count": 30,
   "metadata": {},
   "outputs": [
    {
     "data": {
      "text/plain": [
       "250"
      ]
     },
     "execution_count": 30,
     "metadata": {},
     "output_type": "execute_result"
    }
   ],
   "source": [
    "df_ps = spark.sql(\"\"\"\n",
    "                  select distinct *\n",
    "                  from pensionistas\n",
    "                  \"\"\")\n",
    "df_ps.count() # Verificar se tem linhas duplicadas\n",
    "\n",
    "# Retorna 250, isso quer dizer que as linhas sao todas diferentes"
   ]
  },
  {
   "cell_type": "code",
   "execution_count": 31,
   "metadata": {},
   "outputs": [
    {
     "data": {
      "text/plain": [
       "[Row(co_natureza_juridica=2, ds_natureza_juridica='FUNDACAO PUBLICA', co_organizacao_n1=244, ds_organizacao_n1='MINISTERIO DA EDUCACAO', co_organizacao_n2=468, ds_organizacao_n2='FUNDACAO UNIVERSIDADE FEDERAL DO PIAUI', co_organizacao_n3=-9, ds_organizacao_n3='NAO SE APLICA', an_lanc=2018, me_lanc=2, va_custo_pensionistas=2080673.4)]"
      ]
     },
     "execution_count": 31,
     "metadata": {},
     "output_type": "execute_result"
    }
   ],
   "source": [
    "df_ps.head(1)"
   ]
  },
  {
   "cell_type": "code",
   "execution_count": 47,
   "metadata": {},
   "outputs": [
    {
     "data": {
      "text/plain": [
       "0"
      ]
     },
     "execution_count": 47,
     "metadata": {},
     "output_type": "execute_result"
    }
   ],
   "source": [
    "#  select co_natureza_juridica || '-' || ds_natureza_juridica || '-' || co_organizacao_n1 || '-' || \n",
    "#                   ds_organizacao_n1 || '-' ||co_organizacao_n2 || '-' || ds_organizacao_n2 ||'-' || co_organizacao_n3 || '-' ||\n",
    "#                   ds_organizacao_n3 || '-' || an_lanc || '-'|| me_lanc || '-' || va_custo_pensionistas, \n",
    "#                   count(1)\n",
    "#                   from pensionistas\n",
    "#                   group by 1\n",
    "#                   having count(1) > 1\n",
    "#                   \"\"\")\n",
    "df_ps_unique = spark.sql(\"\"\"\n",
    "                  select co_organizacao_n3 ||'-'|| me_lanc || '-' || va_custo_pensionistas, \n",
    "                  count(1)\n",
    "                  from pensionistas\n",
    "                  group by 1\n",
    "                  having count(1) > 1\n",
    "                  \"\"\")\n",
    "# Encontrando a chave primária através de:\n",
    "# 1- co_organizacao_n3\n",
    "# 2- me_lanc\n",
    "# 3- va_custo_pensionistas\n",
    "\n",
    "df_ps_unique.count()"
   ]
  },
  {
   "cell_type": "code",
   "execution_count": 48,
   "metadata": {},
   "outputs": [
    {
     "name": "stdout",
     "output_type": "stream",
     "text": [
      "+--------------------+--------------------+-----+\n",
      "|co_natureza_juridica|ds_natureza_juridica|count|\n",
      "+--------------------+--------------------+-----+\n",
      "|                   3|ADMINISTRACAO DIRETA|   54|\n",
      "|                   4|           AUTARQUIA|   70|\n",
      "|                   2|    FUNDACAO PUBLICA|  126|\n",
      "+--------------------+--------------------+-----+\n",
      "\n"
     ]
    }
   ],
   "source": [
    "df_ps.groupBy([\"co_natureza_juridica\",\"ds_natureza_juridica\"]).count().sort(\"count\", ascending=True).show()\n",
    "# Mostra a quantidade de descricao por natureza juridica"
   ]
  },
  {
   "cell_type": "code",
   "execution_count": 13,
   "metadata": {},
   "outputs": [
    {
     "output_type": "error",
     "ename": "Py4JJavaError",
     "evalue": "An error occurred while calling o67.save.\n: org.postgresql.util.PSQLException: The connection attempt failed.\n\tat org.postgresql.core.v3.ConnectionFactoryImpl.openConnectionImpl(ConnectionFactoryImpl.java:315)\n\tat org.postgresql.core.ConnectionFactory.openConnection(ConnectionFactory.java:51)\n\tat org.postgresql.jdbc.PgConnection.<init>(PgConnection.java:223)\n\tat org.postgresql.Driver.makeConnection(Driver.java:465)\n\tat org.postgresql.Driver.connect(Driver.java:264)\n\tat org.apache.spark.sql.execution.datasources.jdbc.connection.BasicConnectionProvider.getConnection(BasicConnectionProvider.scala:49)\n\tat org.apache.spark.sql.execution.datasources.jdbc.connection.ConnectionProvider$.create(ConnectionProvider.scala:63)\n\tat org.apache.spark.sql.execution.datasources.jdbc.JdbcUtils$.$anonfun$createConnectionFactory$1(JdbcUtils.scala:62)\n\tat org.apache.spark.sql.execution.datasources.jdbc.JdbcRelationProvider.createRelation(JdbcRelationProvider.scala:48)\n\tat org.apache.spark.sql.execution.datasources.SaveIntoDataSourceCommand.run(SaveIntoDataSourceCommand.scala:46)\n\tat org.apache.spark.sql.execution.command.ExecutedCommandExec.sideEffectResult$lzycompute(commands.scala:70)\n\tat org.apache.spark.sql.execution.command.ExecutedCommandExec.sideEffectResult(commands.scala:68)\n\tat org.apache.spark.sql.execution.command.ExecutedCommandExec.doExecute(commands.scala:90)\n\tat org.apache.spark.sql.execution.SparkPlan.$anonfun$execute$1(SparkPlan.scala:180)\n\tat org.apache.spark.sql.execution.SparkPlan.$anonfun$executeQuery$1(SparkPlan.scala:218)\n\tat org.apache.spark.rdd.RDDOperationScope$.withScope(RDDOperationScope.scala:151)\n\tat org.apache.spark.sql.execution.SparkPlan.executeQuery(SparkPlan.scala:215)\n\tat org.apache.spark.sql.execution.SparkPlan.execute(SparkPlan.scala:176)\n\tat org.apache.spark.sql.execution.QueryExecution.toRdd$lzycompute(QueryExecution.scala:132)\n\tat org.apache.spark.sql.execution.QueryExecution.toRdd(QueryExecution.scala:131)\n\tat org.apache.spark.sql.DataFrameWriter.$anonfun$runCommand$1(DataFrameWriter.scala:989)\n\tat org.apache.spark.sql.execution.SQLExecution$.$anonfun$withNewExecutionId$5(SQLExecution.scala:103)\n\tat org.apache.spark.sql.execution.SQLExecution$.withSQLConfPropagated(SQLExecution.scala:163)\n\tat org.apache.spark.sql.execution.SQLExecution$.$anonfun$withNewExecutionId$1(SQLExecution.scala:90)\n\tat org.apache.spark.sql.SparkSession.withActive(SparkSession.scala:772)\n\tat org.apache.spark.sql.execution.SQLExecution$.withNewExecutionId(SQLExecution.scala:64)\n\tat org.apache.spark.sql.DataFrameWriter.runCommand(DataFrameWriter.scala:989)\n\tat org.apache.spark.sql.DataFrameWriter.saveToV1Source(DataFrameWriter.scala:438)\n\tat org.apache.spark.sql.DataFrameWriter.saveInternal(DataFrameWriter.scala:415)\n\tat org.apache.spark.sql.DataFrameWriter.save(DataFrameWriter.scala:301)\n\tat sun.reflect.NativeMethodAccessorImpl.invoke0(Native Method)\n\tat sun.reflect.NativeMethodAccessorImpl.invoke(NativeMethodAccessorImpl.java:62)\n\tat sun.reflect.DelegatingMethodAccessorImpl.invoke(DelegatingMethodAccessorImpl.java:43)\n\tat java.lang.reflect.Method.invoke(Method.java:498)\n\tat py4j.reflection.MethodInvoker.invoke(MethodInvoker.java:244)\n\tat py4j.reflection.ReflectionEngine.invoke(ReflectionEngine.java:357)\n\tat py4j.Gateway.invoke(Gateway.java:282)\n\tat py4j.commands.AbstractCommand.invokeMethod(AbstractCommand.java:132)\n\tat py4j.commands.CallCommand.execute(CallCommand.java:79)\n\tat py4j.GatewayConnection.run(GatewayConnection.java:238)\n\tat java.lang.Thread.run(Thread.java:748)\nCaused by: java.net.SocketTimeoutException: connect timed out\n\tat java.net.PlainSocketImpl.socketConnect(Native Method)\n\tat java.net.AbstractPlainSocketImpl.doConnect(AbstractPlainSocketImpl.java:476)\n\tat java.net.AbstractPlainSocketImpl.connectToAddress(AbstractPlainSocketImpl.java:218)\n\tat java.net.AbstractPlainSocketImpl.connect(AbstractPlainSocketImpl.java:200)\n\tat java.net.SocksSocketImpl.connect(SocksSocketImpl.java:394)\n\tat java.net.Socket.connect(Socket.java:606)\n\tat org.postgresql.core.PGStream.createSocket(PGStream.java:231)\n\tat org.postgresql.core.PGStream.<init>(PGStream.java:95)\n\tat org.postgresql.core.v3.ConnectionFactoryImpl.tryConnect(ConnectionFactoryImpl.java:98)\n\tat org.postgresql.core.v3.ConnectionFactoryImpl.openConnectionImpl(ConnectionFactoryImpl.java:213)\n\t... 40 more\n",
     "traceback": [
      "\u001b[0;31m---------------------------------------------------------------------------\u001b[0m",
      "\u001b[0;31mPy4JJavaError\u001b[0m                             Traceback (most recent call last)",
      "\u001b[0;32m<ipython-input-13-d5f891257a28>\u001b[0m in \u001b[0;36m<module>\u001b[0;34m\u001b[0m\n\u001b[0;32m----> 1\u001b[0;31m \u001b[0mdf\u001b[0m\u001b[0;34m.\u001b[0m\u001b[0mwrite\u001b[0m\u001b[0;31m \u001b[0m\u001b[0;31m\\\u001b[0m\u001b[0;34m\u001b[0m\u001b[0;34m\u001b[0m\u001b[0m\n\u001b[0m\u001b[1;32m      2\u001b[0m   \u001b[0;34m.\u001b[0m\u001b[0mformat\u001b[0m\u001b[0;34m(\u001b[0m\u001b[0;34m\"jdbc\"\u001b[0m\u001b[0;34m)\u001b[0m\u001b[0;31m \u001b[0m\u001b[0;31m\\\u001b[0m\u001b[0;34m\u001b[0m\u001b[0;34m\u001b[0m\u001b[0m\n\u001b[1;32m      3\u001b[0m   \u001b[0;34m.\u001b[0m\u001b[0moption\u001b[0m\u001b[0;34m(\u001b[0m\u001b[0;34m\"url\"\u001b[0m\u001b[0;34m,\u001b[0m \u001b[0;34m\"jdbc:postgresql://172.25.0.1:5432/custos_stn\"\u001b[0m\u001b[0;34m)\u001b[0m\u001b[0;31m \u001b[0m\u001b[0;31m\\\u001b[0m\u001b[0;34m\u001b[0m\u001b[0;34m\u001b[0m\u001b[0m\n\u001b[1;32m      4\u001b[0m   \u001b[0;34m.\u001b[0m\u001b[0moption\u001b[0m\u001b[0;34m(\u001b[0m\u001b[0;34m\"dbtable\"\u001b[0m\u001b[0;34m,\u001b[0m \u001b[0;34m\"custos_stn_spark.pensionistas\"\u001b[0m\u001b[0;34m)\u001b[0m\u001b[0;31m \u001b[0m\u001b[0;31m\\\u001b[0m\u001b[0;34m\u001b[0m\u001b[0;34m\u001b[0m\u001b[0m\n\u001b[1;32m      5\u001b[0m   \u001b[0;34m.\u001b[0m\u001b[0moption\u001b[0m\u001b[0;34m(\u001b[0m\u001b[0;34m\"user\"\u001b[0m\u001b[0;34m,\u001b[0m \u001b[0;34m\"postgres\"\u001b[0m\u001b[0;34m)\u001b[0m\u001b[0;31m \u001b[0m\u001b[0;31m\\\u001b[0m\u001b[0;34m\u001b[0m\u001b[0;34m\u001b[0m\u001b[0m\n",
      "\u001b[0;32m~/Library/Python/3.8/lib/python/site-packages/pyspark/sql/readwriter.py\u001b[0m in \u001b[0;36msave\u001b[0;34m(self, path, format, mode, partitionBy, **options)\u001b[0m\n\u001b[1;32m   1105\u001b[0m             \u001b[0mself\u001b[0m\u001b[0;34m.\u001b[0m\u001b[0mformat\u001b[0m\u001b[0;34m(\u001b[0m\u001b[0mformat\u001b[0m\u001b[0;34m)\u001b[0m\u001b[0;34m\u001b[0m\u001b[0;34m\u001b[0m\u001b[0m\n\u001b[1;32m   1106\u001b[0m         \u001b[0;32mif\u001b[0m \u001b[0mpath\u001b[0m \u001b[0;32mis\u001b[0m \u001b[0;32mNone\u001b[0m\u001b[0;34m:\u001b[0m\u001b[0;34m\u001b[0m\u001b[0;34m\u001b[0m\u001b[0m\n\u001b[0;32m-> 1107\u001b[0;31m             \u001b[0mself\u001b[0m\u001b[0;34m.\u001b[0m\u001b[0m_jwrite\u001b[0m\u001b[0;34m.\u001b[0m\u001b[0msave\u001b[0m\u001b[0;34m(\u001b[0m\u001b[0;34m)\u001b[0m\u001b[0;34m\u001b[0m\u001b[0;34m\u001b[0m\u001b[0m\n\u001b[0m\u001b[1;32m   1108\u001b[0m         \u001b[0;32melse\u001b[0m\u001b[0;34m:\u001b[0m\u001b[0;34m\u001b[0m\u001b[0;34m\u001b[0m\u001b[0m\n\u001b[1;32m   1109\u001b[0m             \u001b[0mself\u001b[0m\u001b[0;34m.\u001b[0m\u001b[0m_jwrite\u001b[0m\u001b[0;34m.\u001b[0m\u001b[0msave\u001b[0m\u001b[0;34m(\u001b[0m\u001b[0mpath\u001b[0m\u001b[0;34m)\u001b[0m\u001b[0;34m\u001b[0m\u001b[0;34m\u001b[0m\u001b[0m\n",
      "\u001b[0;32m~/Library/Python/3.8/lib/python/site-packages/py4j/java_gateway.py\u001b[0m in \u001b[0;36m__call__\u001b[0;34m(self, *args)\u001b[0m\n\u001b[1;32m   1302\u001b[0m \u001b[0;34m\u001b[0m\u001b[0m\n\u001b[1;32m   1303\u001b[0m         \u001b[0manswer\u001b[0m \u001b[0;34m=\u001b[0m \u001b[0mself\u001b[0m\u001b[0;34m.\u001b[0m\u001b[0mgateway_client\u001b[0m\u001b[0;34m.\u001b[0m\u001b[0msend_command\u001b[0m\u001b[0;34m(\u001b[0m\u001b[0mcommand\u001b[0m\u001b[0;34m)\u001b[0m\u001b[0;34m\u001b[0m\u001b[0;34m\u001b[0m\u001b[0m\n\u001b[0;32m-> 1304\u001b[0;31m         return_value = get_return_value(\n\u001b[0m\u001b[1;32m   1305\u001b[0m             answer, self.gateway_client, self.target_id, self.name)\n\u001b[1;32m   1306\u001b[0m \u001b[0;34m\u001b[0m\u001b[0m\n",
      "\u001b[0;32m~/Library/Python/3.8/lib/python/site-packages/pyspark/sql/utils.py\u001b[0m in \u001b[0;36mdeco\u001b[0;34m(*a, **kw)\u001b[0m\n\u001b[1;32m    109\u001b[0m     \u001b[0;32mdef\u001b[0m \u001b[0mdeco\u001b[0m\u001b[0;34m(\u001b[0m\u001b[0;34m*\u001b[0m\u001b[0ma\u001b[0m\u001b[0;34m,\u001b[0m \u001b[0;34m**\u001b[0m\u001b[0mkw\u001b[0m\u001b[0;34m)\u001b[0m\u001b[0;34m:\u001b[0m\u001b[0;34m\u001b[0m\u001b[0;34m\u001b[0m\u001b[0m\n\u001b[1;32m    110\u001b[0m         \u001b[0;32mtry\u001b[0m\u001b[0;34m:\u001b[0m\u001b[0;34m\u001b[0m\u001b[0;34m\u001b[0m\u001b[0m\n\u001b[0;32m--> 111\u001b[0;31m             \u001b[0;32mreturn\u001b[0m \u001b[0mf\u001b[0m\u001b[0;34m(\u001b[0m\u001b[0;34m*\u001b[0m\u001b[0ma\u001b[0m\u001b[0;34m,\u001b[0m \u001b[0;34m**\u001b[0m\u001b[0mkw\u001b[0m\u001b[0;34m)\u001b[0m\u001b[0;34m\u001b[0m\u001b[0;34m\u001b[0m\u001b[0m\n\u001b[0m\u001b[1;32m    112\u001b[0m         \u001b[0;32mexcept\u001b[0m \u001b[0mpy4j\u001b[0m\u001b[0;34m.\u001b[0m\u001b[0mprotocol\u001b[0m\u001b[0;34m.\u001b[0m\u001b[0mPy4JJavaError\u001b[0m \u001b[0;32mas\u001b[0m \u001b[0me\u001b[0m\u001b[0;34m:\u001b[0m\u001b[0;34m\u001b[0m\u001b[0;34m\u001b[0m\u001b[0m\n\u001b[1;32m    113\u001b[0m             \u001b[0mconverted\u001b[0m \u001b[0;34m=\u001b[0m \u001b[0mconvert_exception\u001b[0m\u001b[0;34m(\u001b[0m\u001b[0me\u001b[0m\u001b[0;34m.\u001b[0m\u001b[0mjava_exception\u001b[0m\u001b[0;34m)\u001b[0m\u001b[0;34m\u001b[0m\u001b[0;34m\u001b[0m\u001b[0m\n",
      "\u001b[0;32m~/Library/Python/3.8/lib/python/site-packages/py4j/protocol.py\u001b[0m in \u001b[0;36mget_return_value\u001b[0;34m(answer, gateway_client, target_id, name)\u001b[0m\n\u001b[1;32m    324\u001b[0m             \u001b[0mvalue\u001b[0m \u001b[0;34m=\u001b[0m \u001b[0mOUTPUT_CONVERTER\u001b[0m\u001b[0;34m[\u001b[0m\u001b[0mtype\u001b[0m\u001b[0;34m]\u001b[0m\u001b[0;34m(\u001b[0m\u001b[0manswer\u001b[0m\u001b[0;34m[\u001b[0m\u001b[0;36m2\u001b[0m\u001b[0;34m:\u001b[0m\u001b[0;34m]\u001b[0m\u001b[0;34m,\u001b[0m \u001b[0mgateway_client\u001b[0m\u001b[0;34m)\u001b[0m\u001b[0;34m\u001b[0m\u001b[0;34m\u001b[0m\u001b[0m\n\u001b[1;32m    325\u001b[0m             \u001b[0;32mif\u001b[0m \u001b[0manswer\u001b[0m\u001b[0;34m[\u001b[0m\u001b[0;36m1\u001b[0m\u001b[0;34m]\u001b[0m \u001b[0;34m==\u001b[0m \u001b[0mREFERENCE_TYPE\u001b[0m\u001b[0;34m:\u001b[0m\u001b[0;34m\u001b[0m\u001b[0;34m\u001b[0m\u001b[0m\n\u001b[0;32m--> 326\u001b[0;31m                 raise Py4JJavaError(\n\u001b[0m\u001b[1;32m    327\u001b[0m                     \u001b[0;34m\"An error occurred while calling {0}{1}{2}.\\n\"\u001b[0m\u001b[0;34m.\u001b[0m\u001b[0;34m\u001b[0m\u001b[0;34m\u001b[0m\u001b[0m\n\u001b[1;32m    328\u001b[0m                     format(target_id, \".\", name), value)\n",
      "\u001b[0;31mPy4JJavaError\u001b[0m: An error occurred while calling o67.save.\n: org.postgresql.util.PSQLException: The connection attempt failed.\n\tat org.postgresql.core.v3.ConnectionFactoryImpl.openConnectionImpl(ConnectionFactoryImpl.java:315)\n\tat org.postgresql.core.ConnectionFactory.openConnection(ConnectionFactory.java:51)\n\tat org.postgresql.jdbc.PgConnection.<init>(PgConnection.java:223)\n\tat org.postgresql.Driver.makeConnection(Driver.java:465)\n\tat org.postgresql.Driver.connect(Driver.java:264)\n\tat org.apache.spark.sql.execution.datasources.jdbc.connection.BasicConnectionProvider.getConnection(BasicConnectionProvider.scala:49)\n\tat org.apache.spark.sql.execution.datasources.jdbc.connection.ConnectionProvider$.create(ConnectionProvider.scala:63)\n\tat org.apache.spark.sql.execution.datasources.jdbc.JdbcUtils$.$anonfun$createConnectionFactory$1(JdbcUtils.scala:62)\n\tat org.apache.spark.sql.execution.datasources.jdbc.JdbcRelationProvider.createRelation(JdbcRelationProvider.scala:48)\n\tat org.apache.spark.sql.execution.datasources.SaveIntoDataSourceCommand.run(SaveIntoDataSourceCommand.scala:46)\n\tat org.apache.spark.sql.execution.command.ExecutedCommandExec.sideEffectResult$lzycompute(commands.scala:70)\n\tat org.apache.spark.sql.execution.command.ExecutedCommandExec.sideEffectResult(commands.scala:68)\n\tat org.apache.spark.sql.execution.command.ExecutedCommandExec.doExecute(commands.scala:90)\n\tat org.apache.spark.sql.execution.SparkPlan.$anonfun$execute$1(SparkPlan.scala:180)\n\tat org.apache.spark.sql.execution.SparkPlan.$anonfun$executeQuery$1(SparkPlan.scala:218)\n\tat org.apache.spark.rdd.RDDOperationScope$.withScope(RDDOperationScope.scala:151)\n\tat org.apache.spark.sql.execution.SparkPlan.executeQuery(SparkPlan.scala:215)\n\tat org.apache.spark.sql.execution.SparkPlan.execute(SparkPlan.scala:176)\n\tat org.apache.spark.sql.execution.QueryExecution.toRdd$lzycompute(QueryExecution.scala:132)\n\tat org.apache.spark.sql.execution.QueryExecution.toRdd(QueryExecution.scala:131)\n\tat org.apache.spark.sql.DataFrameWriter.$anonfun$runCommand$1(DataFrameWriter.scala:989)\n\tat org.apache.spark.sql.execution.SQLExecution$.$anonfun$withNewExecutionId$5(SQLExecution.scala:103)\n\tat org.apache.spark.sql.execution.SQLExecution$.withSQLConfPropagated(SQLExecution.scala:163)\n\tat org.apache.spark.sql.execution.SQLExecution$.$anonfun$withNewExecutionId$1(SQLExecution.scala:90)\n\tat org.apache.spark.sql.SparkSession.withActive(SparkSession.scala:772)\n\tat org.apache.spark.sql.execution.SQLExecution$.withNewExecutionId(SQLExecution.scala:64)\n\tat org.apache.spark.sql.DataFrameWriter.runCommand(DataFrameWriter.scala:989)\n\tat org.apache.spark.sql.DataFrameWriter.saveToV1Source(DataFrameWriter.scala:438)\n\tat org.apache.spark.sql.DataFrameWriter.saveInternal(DataFrameWriter.scala:415)\n\tat org.apache.spark.sql.DataFrameWriter.save(DataFrameWriter.scala:301)\n\tat sun.reflect.NativeMethodAccessorImpl.invoke0(Native Method)\n\tat sun.reflect.NativeMethodAccessorImpl.invoke(NativeMethodAccessorImpl.java:62)\n\tat sun.reflect.DelegatingMethodAccessorImpl.invoke(DelegatingMethodAccessorImpl.java:43)\n\tat java.lang.reflect.Method.invoke(Method.java:498)\n\tat py4j.reflection.MethodInvoker.invoke(MethodInvoker.java:244)\n\tat py4j.reflection.ReflectionEngine.invoke(ReflectionEngine.java:357)\n\tat py4j.Gateway.invoke(Gateway.java:282)\n\tat py4j.commands.AbstractCommand.invokeMethod(AbstractCommand.java:132)\n\tat py4j.commands.CallCommand.execute(CallCommand.java:79)\n\tat py4j.GatewayConnection.run(GatewayConnection.java:238)\n\tat java.lang.Thread.run(Thread.java:748)\nCaused by: java.net.SocketTimeoutException: connect timed out\n\tat java.net.PlainSocketImpl.socketConnect(Native Method)\n\tat java.net.AbstractPlainSocketImpl.doConnect(AbstractPlainSocketImpl.java:476)\n\tat java.net.AbstractPlainSocketImpl.connectToAddress(AbstractPlainSocketImpl.java:218)\n\tat java.net.AbstractPlainSocketImpl.connect(AbstractPlainSocketImpl.java:200)\n\tat java.net.SocksSocketImpl.connect(SocksSocketImpl.java:394)\n\tat java.net.Socket.connect(Socket.java:606)\n\tat org.postgresql.core.PGStream.createSocket(PGStream.java:231)\n\tat org.postgresql.core.PGStream.<init>(PGStream.java:95)\n\tat org.postgresql.core.v3.ConnectionFactoryImpl.tryConnect(ConnectionFactoryImpl.java:98)\n\tat org.postgresql.core.v3.ConnectionFactoryImpl.openConnectionImpl(ConnectionFactoryImpl.java:213)\n\t... 40 more\n"
     ]
    }
   ],
   "source": [
    "df.write \\\n",
    "  .format(\"jdbc\") \\\n",
    "  .option(\"url\", \"jdbc:postgresql://<database-ip>:<port>/custos_stn\") \\\n",
    "  .option(\"dbtable\", \"custos_stn.pensionistas\") \\\n",
    "  .option(\"user\", \"postgres\") \\\n",
    "  .option(\"driver\", \"org.postgresql.Driver\") \\\n",
    "  .option(\"password\", \"postgres\")\\\n",
    "  .save()"
   ]
  },
  {
   "cell_type": "code",
   "execution_count": null,
   "metadata": {},
   "outputs": [],
   "source": []
  }
 ],
 "metadata": {
  "kernelspec": {
   "name": "python382jvsc74a57bd067416141c87f4e34d03764903002f26f1f6f73e2e669bf0fc60702a84b4c76a5",
   "display_name": "Python 3.8.2 64-bit"
  },
  "language_info": {
   "codemirror_mode": {
    "name": "ipython",
    "version": 3
   },
   "file_extension": ".py",
   "mimetype": "text/x-python",
   "name": "python",
   "nbconvert_exporter": "python",
   "pygments_lexer": "ipython3",
   "version": "3.8.2"
  }
 },
 "nbformat": 4,
 "nbformat_minor": 2
}