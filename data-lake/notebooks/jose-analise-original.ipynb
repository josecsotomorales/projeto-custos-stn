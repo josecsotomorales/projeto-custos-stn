{
 "cells": [
  {
   "cell_type": "code",
   "execution_count": 93,
   "metadata": {},
   "outputs": [],
   "source": [
    "import json\n",
    "import requests\n",
    "\n",
    "from pyspark.sql import SparkSession\n",
    "from pyspark.sql.functions import *"
   ]
  },
  {
   "cell_type": "code",
   "execution_count": 95,
   "metadata": {},
   "outputs": [],
   "source": [
    "spark = SparkSession \\\n",
    "    .builder \\\n",
    "    .appName(\"Spark SQL Exemplo\") \\\n",
    "    .getOrCreate()\n",
    "\n",
    "request = requests.get(\"http://apidatalake.tesouro.gov.br/ords/custos/tt/depreciacao?offset=123999\")\n",
    "df = spark.createDataFrame([json.loads(line) for line in request.iter_lines()])"
   ]
  },
  {
   "cell_type": "code",
   "execution_count": 107,
   "metadata": {},
   "outputs": [
    {
     "name": "stdout",
     "output_type": "stream",
     "text": [
      "root\n",
      " |-- items: array (nullable = true)\n",
      " |    |-- element: map (containsNull = true)\n",
      " |    |    |-- key: string\n",
      " |    |    |-- value: long (valueContainsNull = true)\n",
      "\n",
      "+----------------------------------------------------------------------------------------------------------------------------------------------------------------------------------------------------------------------------------------------------------------------------------------------------------------------------------------------------+\n",
      "|col                                                                                                                                                                                                                                                                                                                                                 |\n",
      "+----------------------------------------------------------------------------------------------------------------------------------------------------------------------------------------------------------------------------------------------------------------------------------------------------------------------------------------------------+\n",
      "|{an_lanc -> 2020, co_organizacao_n3 -> null, co_organizacao_n2 -> null, co_organizacao_n1 -> null, ds_natureza_juridica -> null, id_conta_contabil -> 333110200, va_custo_depreciacao -> null, ds_organizacao_n1 -> null, ds_organizacao_n2 -> null, ds_organizacao_n3 -> null, me_lanc -> 11, co_natureza_juridica -> 3, no_conta_contabil -> null}|\n",
      "|{an_lanc -> 2020, co_organizacao_n3 -> null, co_organizacao_n2 -> null, co_organizacao_n1 -> null, ds_natureza_juridica -> null, id_conta_contabil -> 333110200, va_custo_depreciacao -> null, ds_organizacao_n1 -> null, ds_organizacao_n2 -> null, ds_organizacao_n3 -> null, me_lanc -> 7, co_natureza_juridica -> 3, no_conta_contabil -> null} |\n",
      "|{an_lanc -> 2020, co_organizacao_n3 -> null, co_organizacao_n2 -> null, co_organizacao_n1 -> null, ds_natureza_juridica -> null, id_conta_contabil -> 333110200, va_custo_depreciacao -> null, ds_organizacao_n1 -> null, ds_organizacao_n2 -> null, ds_organizacao_n3 -> null, me_lanc -> 12, co_natureza_juridica -> 3, no_conta_contabil -> null}|\n",
      "|{an_lanc -> 2021, co_organizacao_n3 -> null, co_organizacao_n2 -> null, co_organizacao_n1 -> null, ds_natureza_juridica -> null, id_conta_contabil -> 333110100, va_custo_depreciacao -> null, ds_organizacao_n1 -> null, ds_organizacao_n2 -> null, ds_organizacao_n3 -> null, me_lanc -> 1, co_natureza_juridica -> 4, no_conta_contabil -> null} |\n",
      "|{an_lanc -> 2021, co_organizacao_n3 -> null, co_organizacao_n2 -> null, co_organizacao_n1 -> null, ds_natureza_juridica -> null, id_conta_contabil -> 333110100, va_custo_depreciacao -> null, ds_organizacao_n1 -> null, ds_organizacao_n2 -> null, ds_organizacao_n3 -> null, me_lanc -> 2, co_natureza_juridica -> 4, no_conta_contabil -> null} |\n",
      "|{an_lanc -> 2021, co_organizacao_n3 -> null, co_organizacao_n2 -> null, co_organizacao_n1 -> null, ds_natureza_juridica -> null, id_conta_contabil -> 333110100, va_custo_depreciacao -> 0, ds_organizacao_n1 -> null, ds_organizacao_n2 -> null, ds_organizacao_n3 -> null, me_lanc -> 3, co_natureza_juridica -> 4, no_conta_contabil -> null}    |\n",
      "|{an_lanc -> 2020, co_organizacao_n3 -> null, co_organizacao_n2 -> null, co_organizacao_n1 -> null, ds_natureza_juridica -> null, id_conta_contabil -> 333110200, va_custo_depreciacao -> null, ds_organizacao_n1 -> null, ds_organizacao_n2 -> null, ds_organizacao_n3 -> null, me_lanc -> 4, co_natureza_juridica -> 4, no_conta_contabil -> null} |\n",
      "|{an_lanc -> 2020, co_organizacao_n3 -> null, co_organizacao_n2 -> null, co_organizacao_n1 -> null, ds_natureza_juridica -> null, id_conta_contabil -> 333110200, va_custo_depreciacao -> null, ds_organizacao_n1 -> null, ds_organizacao_n2 -> null, ds_organizacao_n3 -> null, me_lanc -> 6, co_natureza_juridica -> 4, no_conta_contabil -> null} |\n",
      "|{an_lanc -> 2020, co_organizacao_n3 -> null, co_organizacao_n2 -> null, co_organizacao_n1 -> null, ds_natureza_juridica -> null, id_conta_contabil -> 333110100, va_custo_depreciacao -> 0, ds_organizacao_n1 -> null, ds_organizacao_n2 -> null, ds_organizacao_n3 -> null, me_lanc -> 2, co_natureza_juridica -> 3, no_conta_contabil -> null}    |\n",
      "|{an_lanc -> 2020, co_organizacao_n3 -> null, co_organizacao_n2 -> null, co_organizacao_n1 -> null, ds_natureza_juridica -> null, id_conta_contabil -> 333110100, va_custo_depreciacao -> null, ds_organizacao_n1 -> null, ds_organizacao_n2 -> null, ds_organizacao_n3 -> null, me_lanc -> 10, co_natureza_juridica -> 1, no_conta_contabil -> null}|\n",
      "|{an_lanc -> 2020, co_organizacao_n3 -> null, co_organizacao_n2 -> null, co_organizacao_n1 -> null, ds_natureza_juridica -> null, id_conta_contabil -> 333110100, va_custo_depreciacao -> null, ds_organizacao_n1 -> null, ds_organizacao_n2 -> null, ds_organizacao_n3 -> null, me_lanc -> 11, co_natureza_juridica -> 1, no_conta_contabil -> null}|\n",
      "|{an_lanc -> 2020, co_organizacao_n3 -> null, co_organizacao_n2 -> null, co_organizacao_n1 -> null, ds_natureza_juridica -> null, id_conta_contabil -> 333110100, va_custo_depreciacao -> null, ds_organizacao_n1 -> null, ds_organizacao_n2 -> null, ds_organizacao_n3 -> null, me_lanc -> 12, co_natureza_juridica -> 1, no_conta_contabil -> null}|\n",
      "|{an_lanc -> 2020, co_organizacao_n3 -> null, co_organizacao_n2 -> null, co_organizacao_n1 -> null, ds_natureza_juridica -> null, id_conta_contabil -> 333110100, va_custo_depreciacao -> null, ds_organizacao_n1 -> null, ds_organizacao_n2 -> null, ds_organizacao_n3 -> null, me_lanc -> 5, co_natureza_juridica -> 1, no_conta_contabil -> null} |\n",
      "|{an_lanc -> 2020, co_organizacao_n3 -> null, co_organizacao_n2 -> null, co_organizacao_n1 -> null, ds_natureza_juridica -> null, id_conta_contabil -> 333110100, va_custo_depreciacao -> null, ds_organizacao_n1 -> null, ds_organizacao_n2 -> null, ds_organizacao_n3 -> null, me_lanc -> 2, co_natureza_juridica -> 1, no_conta_contabil -> null} |\n",
      "|{an_lanc -> 2020, co_organizacao_n3 -> null, co_organizacao_n2 -> null, co_organizacao_n1 -> null, ds_natureza_juridica -> null, id_conta_contabil -> 333110100, va_custo_depreciacao -> null, ds_organizacao_n1 -> null, ds_organizacao_n2 -> null, ds_organizacao_n3 -> null, me_lanc -> 8, co_natureza_juridica -> 1, no_conta_contabil -> null} |\n",
      "|{an_lanc -> 2020, co_organizacao_n3 -> null, co_organizacao_n2 -> null, co_organizacao_n1 -> null, ds_natureza_juridica -> null, id_conta_contabil -> 333110100, va_custo_depreciacao -> null, ds_organizacao_n1 -> null, ds_organizacao_n2 -> null, ds_organizacao_n3 -> null, me_lanc -> 1, co_natureza_juridica -> 1, no_conta_contabil -> null} |\n",
      "|{an_lanc -> 2020, co_organizacao_n3 -> null, co_organizacao_n2 -> null, co_organizacao_n1 -> null, ds_natureza_juridica -> null, id_conta_contabil -> 333110100, va_custo_depreciacao -> null, ds_organizacao_n1 -> null, ds_organizacao_n2 -> null, ds_organizacao_n3 -> null, me_lanc -> 9, co_natureza_juridica -> 1, no_conta_contabil -> null} |\n",
      "|{an_lanc -> 2020, co_organizacao_n3 -> null, co_organizacao_n2 -> null, co_organizacao_n1 -> null, ds_natureza_juridica -> null, id_conta_contabil -> 333110100, va_custo_depreciacao -> null, ds_organizacao_n1 -> null, ds_organizacao_n2 -> null, ds_organizacao_n3 -> null, me_lanc -> 10, co_natureza_juridica -> 1, no_conta_contabil -> null}|\n",
      "|{an_lanc -> 2020, co_organizacao_n3 -> null, co_organizacao_n2 -> null, co_organizacao_n1 -> null, ds_natureza_juridica -> null, id_conta_contabil -> 333110100, va_custo_depreciacao -> null, ds_organizacao_n1 -> null, ds_organizacao_n2 -> null, ds_organizacao_n3 -> null, me_lanc -> 3, co_natureza_juridica -> 1, no_conta_contabil -> null} |\n",
      "|{an_lanc -> 2020, co_organizacao_n3 -> null, co_organizacao_n2 -> null, co_organizacao_n1 -> null, ds_natureza_juridica -> null, id_conta_contabil -> 333110100, va_custo_depreciacao -> null, ds_organizacao_n1 -> null, ds_organizacao_n2 -> null, ds_organizacao_n3 -> null, me_lanc -> 11, co_natureza_juridica -> 1, no_conta_contabil -> null}|\n",
      "+----------------------------------------------------------------------------------------------------------------------------------------------------------------------------------------------------------------------------------------------------------------------------------------------------------------------------------------------------+\n",
      "only showing top 20 rows\n",
      "\n"
     ]
    }
   ],
   "source": [
    "df.printSchema()\n",
    "df = df.select(\"items\")\n",
    "df.select(explode(df.items)).show(truncate=False)\n",
    "\n",
    "\n",
    "# df.createOrReplaceTempView(\"items\")\n",
    "# spark.sql(\"select * from items\").show()"
   ]
  },
  {
   "cell_type": "code",
   "execution_count": null,
   "metadata": {},
   "outputs": [],
   "source": []
  }
 ],
 "metadata": {
  "kernelspec": {
   "display_name": "Python 3",
   "language": "python",
   "name": "python3"
  },
  "language_info": {
   "codemirror_mode": {
    "name": "ipython",
    "version": 3
   },
   "file_extension": ".py",
   "mimetype": "text/x-python",
   "name": "python",
   "nbconvert_exporter": "python",
   "pygments_lexer": "ipython3",
   "version": "3.8.8"
  }
 },
 "nbformat": 4,
 "nbformat_minor": 2
}
