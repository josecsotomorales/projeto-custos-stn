{
 "cells": [
  {
   "cell_type": "code",
   "execution_count": 2,
   "metadata": {},
   "outputs": [],
   "source": [
    "import os\n",
    "from pyspark.sql import SparkSession\n",
    "from pyspark.sql.functions import *"
   ]
  },
  {
   "cell_type": "code",
   "execution_count": 4,
   "metadata": {},
   "outputs": [],
   "source": [
    "# criar spark session\n",
    "spark = SparkSession \\\n",
    "    .builder \\\n",
    "    .config('spark.jars.packages', 'org.apache.hadoop:hadoop-aws:3.2.0') \\\n",
    "    .config('spark.hadoop.fs.s3a.access.key', '') \\\n",
    "    .config('spark.hadoop.fs.s3a.secret.key', '') \\\n",
    "    .appName('spark etl - pessoal inativo') \\\n",
    "    .getOrCreate()\n",
    "\n",
    "# ler arquivos no s3\n",
    "df = spark.read.csv('s3a://custos-stn-bucket/pessoal_inativo/pessoal_inativo_100.csv', header=True, inferSchema=True)"
   ]
  },
  {
   "cell_type": "code",
   "execution_count": 7,
   "metadata": {
    "scrolled": false
   },
   "outputs": [
    {
     "name": "stdout",
     "output_type": "stream",
     "text": [
      "root\n",
      " |-- co_natureza_juridica: integer (nullable = true)\n",
      " |-- ds_natureza_juridica: string (nullable = true)\n",
      " |-- co_organizacao_n1: integer (nullable = true)\n",
      " |-- ds_organizacao_n1: string (nullable = true)\n",
      " |-- co_organizacao_n2: integer (nullable = true)\n",
      " |-- ds_organizacao_n2: string (nullable = true)\n",
      " |-- co_organizacao_n3: integer (nullable = true)\n",
      " |-- ds_organizacao_n3: string (nullable = true)\n",
      " |-- an_lanc: integer (nullable = true)\n",
      " |-- me_lanc: integer (nullable = true)\n",
      " |-- va_custo_pessoal_inativo: double (nullable = true)\n",
      "\n"
     ]
    }
   ],
   "source": [
    "# schema\n",
    "df.printSchema()"
   ]
  },
  {
   "cell_type": "code",
   "execution_count": 8,
   "metadata": {},
   "outputs": [
    {
     "data": {
      "text/plain": [
       "250"
      ]
     },
     "execution_count": 8,
     "metadata": {},
     "output_type": "execute_result"
    }
   ],
   "source": [
    "# contagem de linhas\n",
    "df.count()"
   ]
  },
  {
   "cell_type": "code",
   "execution_count": 9,
   "metadata": {},
   "outputs": [
    {
     "name": "stdout",
     "output_type": "stream",
     "text": [
      "+--------------------+--------------------+-----------------+--------------------+-----------------+--------------------+-----------------+--------------------+-------+-------+------------------------+\n",
      "|co_natureza_juridica|ds_natureza_juridica|co_organizacao_n1|   ds_organizacao_n1|co_organizacao_n2|   ds_organizacao_n2|co_organizacao_n3|   ds_organizacao_n3|an_lanc|me_lanc|va_custo_pessoal_inativo|\n",
      "+--------------------+--------------------+-----------------+--------------------+-----------------+--------------------+-----------------+--------------------+-------+-------+------------------------+\n",
      "|                   3|ADMINISTRACAO DIRETA|              316|MINISTERIO DA JUS...|              324|DEPARTAMENTO DE P...|             1147|SUPERINTENDENCIA ...|   2016|     12|              5081721.02|\n",
      "|                   3|ADMINISTRACAO DIRETA|              316|MINISTERIO DA JUS...|              324|DEPARTAMENTO DE P...|             1147|SUPERINTENDENCIA ...|   2016|     10|              5079777.86|\n",
      "|                   3|ADMINISTRACAO DIRETA|              316|MINISTERIO DA JUS...|              324|DEPARTAMENTO DE P...|             1147|SUPERINTENDENCIA ...|   2016|      2|              4764133.43|\n",
      "|                   3|ADMINISTRACAO DIRETA|              316|MINISTERIO DA JUS...|              324|DEPARTAMENTO DE P...|             1147|SUPERINTENDENCIA ...|   2016|      8|              5041910.51|\n",
      "|                   3|ADMINISTRACAO DIRETA|              316|MINISTERIO DA JUS...|              324|DEPARTAMENTO DE P...|             1147|SUPERINTENDENCIA ...|   2016|      3|               5138459.2|\n",
      "+--------------------+--------------------+-----------------+--------------------+-----------------+--------------------+-----------------+--------------------+-------+-------+------------------------+\n",
      "only showing top 5 rows\n",
      "\n"
     ]
    }
   ],
   "source": [
    "# emprimir primeiras 5 linhas\n",
    "df.show(5)"
   ]
  },
  {
   "cell_type": "code",
   "execution_count": 11,
   "metadata": {},
   "outputs": [],
   "source": [
    "# criar view para spark sql\n",
    "df.createOrReplaceTempView(\"pessoal_inativo\")"
   ]
  },
  {
   "cell_type": "code",
   "execution_count": 12,
   "metadata": {},
   "outputs": [
    {
     "name": "stdout",
     "output_type": "stream",
     "text": [
      "root\n",
      " |-- co_natureza_juridica: integer (nullable = true)\n",
      " |-- ds_natureza_juridica: string (nullable = true)\n",
      " |-- co_organizacao_n1: integer (nullable = true)\n",
      " |-- ds_organizacao_n1: string (nullable = true)\n",
      " |-- co_organizacao_n2: integer (nullable = true)\n",
      " |-- ds_organizacao_n2: string (nullable = true)\n",
      " |-- co_organizacao_n3: integer (nullable = true)\n",
      " |-- ds_organizacao_n3: string (nullable = true)\n",
      " |-- an_lanc: integer (nullable = true)\n",
      " |-- me_lanc: integer (nullable = true)\n",
      " |-- va_custo_pessoal_inativo: double (nullable = true)\n",
      "\n"
     ]
    }
   ],
   "source": [
    "\n",
    "df_pi = spark.sql(\"\"\"\n",
    "                  select *\n",
    "                  from pessoal_inativo\n",
    "                  \"\"\")\n",
    "\n",
    "df_pi.printSchema()\n"
   ]
  },
  {
   "cell_type": "code",
   "execution_count": 13,
   "metadata": {},
   "outputs": [
    {
     "name": "stdout",
     "output_type": "stream",
     "text": [
      "+--------------------+--------------------+-----------------+--------------------+-----------------+--------------------+-----------------+--------------------+-------+-------+------------------------+\n",
      "|co_natureza_juridica|ds_natureza_juridica|co_organizacao_n1|   ds_organizacao_n1|co_organizacao_n2|   ds_organizacao_n2|co_organizacao_n3|   ds_organizacao_n3|an_lanc|me_lanc|va_custo_pessoal_inativo|\n",
      "+--------------------+--------------------+-----------------+--------------------+-----------------+--------------------+-----------------+--------------------+-------+-------+------------------------+\n",
      "|                   3|ADMINISTRACAO DIRETA|              316|MINISTERIO DA JUS...|              324|DEPARTAMENTO DE P...|             1147|SUPERINTENDENCIA ...|   2016|     12|              5081721.02|\n",
      "|                   3|ADMINISTRACAO DIRETA|              316|MINISTERIO DA JUS...|              324|DEPARTAMENTO DE P...|             1147|SUPERINTENDENCIA ...|   2016|     10|              5079777.86|\n",
      "|                   3|ADMINISTRACAO DIRETA|              316|MINISTERIO DA JUS...|              324|DEPARTAMENTO DE P...|             1147|SUPERINTENDENCIA ...|   2016|      2|              4764133.43|\n",
      "|                   3|ADMINISTRACAO DIRETA|              316|MINISTERIO DA JUS...|              324|DEPARTAMENTO DE P...|             1147|SUPERINTENDENCIA ...|   2016|      8|              5041910.51|\n",
      "|                   3|ADMINISTRACAO DIRETA|              316|MINISTERIO DA JUS...|              324|DEPARTAMENTO DE P...|             1147|SUPERINTENDENCIA ...|   2016|      3|               5138459.2|\n",
      "|                   3|ADMINISTRACAO DIRETA|              316|MINISTERIO DA JUS...|              324|DEPARTAMENTO DE P...|             1147|SUPERINTENDENCIA ...|   2016|     11|              5154294.57|\n",
      "|                   3|ADMINISTRACAO DIRETA|              316|MINISTERIO DA JUS...|              324|DEPARTAMENTO DE P...|             1147|SUPERINTENDENCIA ...|   2016|      9|              5039063.33|\n",
      "|                   3|ADMINISTRACAO DIRETA|              316|MINISTERIO DA JUS...|              324|DEPARTAMENTO DE P...|             1147|SUPERINTENDENCIA ...|   2016|      7|              5020590.69|\n",
      "|                   3|ADMINISTRACAO DIRETA|              316|MINISTERIO DA JUS...|              324|DEPARTAMENTO DE P...|             1147|SUPERINTENDENCIA ...|   2016|      1|              4915327.71|\n",
      "|                   3|ADMINISTRACAO DIRETA|              316|MINISTERIO DA JUS...|              324|DEPARTAMENTO DE P...|             1147|SUPERINTENDENCIA ...|   2016|      5|              4983452.15|\n",
      "|                   3|ADMINISTRACAO DIRETA|              316|MINISTERIO DA JUS...|              324|DEPARTAMENTO DE P...|             1147|SUPERINTENDENCIA ...|   2017|      3|              6549056.13|\n",
      "|                   3|ADMINISTRACAO DIRETA|              316|MINISTERIO DA JUS...|              324|DEPARTAMENTO DE P...|             1147|SUPERINTENDENCIA ...|   2017|     11|              6955796.58|\n",
      "|                   3|ADMINISTRACAO DIRETA|              316|MINISTERIO DA JUS...|              324|DEPARTAMENTO DE P...|             1147|SUPERINTENDENCIA ...|   2017|      7|              6807783.88|\n",
      "|                   3|ADMINISTRACAO DIRETA|            41066|MINISTERIO DA DEFESA|               48|COMANDO DA AERONA...|               63|COMANDO-GERAL DO ...|   2015|     12|              2342869.97|\n",
      "|                   3|ADMINISTRACAO DIRETA|            41066|MINISTERIO DA DEFESA|               48|COMANDO DA AERONA...|               63|COMANDO-GERAL DO ...|   2015|      4|              2427586.53|\n",
      "|                   3|ADMINISTRACAO DIRETA|            41066|MINISTERIO DA DEFESA|               48|COMANDO DA AERONA...|               63|COMANDO-GERAL DO ...|   2015|      9|              2369347.25|\n",
      "|                   3|ADMINISTRACAO DIRETA|            41066|MINISTERIO DA DEFESA|               48|COMANDO DA AERONA...|               63|COMANDO-GERAL DO ...|   2015|      3|              2431386.01|\n",
      "|                   3|ADMINISTRACAO DIRETA|            41066|MINISTERIO DA DEFESA|               48|COMANDO DA AERONA...|               63|COMANDO-GERAL DO ...|   2015|     10|              2396476.01|\n",
      "|                   3|ADMINISTRACAO DIRETA|            41066|MINISTERIO DA DEFESA|               48|COMANDO DA AERONA...|               63|COMANDO-GERAL DO ...|   2015|      7|               2419421.8|\n",
      "|                   3|ADMINISTRACAO DIRETA|            41066|MINISTERIO DA DEFESA|               48|COMANDO DA AERONA...|               63|COMANDO-GERAL DO ...|   2015|      1|              2438112.58|\n",
      "+--------------------+--------------------+-----------------+--------------------+-----------------+--------------------+-----------------+--------------------+-------+-------+------------------------+\n",
      "only showing top 20 rows\n",
      "\n"
     ]
    }
   ],
   "source": [
    "df_pi.show()"
   ]
  },
  {
   "cell_type": "code",
   "execution_count": 14,
   "metadata": {},
   "outputs": [
    {
     "data": {
      "text/plain": [
       "[Row(co_natureza_juridica=3, ds_natureza_juridica='ADMINISTRACAO DIRETA', co_organizacao_n1=316, ds_organizacao_n1='MINISTERIO DA JUSTICA E CIDADANIA', co_organizacao_n2=324, ds_organizacao_n2='DEPARTAMENTO DE POLICIA FEDERAL', co_organizacao_n3=1147, ds_organizacao_n3='SUPERINTENDENCIA REGIONAL DE POLICIA FEDERAL NO PARANA', an_lanc=2016, me_lanc=12, va_custo_pessoal_inativo=5081721.02)]"
      ]
     },
     "execution_count": 14,
     "metadata": {},
     "output_type": "execute_result"
    }
   ],
   "source": [
    "df_pi.head(1) # Mostra o cabeçalho da primeira linha"
   ]
  },
  {
   "cell_type": "code",
   "execution_count": 21,
   "metadata": {},
   "outputs": [
    {
     "name": "stdout",
     "output_type": "stream",
     "text": [
      "+-------+--------------------+--------------------+-----------------+--------------------+------------------+\n",
      "|summary|co_natureza_juridica|ds_natureza_juridica|co_organizacao_n1|   ds_organizacao_n1| co_organizacao_n2|\n",
      "+-------+--------------------+--------------------+-----------------+--------------------+------------------+\n",
      "|  count|                 250|                 250|              250|                 250|               250|\n",
      "|   mean|               3.136|                null|        29702.796|                null|          4872.712|\n",
      "| stddev|  0.6253545179275268|                null|68342.58704610913|                null|14999.651330521148|\n",
      "|    min|                   2|ADMINISTRACAO DIRETA|               46|ADVOCACIA-GERAL D...|                -9|\n",
      "|    max|                   4|    FUNDACAO PUBLICA|           235881|MINISTERIO DOS TR...|            116538|\n",
      "+-------+--------------------+--------------------+-----------------+--------------------+------------------+\n",
      "\n"
     ]
    }
   ],
   "source": [
    "df_pi.describe([\"co_natureza_juridica\",\"ds_natureza_juridica\",\"co_organizacao_n1\",\"ds_organizacao_n1\",\"co_organizacao_n2\"]).show()"
   ]
  },
  {
   "cell_type": "code",
   "execution_count": 23,
   "metadata": {},
   "outputs": [
    {
     "name": "stdout",
     "output_type": "stream",
     "text": [
      "+-------+--------------------+------------------+--------------------+------------------+------------------+\n",
      "|summary|   ds_organizacao_n2| co_organizacao_n3|   ds_organizacao_n3|           an_lanc|           me_lanc|\n",
      "+-------+--------------------+------------------+--------------------+------------------+------------------+\n",
      "|  count|                 250|               250|                 250|               250|               250|\n",
      "|   mean|                null|           665.252|                null|          2017.568|             6.264|\n",
      "| stddev|                null|2200.3917624206183|                null|0.8627591863634767|3.4118715494402068|\n",
      "|    min|AGENCIA NACIONAL ...|                -9|CENTRO DE CIENCIA...|              2015|                 1|\n",
      "|    max|UNIVERSIDADE FEDE...|             13428|SUPERINTENDENCIA ...|              2019|                12|\n",
      "+-------+--------------------+------------------+--------------------+------------------+------------------+\n",
      "\n"
     ]
    }
   ],
   "source": [
    "df_pi.describe([\"ds_organizacao_n2\",\"co_organizacao_n3\",\"ds_organizacao_n3\",\"an_lanc\",\"me_lanc\"]).show()"
   ]
  },
  {
   "cell_type": "code",
   "execution_count": 24,
   "metadata": {},
   "outputs": [
    {
     "name": "stdout",
     "output_type": "stream",
     "text": [
      "+-------+------------------------+\n",
      "|summary|va_custo_pessoal_inativo|\n",
      "+-------+------------------------+\n",
      "|  count|                     250|\n",
      "|   mean|       4818644.146560001|\n",
      "| stddev|       9548395.388990697|\n",
      "|    min|                 2516.75|\n",
      "|    max|            7.33163657E7|\n",
      "+-------+------------------------+\n",
      "\n"
     ]
    }
   ],
   "source": [
    "df_pi.describe([\"va_custo_pessoal_inativo\"]).show()"
   ]
  },
  {
   "cell_type": "code",
   "execution_count": 25,
   "metadata": {},
   "outputs": [
    {
     "data": {
      "text/plain": [
       "['MINISTERIO DO PLANEJAMENTO, DESENVOLVIMENTO E GESTAO',\n",
       " 'MINISTERIO DA INDUSTRIA, COMERCIO EXTERIOR E SERVICOS',\n",
       " 'MINISTERIO DA JUSTICA E SEGURANCA PUBLICA',\n",
       " 'MINISTERIO DOS TRANSPORTES, PORTOS E AVIACAO CIVIL',\n",
       " 'MINISTERIO DA SAUDE',\n",
       " 'MINISTERIO DA DEFESA',\n",
       " 'MINISTERIO DA TRANSPARENCIA E CONTROLADORIA-GERAL DA UNIAO',\n",
       " 'MINISTERIO DO MEIO AMBIENTE',\n",
       " 'MINISTERIO DA CULTURA',\n",
       " 'MINISTERIO DO TRABALHO',\n",
       " 'MINISTERIO DO ESPORTE',\n",
       " 'MINISTERIO DA EDUCACAO',\n",
       " 'MINISTERIO DE MINAS E ENERGIA',\n",
       " 'MINISTERIO DA SEGURANCA PUBLICA',\n",
       " 'ADVOCACIA-GERAL DA UNIAO',\n",
       " 'MINISTERIO DA CIENCIA, TECNOLOGIA, INOVACOES E COMUNICACOES',\n",
       " 'CONSELHO DE DEFESA NACIONAL',\n",
       " 'MINISTERIO DA JUSTICA E CIDADANIA']"
      ]
     },
     "execution_count": 25,
     "metadata": {},
     "output_type": "execute_result"
    }
   ],
   "source": [
    "df_pi.select('ds_organizacao_n1').distinct().rdd.map(lambda r: r[0]).collect()\n",
    "# Util para conhecer classes discretas de uma coluna categórica.\n",
    "# Neste caso mostra as organizacoes presentes nestes dados"
   ]
  },
  {
   "cell_type": "code",
   "execution_count": 27,
   "metadata": {},
   "outputs": [
    {
     "data": {
      "text/plain": [
       "['SUPERINTENDENCIA REGIONAL DE POLICIA FEDERAL NO PARANA',\n",
       " 'SUPERINTENDENCIA REGIONAL DE POLICIA FEDERAL NA PARAIBA',\n",
       " 'CENTRO DE CIENCIAS JURIDICAS',\n",
       " 'COMANDO-GERAL DO PESSOAL',\n",
       " 'CENTRO DE CIENCIAS AGRARIAS',\n",
       " 'SUPERINTENDENCIA REGIONAL DA POLICIA RODOVIARIA FEDERAL NO DISTRITO FEDERAL',\n",
       " 'COMANDO DE OPERACOES NAVAIS',\n",
       " 'PROCURADORIA FEDERAL',\n",
       " 'NAO SE APLICA',\n",
       " 'COMANDO-GERAL DO CORPO DE FUZILEIROS NAVAIS']"
      ]
     },
     "execution_count": 27,
     "metadata": {},
     "output_type": "execute_result"
    }
   ],
   "source": [
    "df_pi.select('ds_organizacao_n3').distinct().rdd.map(lambda r: r[0]).collect()\n",
    "# Util para conhecer classes discretas de uma coluna categórica.\n",
    "# Neste caso mostra as modalidades de aplicacao presentes nestes dados"
   ]
  },
  {
   "cell_type": "code",
   "execution_count": 28,
   "metadata": {},
   "outputs": [
    {
     "data": {
      "text/plain": [
       "250"
      ]
     },
     "execution_count": 28,
     "metadata": {},
     "output_type": "execute_result"
    }
   ],
   "source": [
    "df_pi = spark.sql(\"\"\"\n",
    "                  select distinct *\n",
    "                  from pessoal_inativo\n",
    "                  \"\"\")\n",
    "df_pi.count() # Verificar se tem linhas duplicadas\n",
    "\n",
    "# Retorna 250, isso quer dizer que as linhas sao todas diferentes"
   ]
  },
  {
   "cell_type": "code",
   "execution_count": 29,
   "metadata": {},
   "outputs": [
    {
     "data": {
      "text/plain": [
       "[Row(co_natureza_juridica=3, ds_natureza_juridica='ADMINISTRACAO DIRETA', co_organizacao_n1=2844, ds_organizacao_n1='MINISTERIO DO TRABALHO', co_organizacao_n2=3494, ds_organizacao_n2='SUPERINTENDENCIA REGIONAL DO TRABALHO EM MATO GROSSO DO SUL', co_organizacao_n3=-9, ds_organizacao_n3='NAO SE APLICA', an_lanc=2018, me_lanc=8, va_custo_pessoal_inativo=1047360.8)]"
      ]
     },
     "execution_count": 29,
     "metadata": {},
     "output_type": "execute_result"
    }
   ],
   "source": [
    "df_pi.head(1)"
   ]
  },
  {
   "cell_type": "code",
   "execution_count": 30,
   "metadata": {},
   "outputs": [
    {
     "data": {
      "text/plain": [
       "0"
      ]
     },
     "execution_count": 30,
     "metadata": {},
     "output_type": "execute_result"
    }
   ],
   "source": [
    "df_pi_unique = spark.sql(\"\"\"\n",
    "                  select  co_natureza_juridica || an_lanc || me_lanc || va_custo_pessoal_inativo ||\n",
    "                    co_organizacao_n1 || co_organizacao_n2 || co_organizacao_n3, \n",
    "                  count(1)\n",
    "                  from pessoal_inativo\n",
    "                  group by 1\n",
    "                  having count(1) > 1\n",
    "                  \"\"\")\n",
    "# Encontrando a chave primária através de:\n",
    "# 1- co_natureza_juridica\n",
    "# 2- an_lanc\n",
    "# 3- me_lanc\n",
    "# 4- va_custo_pessoal_inativo\n",
    "# 5- co_organizacao_n1\n",
    "# 6- co_organizacao_n2\n",
    "# 7- co_organizacao_n3\n",
    "\n",
    "df_pi_unique.count()"
   ]
  },
  {
   "cell_type": "code",
   "execution_count": 32,
   "metadata": {},
   "outputs": [
    {
     "name": "stdout",
     "output_type": "stream",
     "text": [
      "+-----------------+--------------------+-----+\n",
      "|co_organizacao_n3|   ds_organizacao_n3|count|\n",
      "+-----------------+--------------------+-----+\n",
      "|            13428|SUPERINTENDENCIA ...|    2|\n",
      "|              191|COMANDO DE OPERAC...|    2|\n",
      "|            12161|CENTRO DE CIENCIA...|    3|\n",
      "|            12165|CENTRO DE CIENCIA...|    3|\n",
      "|               63|COMANDO-GERAL DO ...|    8|\n",
      "|              354|PROCURADORIA FEDERAL|   19|\n",
      "|             1153|SUPERINTENDENCIA ...|   20|\n",
      "|              192|COMANDO-GERAL DO ...|   20|\n",
      "|             1147|SUPERINTENDENCIA ...|   29|\n",
      "|               -9|       NAO SE APLICA|  144|\n",
      "+-----------------+--------------------+-----+\n",
      "\n"
     ]
    }
   ],
   "source": [
    "df_pi.groupBy([\"co_organizacao_n3\",\"ds_organizacao_n3\"]).count().sort(\"count\", ascending=True).show()\n",
    "# Mostra a quantidade de descricao por natureza juridica"
   ]
  },
  {
   "cell_type": "code",
   "execution_count": null,
   "metadata": {},
   "outputs": [],
   "source": [
    "# TODO carregar postgres"
   ]
  }
 ],
 "metadata": {
  "kernelspec": {
   "display_name": "Python 3",
   "language": "python",
   "name": "python3"
  },
  "language_info": {
   "codemirror_mode": {
    "name": "ipython",
    "version": 3
   },
   "file_extension": ".py",
   "mimetype": "text/x-python",
   "name": "python",
   "nbconvert_exporter": "python",
   "pygments_lexer": "ipython3",
   "version": "3.8.8"
  }
 },
 "nbformat": 4,
 "nbformat_minor": 2
}
