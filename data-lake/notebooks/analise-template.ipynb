{
 "cells": [
  {
   "cell_type": "code",
   "execution_count": 21,
   "metadata": {},
   "outputs": [],
   "source": [
    "import os\n",
    "from pyspark.sql import SparkSession\n",
    "from pyspark.sql.functions import *"
   ]
  },
  {
   "cell_type": "code",
   "execution_count": 22,
   "metadata": {},
   "outputs": [],
   "source": [
    "# criar spark session\n",
    "spark = SparkSession \\\n",
    "    .builder \\\n",
    "    .config('spark.jars.packages', 'org.apache.hadoop:hadoop-aws:3.2.0') \\\n",
    "    .config('spark.hadoop.fs.s3a.access.key', '') \\\n",
    "    .config('spark.hadoop.fs.s3a.secret.key', '') \\\n",
    "    .appName('spark etl - transferencia') \\\n",
    "    .getOrCreate()\n",
    "\n",
    "# ler arquivos no s3\n",
    "df = spark.read.csv('s3a://custos-stn-bucket/transferencia/transferencia_0.csv', header=True, inferSchema=True)"
   ]
  },
  {
   "cell_type": "code",
   "execution_count": 23,
   "metadata": {
    "scrolled": false
   },
   "outputs": [
    {
     "name": "stdout",
     "output_type": "stream",
     "text": [
      "root\n",
      " |-- co_natureza_juridica: integer (nullable = true)\n",
      " |-- ds_natureza_juridica: string (nullable = true)\n",
      " |-- co_organizacao_n1: integer (nullable = true)\n",
      " |-- ds_organizacao_n1: string (nullable = true)\n",
      " |-- co_organizacao_n2: integer (nullable = true)\n",
      " |-- ds_organizacao_n2: string (nullable = true)\n",
      " |-- co_organizacao_n3: integer (nullable = true)\n",
      " |-- ds_organizacao_n3: string (nullable = true)\n",
      " |-- an_lanc: integer (nullable = true)\n",
      " |-- me_lanc: integer (nullable = true)\n",
      " |-- co_esfera_orcamentaria: integer (nullable = true)\n",
      " |-- ds_esfera_orcamentaria: string (nullable = true)\n",
      " |-- co_modalidade_aplicacao: integer (nullable = true)\n",
      " |-- ds_modalidade_aplicacao: string (nullable = true)\n",
      " |-- co_resultado_eof: integer (nullable = true)\n",
      " |-- ds_resultado_eof: string (nullable = true)\n",
      " |-- va_custo_transferencias: double (nullable = true)\n",
      "\n"
     ]
    }
   ],
   "source": [
    "# schema\n",
    "df.printSchema()"
   ]
  },
  {
   "cell_type": "code",
   "execution_count": 24,
   "metadata": {},
   "outputs": [
    {
     "data": {
      "text/plain": [
       "250"
      ]
     },
     "execution_count": 24,
     "metadata": {},
     "output_type": "execute_result"
    }
   ],
   "source": [
    "# contagem de linhas\n",
    "df.count()"
   ]
  },
  {
   "cell_type": "code",
   "execution_count": 25,
   "metadata": {},
   "outputs": [
    {
     "name": "stdout",
     "output_type": "stream",
     "text": [
      "+--------------------+--------------------+-----------------+--------------------+-----------------+--------------------+-----------------+-----------------+-------+-------+----------------------+----------------------+-----------------------+-----------------------+----------------+--------------------+-----------------------+\n",
      "|co_natureza_juridica|ds_natureza_juridica|co_organizacao_n1|   ds_organizacao_n1|co_organizacao_n2|   ds_organizacao_n2|co_organizacao_n3|ds_organizacao_n3|an_lanc|me_lanc|co_esfera_orcamentaria|ds_esfera_orcamentaria|co_modalidade_aplicacao|ds_modalidade_aplicacao|co_resultado_eof|    ds_resultado_eof|va_custo_transferencias|\n",
      "+--------------------+--------------------+-----------------+--------------------+-----------------+--------------------+-----------------+-----------------+-------+-------+----------------------+----------------------+-----------------------+-----------------------+----------------+--------------------+-----------------------+\n",
      "|                   4|           AUTARQUIA|              244|MINISTERIO DA EDU...|           100905|INSTITUTO FEDERAL...|               -9|    NAO SE APLICA|   2019|     10|                     1|      ORCAMENTO FISCAL|                     80|   TRANSFERENCIAS AO...|               2|PRIMARIO DISCRICI...|                    0.0|\n",
      "|                   4|           AUTARQUIA|              244|MINISTERIO DA EDU...|           100905|INSTITUTO FEDERAL...|               -9|    NAO SE APLICA|   2019|     11|                     1|      ORCAMENTO FISCAL|                     50|   TRANSF. A INST. P...|               2|PRIMARIO DISCRICI...|                    0.0|\n",
      "|                   4|           AUTARQUIA|              244|MINISTERIO DA EDU...|           100905|INSTITUTO FEDERAL...|               -9|    NAO SE APLICA|   2019|     11|                     1|      ORCAMENTO FISCAL|                     80|   TRANSFERENCIAS AO...|               2|PRIMARIO DISCRICI...|                    0.0|\n",
      "|                   4|           AUTARQUIA|              244|MINISTERIO DA EDU...|           100905|INSTITUTO FEDERAL...|               -9|    NAO SE APLICA|   2019|     12|                     1|      ORCAMENTO FISCAL|                     50|   TRANSF. A INST. P...|               2|PRIMARIO DISCRICI...|                    0.0|\n",
      "|                   4|           AUTARQUIA|              244|MINISTERIO DA EDU...|           100905|INSTITUTO FEDERAL...|               -9|    NAO SE APLICA|   2019|     12|                     1|      ORCAMENTO FISCAL|                     80|   TRANSFERENCIAS AO...|               2|PRIMARIO DISCRICI...|                    0.0|\n",
      "+--------------------+--------------------+-----------------+--------------------+-----------------+--------------------+-----------------+-----------------+-------+-------+----------------------+----------------------+-----------------------+-----------------------+----------------+--------------------+-----------------------+\n",
      "only showing top 5 rows\n",
      "\n"
     ]
    }
   ],
   "source": [
    "# printar primeiras 5 linhas\n",
    "df.show(5)"
   ]
  },
  {
   "cell_type": "code",
   "execution_count": 26,
   "metadata": {},
   "outputs": [],
   "source": [
    "# criar view para spark sql\n",
    "df.createOrReplaceTempView(\"transferencias\")"
   ]
  },
  {
   "cell_type": "code",
   "execution_count": 27,
   "metadata": {},
   "outputs": [
    {
     "name": "stdout",
     "output_type": "stream",
     "text": [
      "root\n",
      " |-- co_natureza_juridica: integer (nullable = true)\n",
      " |-- ds_natureza_juridica: string (nullable = true)\n",
      "\n",
      "+--------------------+--------------------+\n",
      "|co_natureza_juridica|ds_natureza_juridica|\n",
      "+--------------------+--------------------+\n",
      "|                   4|           AUTARQUIA|\n",
      "|                   4|           AUTARQUIA|\n",
      "|                   4|           AUTARQUIA|\n",
      "|                   4|           AUTARQUIA|\n",
      "|                   4|           AUTARQUIA|\n",
      "|                   4|           AUTARQUIA|\n",
      "|                   4|           AUTARQUIA|\n",
      "|                   4|           AUTARQUIA|\n",
      "|                   4|           AUTARQUIA|\n",
      "|                   4|           AUTARQUIA|\n",
      "|                   4|           AUTARQUIA|\n",
      "|                   4|           AUTARQUIA|\n",
      "|                   4|           AUTARQUIA|\n",
      "|                   4|           AUTARQUIA|\n",
      "|                   4|           AUTARQUIA|\n",
      "|                   4|           AUTARQUIA|\n",
      "|                   2|    FUNDACAO PUBLICA|\n",
      "|                   2|    FUNDACAO PUBLICA|\n",
      "|                   2|    FUNDACAO PUBLICA|\n",
      "|                   2|    FUNDACAO PUBLICA|\n",
      "+--------------------+--------------------+\n",
      "only showing top 20 rows\n",
      "\n"
     ]
    }
   ],
   "source": [
    "\n",
    "df_tf = spark.sql(\"\"\"\n",
    "                  select co_natureza_juridica, ds_natureza_juridica\n",
    "                  from transferencias\n",
    "                  \"\"\")\n",
    "\n",
    "df_tf.printSchema()\n",
    "df_tf.show()"
   ]
  },
  {
   "cell_type": "code",
   "execution_count": null,
   "metadata": {},
   "outputs": [],
   "source": [
    "# TODO analise de dados"
   ]
  },
  {
   "cell_type": "code",
   "execution_count": null,
   "metadata": {},
   "outputs": [],
   "source": [
    "# TODO carregar postgres"
   ]
  }
 ],
 "metadata": {
  "kernelspec": {
   "display_name": "Python 3",
   "language": "python",
   "name": "python3"
  },
  "language_info": {
   "codemirror_mode": {
    "name": "ipython",
    "version": 3
   },
   "file_extension": ".py",
   "mimetype": "text/x-python",
   "name": "python",
   "nbconvert_exporter": "python",
   "pygments_lexer": "ipython3",
   "version": "3.8.8"
  }
 },
 "nbformat": 4,
 "nbformat_minor": 2
}
