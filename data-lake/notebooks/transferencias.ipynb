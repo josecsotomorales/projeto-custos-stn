{
 "cells": [
  {
   "cell_type": "code",
   "execution_count": 81,
   "metadata": {},
   "outputs": [],
   "source": [
    "import os\n",
    "from pyspark.sql import SparkSession\n",
    "from pyspark.sql.functions import *"
   ]
  },
  {
   "cell_type": "code",
   "execution_count": 2,
   "metadata": {},
   "outputs": [],
   "source": [
    "# criar spark session\n",
    "spark = SparkSession \\\n",
    "    .builder \\\n",
    "    .config('spark.jars.packages', 'org.apache.hadoop:hadoop-aws:3.2.0,org.postgresql:postgresql:42.2.20') \\\n",
    "    .config('spark.hadoop.fs.s3a.access.key', '') \\\n",
    "    .config('spark.hadoop.fs.s3a.secret.key', '') \\\n",
    "    .appName('spark etl - transferencia') \\\n",
    "    .getOrCreate()\n",
    "\n",
    "# ler arquivos no s3\n",
    "df = spark.read.csv('s3a://custos-stn-bucket/transferencia/transferencia_0.csv', header=True, inferSchema=True)"
   ]
  },
  {
   "cell_type": "code",
   "execution_count": 4,
   "metadata": {
    "scrolled": false
   },
   "outputs": [
    {
     "name": "stdout",
     "output_type": "stream",
     "text": [
      "root\n",
      " |-- co_natureza_juridica: integer (nullable = true)\n",
      " |-- ds_natureza_juridica: string (nullable = true)\n",
      " |-- co_organizacao_n1: integer (nullable = true)\n",
      " |-- ds_organizacao_n1: string (nullable = true)\n",
      " |-- co_organizacao_n2: integer (nullable = true)\n",
      " |-- ds_organizacao_n2: string (nullable = true)\n",
      " |-- co_organizacao_n3: integer (nullable = true)\n",
      " |-- ds_organizacao_n3: string (nullable = true)\n",
      " |-- an_lanc: integer (nullable = true)\n",
      " |-- me_lanc: integer (nullable = true)\n",
      " |-- co_esfera_orcamentaria: integer (nullable = true)\n",
      " |-- ds_esfera_orcamentaria: string (nullable = true)\n",
      " |-- co_modalidade_aplicacao: integer (nullable = true)\n",
      " |-- ds_modalidade_aplicacao: string (nullable = true)\n",
      " |-- co_resultado_eof: integer (nullable = true)\n",
      " |-- ds_resultado_eof: string (nullable = true)\n",
      " |-- va_custo_transferencias: double (nullable = true)\n",
      "\n"
     ]
    }
   ],
   "source": [
    "# schema\n",
    "df.printSchema()"
   ]
  },
  {
   "cell_type": "code",
   "execution_count": 5,
   "metadata": {},
   "outputs": [
    {
     "data": {
      "text/plain": [
       "250"
      ]
     },
     "execution_count": 5,
     "metadata": {},
     "output_type": "execute_result"
    }
   ],
   "source": [
    "# contagem de linhas\n",
    "df.count()"
   ]
  },
  {
   "cell_type": "code",
   "execution_count": 6,
   "metadata": {},
   "outputs": [
    {
     "name": "stdout",
     "output_type": "stream",
     "text": [
      "+--------------------+--------------------+-----------------+--------------------+-----------------+--------------------+-----------------+-----------------+-------+-------+----------------------+----------------------+-----------------------+-----------------------+----------------+--------------------+-----------------------+\n",
      "|co_natureza_juridica|ds_natureza_juridica|co_organizacao_n1|   ds_organizacao_n1|co_organizacao_n2|   ds_organizacao_n2|co_organizacao_n3|ds_organizacao_n3|an_lanc|me_lanc|co_esfera_orcamentaria|ds_esfera_orcamentaria|co_modalidade_aplicacao|ds_modalidade_aplicacao|co_resultado_eof|    ds_resultado_eof|va_custo_transferencias|\n",
      "+--------------------+--------------------+-----------------+--------------------+-----------------+--------------------+-----------------+-----------------+-------+-------+----------------------+----------------------+-----------------------+-----------------------+----------------+--------------------+-----------------------+\n",
      "|                   4|           AUTARQUIA|              244|MINISTERIO DA EDU...|           100905|INSTITUTO FEDERAL...|               -9|    NAO SE APLICA|   2019|     10|                     1|      ORCAMENTO FISCAL|                     80|   TRANSFERENCIAS AO...|               2|PRIMARIO DISCRICI...|                    0.0|\n",
      "|                   4|           AUTARQUIA|              244|MINISTERIO DA EDU...|           100905|INSTITUTO FEDERAL...|               -9|    NAO SE APLICA|   2019|     11|                     1|      ORCAMENTO FISCAL|                     50|   TRANSF. A INST. P...|               2|PRIMARIO DISCRICI...|                    0.0|\n",
      "|                   4|           AUTARQUIA|              244|MINISTERIO DA EDU...|           100905|INSTITUTO FEDERAL...|               -9|    NAO SE APLICA|   2019|     11|                     1|      ORCAMENTO FISCAL|                     80|   TRANSFERENCIAS AO...|               2|PRIMARIO DISCRICI...|                    0.0|\n",
      "|                   4|           AUTARQUIA|              244|MINISTERIO DA EDU...|           100905|INSTITUTO FEDERAL...|               -9|    NAO SE APLICA|   2019|     12|                     1|      ORCAMENTO FISCAL|                     50|   TRANSF. A INST. P...|               2|PRIMARIO DISCRICI...|                    0.0|\n",
      "|                   4|           AUTARQUIA|              244|MINISTERIO DA EDU...|           100905|INSTITUTO FEDERAL...|               -9|    NAO SE APLICA|   2019|     12|                     1|      ORCAMENTO FISCAL|                     80|   TRANSFERENCIAS AO...|               2|PRIMARIO DISCRICI...|                    0.0|\n",
      "+--------------------+--------------------+-----------------+--------------------+-----------------+--------------------+-----------------+-----------------+-------+-------+----------------------+----------------------+-----------------------+-----------------------+----------------+--------------------+-----------------------+\n",
      "only showing top 5 rows\n",
      "\n"
     ]
    }
   ],
   "source": [
    "# printar primeiras 5 linhas\n",
    "df.show(5)"
   ]
  },
  {
   "cell_type": "code",
   "execution_count": 7,
   "metadata": {},
   "outputs": [],
   "source": [
    "# criar view para spark sql\n",
    "df.createOrReplaceTempView(\"transferencias\")"
   ]
  },
  {
   "cell_type": "code",
   "execution_count": 61,
   "metadata": {},
   "outputs": [
    {
     "name": "stdout",
     "output_type": "stream",
     "text": [
      "root\n",
      " |-- co_natureza_juridica: integer (nullable = true)\n",
      " |-- ds_natureza_juridica: string (nullable = true)\n",
      " |-- co_organizacao_n1: integer (nullable = true)\n",
      " |-- ds_organizacao_n1: string (nullable = true)\n",
      " |-- co_organizacao_n2: integer (nullable = true)\n",
      " |-- ds_organizacao_n2: string (nullable = true)\n",
      " |-- co_organizacao_n3: integer (nullable = true)\n",
      " |-- ds_organizacao_n3: string (nullable = true)\n",
      " |-- an_lanc: integer (nullable = true)\n",
      " |-- me_lanc: integer (nullable = true)\n",
      " |-- co_esfera_orcamentaria: integer (nullable = true)\n",
      " |-- ds_esfera_orcamentaria: string (nullable = true)\n",
      " |-- co_modalidade_aplicacao: integer (nullable = true)\n",
      " |-- ds_modalidade_aplicacao: string (nullable = true)\n",
      " |-- co_resultado_eof: integer (nullable = true)\n",
      " |-- ds_resultado_eof: string (nullable = true)\n",
      " |-- va_custo_transferencias: double (nullable = true)\n",
      "\n",
      "+--------------------+--------------------+-----------------+--------------------+-----------------+--------------------+-----------------+-----------------+-------+-------+----------------------+----------------------+-----------------------+-----------------------+----------------+--------------------+-----------------------+\n",
      "|co_natureza_juridica|ds_natureza_juridica|co_organizacao_n1|   ds_organizacao_n1|co_organizacao_n2|   ds_organizacao_n2|co_organizacao_n3|ds_organizacao_n3|an_lanc|me_lanc|co_esfera_orcamentaria|ds_esfera_orcamentaria|co_modalidade_aplicacao|ds_modalidade_aplicacao|co_resultado_eof|    ds_resultado_eof|va_custo_transferencias|\n",
      "+--------------------+--------------------+-----------------+--------------------+-----------------+--------------------+-----------------+-----------------+-------+-------+----------------------+----------------------+-----------------------+-----------------------+----------------+--------------------+-----------------------+\n",
      "|                   4|           AUTARQUIA|              244|MINISTERIO DA EDU...|           100905|INSTITUTO FEDERAL...|               -9|    NAO SE APLICA|   2019|     10|                     1|      ORCAMENTO FISCAL|                     80|   TRANSFERENCIAS AO...|               2|PRIMARIO DISCRICI...|                    0.0|\n",
      "|                   4|           AUTARQUIA|              244|MINISTERIO DA EDU...|           100905|INSTITUTO FEDERAL...|               -9|    NAO SE APLICA|   2019|     11|                     1|      ORCAMENTO FISCAL|                     50|   TRANSF. A INST. P...|               2|PRIMARIO DISCRICI...|                    0.0|\n",
      "|                   4|           AUTARQUIA|              244|MINISTERIO DA EDU...|           100905|INSTITUTO FEDERAL...|               -9|    NAO SE APLICA|   2019|     11|                     1|      ORCAMENTO FISCAL|                     80|   TRANSFERENCIAS AO...|               2|PRIMARIO DISCRICI...|                    0.0|\n",
      "|                   4|           AUTARQUIA|              244|MINISTERIO DA EDU...|           100905|INSTITUTO FEDERAL...|               -9|    NAO SE APLICA|   2019|     12|                     1|      ORCAMENTO FISCAL|                     50|   TRANSF. A INST. P...|               2|PRIMARIO DISCRICI...|                    0.0|\n",
      "|                   4|           AUTARQUIA|              244|MINISTERIO DA EDU...|           100905|INSTITUTO FEDERAL...|               -9|    NAO SE APLICA|   2019|     12|                     1|      ORCAMENTO FISCAL|                     80|   TRANSFERENCIAS AO...|               2|PRIMARIO DISCRICI...|                    0.0|\n",
      "|                   4|           AUTARQUIA|              244|MINISTERIO DA EDU...|           100906|INSTITUTO FEDERAL...|               -9|    NAO SE APLICA|   2019|      3|                     1|      ORCAMENTO FISCAL|                     50|   TRANSF. A INST. P...|               2|PRIMARIO DISCRICI...|                    0.0|\n",
      "|                   4|           AUTARQUIA|              244|MINISTERIO DA EDU...|           100906|INSTITUTO FEDERAL...|               -9|    NAO SE APLICA|   2019|      4|                     1|      ORCAMENTO FISCAL|                     50|   TRANSF. A INST. P...|               2|PRIMARIO DISCRICI...|                    0.0|\n",
      "|                   4|           AUTARQUIA|              244|MINISTERIO DA EDU...|           100906|INSTITUTO FEDERAL...|               -9|    NAO SE APLICA|   2019|      5|                     1|      ORCAMENTO FISCAL|                     50|   TRANSF. A INST. P...|               2|PRIMARIO DISCRICI...|                    0.0|\n",
      "|                   4|           AUTARQUIA|              244|MINISTERIO DA EDU...|           100906|INSTITUTO FEDERAL...|               -9|    NAO SE APLICA|   2019|      6|                     1|      ORCAMENTO FISCAL|                     50|   TRANSF. A INST. P...|               2|PRIMARIO DISCRICI...|                    0.0|\n",
      "|                   4|           AUTARQUIA|              244|MINISTERIO DA EDU...|           100906|INSTITUTO FEDERAL...|               -9|    NAO SE APLICA|   2019|      7|                     1|      ORCAMENTO FISCAL|                     50|   TRANSF. A INST. P...|               2|PRIMARIO DISCRICI...|                 1500.0|\n",
      "|                   4|           AUTARQUIA|              244|MINISTERIO DA EDU...|           100906|INSTITUTO FEDERAL...|               -9|    NAO SE APLICA|   2019|      8|                     1|      ORCAMENTO FISCAL|                     50|   TRANSF. A INST. P...|               2|PRIMARIO DISCRICI...|                    0.0|\n",
      "|                   4|           AUTARQUIA|              244|MINISTERIO DA EDU...|           100906|INSTITUTO FEDERAL...|               -9|    NAO SE APLICA|   2019|      8|                     1|      ORCAMENTO FISCAL|                     80|   TRANSFERENCIAS AO...|               2|PRIMARIO DISCRICI...|                    0.0|\n",
      "|                   4|           AUTARQUIA|              244|MINISTERIO DA EDU...|           100906|INSTITUTO FEDERAL...|               -9|    NAO SE APLICA|   2019|      9|                     1|      ORCAMENTO FISCAL|                     50|   TRANSF. A INST. P...|               2|PRIMARIO DISCRICI...|                    0.0|\n",
      "|                   4|           AUTARQUIA|              244|MINISTERIO DA EDU...|           100906|INSTITUTO FEDERAL...|               -9|    NAO SE APLICA|   2019|      9|                     1|      ORCAMENTO FISCAL|                     80|   TRANSFERENCIAS AO...|               2|PRIMARIO DISCRICI...|                    0.0|\n",
      "|                   4|           AUTARQUIA|              244|MINISTERIO DA EDU...|           100906|INSTITUTO FEDERAL...|               -9|    NAO SE APLICA|   2019|     10|                     1|      ORCAMENTO FISCAL|                     50|   TRANSF. A INST. P...|               2|PRIMARIO DISCRICI...|                    0.0|\n",
      "|                   4|           AUTARQUIA|              244|MINISTERIO DA EDU...|           100906|INSTITUTO FEDERAL...|               -9|    NAO SE APLICA|   2019|     10|                     1|      ORCAMENTO FISCAL|                     80|   TRANSFERENCIAS AO...|               2|PRIMARIO DISCRICI...|                    0.0|\n",
      "|                   2|    FUNDACAO PUBLICA|              304| MINISTERIO DA SAUDE|             2207|FUNDACAO NACIONAL...|               -9|    NAO SE APLICA|   2019|     11|                     2|  ORCAMENTO DE SEGU...|                     30|   TRANSFER. A ESTAD...|               2|PRIMARIO DISCRICI...|                    0.0|\n",
      "|                   2|    FUNDACAO PUBLICA|              304| MINISTERIO DA SAUDE|             2207|FUNDACAO NACIONAL...|               -9|    NAO SE APLICA|   2019|     11|                     2|  ORCAMENTO DE SEGU...|                     30|   TRANSFER. A ESTAD...|               3|PRIMARIO SEM IMPA...|           2.30690199E7|\n",
      "|                   2|    FUNDACAO PUBLICA|              304| MINISTERIO DA SAUDE|             2207|FUNDACAO NACIONAL...|               -9|    NAO SE APLICA|   2019|     11|                     2|  ORCAMENTO DE SEGU...|                     30|   TRANSFER. A ESTAD...|               6|DESPESA DISCRICIO...|                    0.0|\n",
      "|                   2|    FUNDACAO PUBLICA|              304| MINISTERIO DA SAUDE|             2207|FUNDACAO NACIONAL...|               -9|    NAO SE APLICA|   2019|     11|                     2|  ORCAMENTO DE SEGU...|                     40|   TRANSFERENCIAS A ...|               2|PRIMARIO DISCRICI...|             1688678.65|\n",
      "+--------------------+--------------------+-----------------+--------------------+-----------------+--------------------+-----------------+-----------------+-------+-------+----------------------+----------------------+-----------------------+-----------------------+----------------+--------------------+-----------------------+\n",
      "only showing top 20 rows\n",
      "\n"
     ]
    }
   ],
   "source": [
    "\n",
    "df_tf = spark.sql(\"\"\"\n",
    "                  select *\n",
    "                  from transferencias\n",
    "                  \"\"\")\n",
    "\n",
    "df_tf.printSchema()\n",
    "df_tf.show()"
   ]
  },
  {
   "cell_type": "code",
   "execution_count": 62,
   "metadata": {},
   "outputs": [
    {
     "data": {
      "text/plain": [
       "[Row(co_natureza_juridica=4, ds_natureza_juridica='AUTARQUIA', co_organizacao_n1=244, ds_organizacao_n1='MINISTERIO DA EDUCACAO', co_organizacao_n2=100905, ds_organizacao_n2='INSTITUTO FEDERAL DE EDUCACAO, CIENCIA E TECNOLOGIA DA PARAIBA', co_organizacao_n3=-9, ds_organizacao_n3='NAO SE APLICA', an_lanc=2019, me_lanc=10, co_esfera_orcamentaria=1, ds_esfera_orcamentaria='ORCAMENTO FISCAL', co_modalidade_aplicacao=80, ds_modalidade_aplicacao='TRANSFERENCIAS AO EXTERIOR', co_resultado_eof=2, ds_resultado_eof='PRIMARIO DISCRICIONARIO', va_custo_transferencias=0.0)]"
      ]
     },
     "execution_count": 62,
     "metadata": {},
     "output_type": "execute_result"
    }
   ],
   "source": [
    "df_tf.head(1) # Mostra o cabeçalho da primeira linha"
   ]
  },
  {
   "cell_type": "code",
   "execution_count": 69,
   "metadata": {},
   "outputs": [
    {
     "name": "stdout",
     "output_type": "stream",
     "text": [
      "+-------+--------------------+-----------------+-----------------+-----------------+-------+------------------+\n",
      "|summary|co_natureza_juridica|co_organizacao_n1|co_organizacao_n2|co_organizacao_n3|an_lanc|           me_lanc|\n",
      "+-------+--------------------+-----------------+-----------------+-----------------+-------+------------------+\n",
      "|  count|                 250|              250|              250|              250|    250|               250|\n",
      "|   mean|                3.08|          544.416|        32686.664|         9768.148| 2019.0|             8.088|\n",
      "| stddev|  1.0611806715497052|641.1477307098398|45837.42193743651|25053.05149355365|    0.0|3.1559620380388247|\n",
      "|    min|                   1|              244|                1|               -9|   2019|                 2|\n",
      "|    max|                   4|             1988|           100908|           115227|   2019|                12|\n",
      "+-------+--------------------+-----------------+-----------------+-----------------+-------+------------------+\n",
      "\n"
     ]
    }
   ],
   "source": [
    "df_tf.describe([\"co_natureza_juridica\",\"co_organizacao_n1\",\"co_organizacao_n2\",\"co_organizacao_n3\",\"an_lanc\",\"me_lanc\"]).show()"
   ]
  },
  {
   "cell_type": "code",
   "execution_count": 70,
   "metadata": {},
   "outputs": [
    {
     "name": "stdout",
     "output_type": "stream",
     "text": [
      "+-------+----------------------+-----------------------+------------------+-----------------------+\n",
      "|summary|co_esfera_orcamentaria|co_modalidade_aplicacao|  co_resultado_eof|va_custo_transferencias|\n",
      "+-------+----------------------+-----------------------+------------------+-----------------------+\n",
      "|  count|                   250|                    250|               250|                    250|\n",
      "|   mean|                 1.256|                 51.776|             2.312|      5077482.831393072|\n",
      "| stddev|   0.43729728522213634|     12.827157435359014|0.9687154579928082|    3.615109248360504E7|\n",
      "|    min|                     1|                     30|                 2|        -1.6114851376E8|\n",
      "|    max|                     2|                     80|                 6|         4.0122152418E8|\n",
      "+-------+----------------------+-----------------------+------------------+-----------------------+\n",
      "\n"
     ]
    }
   ],
   "source": [
    "df_tf.describe([\"co_esfera_orcamentaria\",\"co_modalidade_aplicacao\",\"co_resultado_eof\",\"va_custo_transferencias\"]).show()"
   ]
  },
  {
   "cell_type": "code",
   "execution_count": 18,
   "metadata": {},
   "outputs": [
    {
     "data": {
      "text/plain": [
       "['MINISTERIO DA SAUDE',\n",
       " 'MINISTERIO DA EDUCACAO',\n",
       " 'MINISTERIO DA CIENCIA, TECNOLOGIA, INOVACOES E COMUNICACOES']"
      ]
     },
     "execution_count": 18,
     "metadata": {},
     "output_type": "execute_result"
    }
   ],
   "source": [
    "df_tf.select('ds_organizacao_n1').distinct().rdd.map(lambda r: r[0]).collect()\n",
    "# Util para conhecer classes discretas de uma coluna categórica.\n",
    "# Neste caso mostra as organizacoes presentes nestes dados"
   ]
  },
  {
   "cell_type": "code",
   "execution_count": 19,
   "metadata": {},
   "outputs": [
    {
     "data": {
      "text/plain": [
       "['TRANSFERENCIAS AO EXTERIOR',\n",
       " 'TRANSF.CONSORC.PUB.MEDIANTE CONTRATO RATEIO',\n",
       " 'TRANSFER.A INST. PRIVADAS COM FINS LUCRATIVOS',\n",
       " 'TRANSF. A INSTITUICOES MULTIGOVERNAMENTAIS',\n",
       " 'TRANSFERENCIAS A MUNICIPIOS - FUNDO A FUNDO',\n",
       " 'TRANSFERENCIAS A MUNICIPIOS',\n",
       " 'TRANSFER. A ESTADOS E AO DISTRITO FEDERAL',\n",
       " 'TRANSF. A INST. PRIVADAS S/ FINS LUCRATIVOS',\n",
       " 'EXECUCAO ORCAMENTARIA DELEGADA AOS ESTADOS/DF',\n",
       " 'TRANSFER. A ESTADOS E DF - FUNDO A FUNDO']"
      ]
     },
     "execution_count": 19,
     "metadata": {},
     "output_type": "execute_result"
    }
   ],
   "source": [
    "df_tf.select('ds_modalidade_aplicacao').distinct().rdd.map(lambda r: r[0]).collect()\n",
    "# Util para conhecer classes discretas de uma coluna categórica.\n",
    "# Neste caso mostra as modalidades de aplicacao presentes nestes dados"
   ]
  },
  {
   "cell_type": "code",
   "execution_count": 79,
   "metadata": {},
   "outputs": [
    {
     "data": {
      "text/plain": [
       "250"
      ]
     },
     "execution_count": 79,
     "metadata": {},
     "output_type": "execute_result"
    }
   ],
   "source": [
    "df_tf = spark.sql(\"\"\"\n",
    "                  select distinct *\n",
    "                  from transferencias\n",
    "                  \"\"\")\n",
    "df_tf.count() # Verificar se tem linhas duplicadas\n",
    "\n",
    "# Retorna 250, isso quer dizer que as linhas sao todas diferentes"
   ]
  },
  {
   "cell_type": "code",
   "execution_count": 74,
   "metadata": {},
   "outputs": [
    {
     "data": {
      "text/plain": [
       "[Row(co_natureza_juridica=2, ds_natureza_juridica='FUNDACAO PUBLICA', co_organizacao_n1=244, ds_organizacao_n1='MINISTERIO DA EDUCACAO', co_organizacao_n2=94739, ds_organizacao_n2='FUNDACAO UNIVERSIDADE FEDERAL DO PAMPA', co_organizacao_n3=-9, ds_organizacao_n3='NAO SE APLICA', an_lanc=2019, me_lanc=3, co_esfera_orcamentaria=1, ds_esfera_orcamentaria='ORCAMENTO FISCAL', co_modalidade_aplicacao=50, ds_modalidade_aplicacao='TRANSF. A INST. PRIVADAS S/ FINS LUCRATIVOS', co_resultado_eof=2, ds_resultado_eof='PRIMARIO DISCRICIONARIO', va_custo_transferencias=0.0)]"
      ]
     },
     "execution_count": 74,
     "metadata": {},
     "output_type": "execute_result"
    }
   ],
   "source": [
    "df_tf.head(1)"
   ]
  },
  {
   "cell_type": "code",
   "execution_count": 75,
   "metadata": {},
   "outputs": [
    {
     "data": {
      "text/plain": [
       "0"
      ]
     },
     "execution_count": 75,
     "metadata": {},
     "output_type": "execute_result"
    }
   ],
   "source": [
    "df_tf_unique = spark.sql(\"\"\"\n",
    "                  select co_natureza_juridica || '-' || co_organizacao_n1 || '-' || co_organizacao_n2 || '-' || co_organizacao_n3 || '-' ||va_custo_transferencias || '-' || an_lanc ||'-' || me_lanc || '-' || co_esfera_orcamentaria || '-' || co_modalidade_aplicacao || '-'|| co_resultado_eof, \n",
    "                  count(co_natureza_juridica || '-' || co_organizacao_n1 || '-' || co_organizacao_n2 || '-' || co_organizacao_n3 || '-' ||va_custo_transferencias || '-' || an_lanc ||'-' || me_lanc || '-' || co_esfera_orcamentaria || '-' || co_modalidade_aplicacao || '-'|| co_resultado_eof)\n",
    "                  from transferencias\n",
    "                  group by 1\n",
    "                  having count(1) > 1\n",
    "                  \"\"\")\n",
    "# Encontrando a chave primária através de:\n",
    "# 1- co_natureza_juridica\n",
    "# 2- co_organizacao_n1\n",
    "# 3- co_organizacao_n2\n",
    "# 4- co_organizacao_n3\n",
    "# 5- va_custo_transferencias\n",
    "# 6- an_lanc\n",
    "# 7- me_lanc\n",
    "# 8- co_esfera_orcamentaria\n",
    "# 9- co_modalidade_aplicacao\n",
    "# 10 - co_resultado_eof\n",
    "\n",
    "df_tf_unique.count()"
   ]
  },
  {
   "cell_type": "code",
   "execution_count": 85,
   "metadata": {},
   "outputs": [
    {
     "name": "stdout",
     "output_type": "stream",
     "text": [
      "+--------------------+--------------------+-----+\n",
      "|co_natureza_juridica|ds_natureza_juridica|count|\n",
      "+--------------------+--------------------+-----+\n",
      "|                   1|     EMPRESA PUBLICA|   20|\n",
      "|                   3|ADMINISTRACAO DIRETA|   28|\n",
      "|                   2|    FUNDACAO PUBLICA|   71|\n",
      "|                   4|           AUTARQUIA|  131|\n",
      "+--------------------+--------------------+-----+\n",
      "\n"
     ]
    }
   ],
   "source": [
    "df_tf.groupBy([\"co_natureza_juridica\",\"ds_natureza_juridica\"]).count().sort(\"count\", ascending=True).show()\n",
    "# Mostra a quantidade de descricao por natureza juridica"
   ]
  },
  {
   "cell_type": "code",
   "execution_count": null,
   "metadata": {},
   "outputs": [],
   "source": [
    "df.write \\\n",
    "  .format(\"jdbc\") \\\n",
    "  .option(\"url\", \"jdbc:postgresql://<database-ip>:<port>/custos_stn\") \\\n",
    "  .option(\"dbtable\", \"custos_stn.transferencias\") \\\n",
    "  .option(\"user\", \"postgres\") \\\n",
    "  .option(\"driver\", \"org.postgresql.Driver\") \\\n",
    "  .option(\"password\", \"postgres\")\\\n",
    "  .save()"
   ]
  }
 ],
 "metadata": {
  "kernelspec": {
   "display_name": "Python 3",
   "language": "python",
   "name": "python3"
  },
  "language_info": {
   "codemirror_mode": {
    "name": "ipython",
    "version": 3
   },
   "file_extension": ".py",
   "mimetype": "text/x-python",
   "name": "python",
   "nbconvert_exporter": "python",
   "pygments_lexer": "ipython3",
   "version": "3.8.8"
  }
 },
 "nbformat": 4,
 "nbformat_minor": 2
}