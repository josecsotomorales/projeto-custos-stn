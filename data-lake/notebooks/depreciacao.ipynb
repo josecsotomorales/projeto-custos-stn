{
 "cells": [
  {
   "cell_type": "code",
   "execution_count": 1,
   "metadata": {},
   "outputs": [],
   "source": [
    "import os\n",
    "from pyspark.sql import SparkSession\n",
    "from pyspark.sql.functions import *"
   ]
  },
  {
   "cell_type": "code",
   "execution_count": 2,
   "metadata": {},
   "outputs": [],
   "source": [
    "# criar spark session\n",
    "spark = SparkSession \\\n",
    "    .builder \\\n",
    "    .config('spark.jars.packages', 'org.apache.hadoop:hadoop-aws:3.2.0,org.postgresql:postgresql:42.2.20') \\\n",
    "    .config('spark.hadoop.fs.s3a.access.key', '<your-access-key-id>') \\\n",
    "    .config('spark.hadoop.fs.s3a.secret.key', '<your-secret-key>') \\\n",
    "    .appName('spark etl - depreciacao') \\\n",
    "    .getOrCreate()\n",
    "\n",
    "# ler arquivos no s3\n",
    "df = spark.read.csv('s3a://custos-stn-bucket/depreciacao/depreciacao_0.csv', header=True, inferSchema=True)"
   ]
  },
  {
   "cell_type": "code",
   "execution_count": 3,
   "metadata": {
    "scrolled": false
   },
   "outputs": [
    {
     "name": "stdout",
     "output_type": "stream",
     "text": [
      "root\n",
      " |-- co_natureza_juridica: integer (nullable = true)\n",
      " |-- ds_natureza_juridica: string (nullable = true)\n",
      " |-- co_organizacao_n1: integer (nullable = true)\n",
      " |-- ds_organizacao_n1: string (nullable = true)\n",
      " |-- co_organizacao_n2: integer (nullable = true)\n",
      " |-- ds_organizacao_n2: string (nullable = true)\n",
      " |-- co_organizacao_n3: integer (nullable = true)\n",
      " |-- ds_organizacao_n3: string (nullable = true)\n",
      " |-- an_lanc: integer (nullable = true)\n",
      " |-- me_lanc: integer (nullable = true)\n",
      " |-- id_conta_contabil: integer (nullable = true)\n",
      " |-- no_conta_contabil: string (nullable = true)\n",
      " |-- va_custo_depreciacao: double (nullable = true)\n",
      "\n"
     ]
    }
   ],
   "source": [
    "# schema\n",
    "df.printSchema()"
   ]
  },
  {
   "cell_type": "code",
   "execution_count": 4,
   "metadata": {},
   "outputs": [
    {
     "data": {
      "text/plain": [
       "250"
      ]
     },
     "execution_count": 4,
     "metadata": {},
     "output_type": "execute_result"
    }
   ],
   "source": [
    "# contagem de linhas\n",
    "df.count()"
   ]
  },
  {
   "cell_type": "code",
   "execution_count": 5,
   "metadata": {},
   "outputs": [
    {
     "name": "stdout",
     "output_type": "stream",
     "text": [
      "+--------------------+--------------------+-----------------+--------------------+-----------------+--------------------+-----------------+-----------------+-------+-------+-----------------+--------------------+--------------------+\n",
      "|co_natureza_juridica|ds_natureza_juridica|co_organizacao_n1|   ds_organizacao_n1|co_organizacao_n2|   ds_organizacao_n2|co_organizacao_n3|ds_organizacao_n3|an_lanc|me_lanc|id_conta_contabil|   no_conta_contabil|va_custo_depreciacao|\n",
      "+--------------------+--------------------+-----------------+--------------------+-----------------+--------------------+-----------------+-----------------+-------+-------+-----------------+--------------------+--------------------+\n",
      "|                   3|ADMINISTRACAO DIRETA|             2844|MINISTERIO DO TRA...|             3499|SUPERINTENDENCIA ...|               -9|    NAO SE APLICA|   2015|     11|        333110200|DEPRECIACAO DE BE...|                 0.0|\n",
      "|                   4|           AUTARQUIA|              244|MINISTERIO DA EDU...|           105793|UNIVERSIDADE FEDE...|               -9|    NAO SE APLICA|   2015|     11|        333110100|DEPRECIACAO DE BE...|           207468.94|\n",
      "|                   4|           AUTARQUIA|             3162|MINISTERIO DO DES...|              382|INSTITUTO NACIONA...|               -9|    NAO SE APLICA|   2015|      6|        333110200|DEPRECIACAO DE BE...|                 0.0|\n",
      "|                   3|ADMINISTRACAO DIRETA|            52303|CONTROLADORIA-GER...|             9849|CONTROLADORIA REG...|               -9|    NAO SE APLICA|   2015|      9|        333110200|DEPRECIACAO DE BE...|                 0.0|\n",
      "|                   3|ADMINISTRACAO DIRETA|             2844|MINISTERIO DO TRA...|             3496|SUPERINTENDENCIA ...|               -9|    NAO SE APLICA|   2015|     12|        333110200|DEPRECIACAO DE BE...|             2689.72|\n",
      "+--------------------+--------------------+-----------------+--------------------+-----------------+--------------------+-----------------+-----------------+-------+-------+-----------------+--------------------+--------------------+\n",
      "only showing top 5 rows\n",
      "\n"
     ]
    }
   ],
   "source": [
    "# emprimir primeiras 5 linhas\n",
    "df.show(5)"
   ]
  },
  {
   "cell_type": "code",
   "execution_count": 6,
   "metadata": {},
   "outputs": [],
   "source": [
    "# criar view para spark sql\n",
    "df.createOrReplaceTempView(\"depreciacao\")"
   ]
  },
  {
   "cell_type": "code",
   "execution_count": 7,
   "metadata": {},
   "outputs": [
    {
     "name": "stdout",
     "output_type": "stream",
     "text": [
      "root\n",
      " |-- co_natureza_juridica: integer (nullable = true)\n",
      " |-- ds_natureza_juridica: string (nullable = true)\n",
      " |-- co_organizacao_n1: integer (nullable = true)\n",
      " |-- ds_organizacao_n1: string (nullable = true)\n",
      " |-- co_organizacao_n2: integer (nullable = true)\n",
      " |-- ds_organizacao_n2: string (nullable = true)\n",
      " |-- co_organizacao_n3: integer (nullable = true)\n",
      " |-- ds_organizacao_n3: string (nullable = true)\n",
      " |-- an_lanc: integer (nullable = true)\n",
      " |-- me_lanc: integer (nullable = true)\n",
      " |-- id_conta_contabil: integer (nullable = true)\n",
      " |-- no_conta_contabil: string (nullable = true)\n",
      " |-- va_custo_depreciacao: double (nullable = true)\n",
      "\n"
     ]
    }
   ],
   "source": [
    "\n",
    "df_dp = spark.sql(\"\"\"\n",
    "                  select *\n",
    "                  from depreciacao\n",
    "                  \"\"\")\n",
    "\n",
    "df_dp.printSchema()\n"
   ]
  },
  {
   "cell_type": "code",
   "execution_count": 8,
   "metadata": {},
   "outputs": [
    {
     "name": "stdout",
     "output_type": "stream",
     "text": [
      "+--------------------+--------------------+-----------------+--------------------+-----------------+--------------------+-----------------+-----------------+-------+-------+-----------------+--------------------+--------------------+\n",
      "|co_natureza_juridica|ds_natureza_juridica|co_organizacao_n1|   ds_organizacao_n1|co_organizacao_n2|   ds_organizacao_n2|co_organizacao_n3|ds_organizacao_n3|an_lanc|me_lanc|id_conta_contabil|   no_conta_contabil|va_custo_depreciacao|\n",
      "+--------------------+--------------------+-----------------+--------------------+-----------------+--------------------+-----------------+-----------------+-------+-------+-----------------+--------------------+--------------------+\n",
      "|                   3|ADMINISTRACAO DIRETA|             2844|MINISTERIO DO TRA...|             3499|SUPERINTENDENCIA ...|               -9|    NAO SE APLICA|   2015|     11|        333110200|DEPRECIACAO DE BE...|                 0.0|\n",
      "|                   4|           AUTARQUIA|              244|MINISTERIO DA EDU...|           105793|UNIVERSIDADE FEDE...|               -9|    NAO SE APLICA|   2015|     11|        333110100|DEPRECIACAO DE BE...|           207468.94|\n",
      "|                   4|           AUTARQUIA|             3162|MINISTERIO DO DES...|              382|INSTITUTO NACIONA...|               -9|    NAO SE APLICA|   2015|      6|        333110200|DEPRECIACAO DE BE...|                 0.0|\n",
      "|                   3|ADMINISTRACAO DIRETA|            52303|CONTROLADORIA-GER...|             9849|CONTROLADORIA REG...|               -9|    NAO SE APLICA|   2015|      9|        333110200|DEPRECIACAO DE BE...|                 0.0|\n",
      "|                   3|ADMINISTRACAO DIRETA|             2844|MINISTERIO DO TRA...|             3496|SUPERINTENDENCIA ...|               -9|    NAO SE APLICA|   2015|     12|        333110200|DEPRECIACAO DE BE...|             2689.72|\n",
      "|                   3|ADMINISTRACAO DIRETA|             1988|MINISTERIO DA CIE...|               11|INSTITUTO NACIONA...|               -9|    NAO SE APLICA|   2015|      7|        333110200|DEPRECIACAO DE BE...|                 0.0|\n",
      "|                   1|     EMPRESA PUBLICA|            91624|SECRETARIA DE COM...|            86567|EMPRESA BRASIL DE...|               -9|    NAO SE APLICA|   2015|      2|        333110100|DEPRECIACAO DE BE...|           2697487.0|\n",
      "|                   3|ADMINISTRACAO DIRETA|            42670|MINISTERIO DA INT...|               -9|       NAO SE APLICA|               -9|    NAO SE APLICA|   2015|     12|        333110100|DEPRECIACAO DE BE...|                 0.0|\n",
      "|                   3|ADMINISTRACAO DIRETA|            52303|CONTROLADORIA-GER...|             1372|CONTROLADORIA REG...|               -9|    NAO SE APLICA|   2015|      4|        333110100|DEPRECIACAO DE BE...|             12078.1|\n",
      "|                   3|ADMINISTRACAO DIRETA|               14|MINISTERIO DA AGR...|             2783|SUPERINTENDENCIA ...|               -9|    NAO SE APLICA|   2015|      2|        333110100|DEPRECIACAO DE BE...|           110286.98|\n",
      "|                   3|ADMINISTRACAO DIRETA|               14|MINISTERIO DA AGR...|             2776|SUPERINTENDENCIA ...|               -9|    NAO SE APLICA|   2015|     11|        333110200|DEPRECIACAO DE BE...|                 0.0|\n",
      "|                   1|     EMPRESA PUBLICA|             1929|MINISTERIO DA FAZ...|               92|CASA DA MOEDA DO ...|               -9|    NAO SE APLICA|   2015|      5|        333110100|DEPRECIACAO DE BE...|           993512.21|\n",
      "|                   3|ADMINISTRACAO DIRETA|            42673|SECRETARIA DE GOV...|            45104|AGENCIA BRASILEIR...|               -9|    NAO SE APLICA|   2015|      8|        333210200|AMORTIZACAO DE IN...|           182303.49|\n",
      "|                   3|ADMINISTRACAO DIRETA|               14|MINISTERIO DA AGR...|             2816|SUPERINTENDENCIA ...|               -9|    NAO SE APLICA|   2015|      9|        333110200|DEPRECIACAO DE BE...|                 0.0|\n",
      "|                   4|           AUTARQUIA|             1930|MINISTERIO DA PRE...|             1934|INSTITUTO NACIONA...|               -9|    NAO SE APLICA|   2015|     12|        333110100|DEPRECIACAO DE BE...|             3371.18|\n",
      "|                   3|ADMINISTRACAO DIRETA|               14|MINISTERIO DA AGR...|             2803|SUPERINTENDENCIA ...|               -9|    NAO SE APLICA|   2015|      9|        333110100|DEPRECIACAO DE BE...|            56004.52|\n",
      "|                   3|ADMINISTRACAO DIRETA|            52303|CONTROLADORIA-GER...|             1365|CONTROLADORIA REG...|               -9|    NAO SE APLICA|   2015|      3|        333110100|DEPRECIACAO DE BE...|             4598.02|\n",
      "|                   3|ADMINISTRACAO DIRETA|             2844|MINISTERIO DO TRA...|             3483|SUPERINTENDENCIA ...|               -9|    NAO SE APLICA|   2015|     11|        333110200|DEPRECIACAO DE BE...|                 0.0|\n",
      "|                   2|    FUNDACAO PUBLICA|              244|MINISTERIO DA EDU...|            52702|FUNDACAO UNIVERSI...|               -9|    NAO SE APLICA|   2015|      5|        333110200|DEPRECIACAO DE BE...|                 0.0|\n",
      "|                   4|           AUTARQUIA|              244|MINISTERIO DA EDU...|              445|CENTRO FEDERAL DE...|               -9|    NAO SE APLICA|   2015|     11|        333110200|DEPRECIACAO DE BE...|                 0.0|\n",
      "+--------------------+--------------------+-----------------+--------------------+-----------------+--------------------+-----------------+-----------------+-------+-------+-----------------+--------------------+--------------------+\n",
      "only showing top 20 rows\n",
      "\n"
     ]
    }
   ],
   "source": [
    "df_dp.show()"
   ]
  },
  {
   "cell_type": "code",
   "execution_count": 9,
   "metadata": {},
   "outputs": [
    {
     "data": {
      "text/plain": [
       "[Row(co_natureza_juridica=3, ds_natureza_juridica='ADMINISTRACAO DIRETA', co_organizacao_n1=2844, ds_organizacao_n1='MINISTERIO DO TRABALHO E PREVIDENCIA SOCIAL', co_organizacao_n2=3499, ds_organizacao_n2='SUPERINTENDENCIA REGIONAL DO TRABALHO E EMPREGO EM RONDONIA', co_organizacao_n3=-9, ds_organizacao_n3='NAO SE APLICA', an_lanc=2015, me_lanc=11, id_conta_contabil=333110200, no_conta_contabil='DEPRECIACAO DE BENS IMOVEIS', va_custo_depreciacao=0.0)]"
      ]
     },
     "execution_count": 9,
     "metadata": {},
     "output_type": "execute_result"
    }
   ],
   "source": [
    "df_dp.head(1) # Mostra o cabeçalho da primeira linha"
   ]
  },
  {
   "cell_type": "code",
   "execution_count": 10,
   "metadata": {},
   "outputs": [
    {
     "name": "stdout",
     "output_type": "stream",
     "text": [
      "+-------+--------------------+--------------------+------------------+--------------------+------------------+\n",
      "|summary|co_natureza_juridica|ds_natureza_juridica| co_organizacao_n1|   ds_organizacao_n1| co_organizacao_n2|\n",
      "+-------+--------------------+--------------------+------------------+--------------------+------------------+\n",
      "|  count|                 250|                 250|               250|                 250|               250|\n",
      "|   mean|               3.072|                null|         12867.292|                null|          21107.56|\n",
      "| stddev|  0.9625601738870216|                null|26381.644497496833|                null|36599.926589980576|\n",
      "|    min|                   1|ADMINISTRACAO DIRETA|                -9|CASA CIVIL DA PRE...|                -9|\n",
      "|    max|                   6|SOCIEDADE DE ECON...|            208423|VICE-PRESIDENCIA ...|            122391|\n",
      "+-------+--------------------+--------------------+------------------+--------------------+------------------+\n",
      "\n"
     ]
    }
   ],
   "source": [
    "df_dp.describe([\"co_natureza_juridica\",\"ds_natureza_juridica\",\"co_organizacao_n1\",\"ds_organizacao_n1\",\"co_organizacao_n2\"]).show()"
   ]
  },
  {
   "cell_type": "code",
   "execution_count": 11,
   "metadata": {},
   "outputs": [
    {
     "name": "stdout",
     "output_type": "stream",
     "text": [
      "+-------+--------------------+-----------------+-----------------+-------+-----------------+-----------------+\n",
      "|summary|   ds_organizacao_n2|co_organizacao_n3|ds_organizacao_n3|an_lanc|          me_lanc|id_conta_contabil|\n",
      "+-------+--------------------+-----------------+-----------------+-------+-----------------+-----------------+\n",
      "|  count|                 250|              250|              250|    250|              250|              250|\n",
      "|   mean|                null|             -9.0|             null| 2015.0|            7.292|    3.331205536E8|\n",
      "| stddev|                null|              0.0|             null|    0.0|3.315827929708921| 31878.4023625472|\n",
      "|    min|AGENCIA BRASILEIR...|               -9|    NAO SE APLICA|   2015|                1|        333110100|\n",
      "|    max|VALEC - ENGENHARI...|               -9|    NAO SE APLICA|   2015|               12|        333310100|\n",
      "+-------+--------------------+-----------------+-----------------+-------+-----------------+-----------------+\n",
      "\n"
     ]
    }
   ],
   "source": [
    "df_dp.describe([\"ds_organizacao_n2\",\"co_organizacao_n3\",\"ds_organizacao_n3\",\"an_lanc\",\"me_lanc\",\"id_conta_contabil\"]).show()"
   ]
  },
  {
   "cell_type": "code",
   "execution_count": 12,
   "metadata": {},
   "outputs": [
    {
     "name": "stdout",
     "output_type": "stream",
     "text": [
      "+-------+--------------------+--------------------+\n",
      "|summary|   no_conta_contabil|va_custo_depreciacao|\n",
      "+-------+--------------------+--------------------+\n",
      "|  count|                 250|                 250|\n",
      "|   mean|                null|  189367.94784000007|\n",
      "| stddev|                null|   538971.3656610626|\n",
      "|    min|AMORTIZACAO DE IM...|         -3162462.47|\n",
      "|    max|            EXAUSTAO|          2772203.09|\n",
      "+-------+--------------------+--------------------+\n",
      "\n"
     ]
    }
   ],
   "source": [
    "df_dp.describe([\"no_conta_contabil\",\"va_custo_depreciacao\"]).show()"
   ]
  },
  {
   "cell_type": "code",
   "execution_count": 13,
   "metadata": {},
   "outputs": [
    {
     "data": {
      "text/plain": [
       "['AUTARQUIA',\n",
       " 'SOCIEDADE DE ECONOMIA MISTA',\n",
       " 'FUNDACAO PUBLICA',\n",
       " 'ADMINISTRACAO DIRETA',\n",
       " 'EMPRESA PUBLICA']"
      ]
     },
     "execution_count": 13,
     "metadata": {},
     "output_type": "execute_result"
    }
   ],
   "source": [
    "df_dp.select('ds_natureza_juridica').distinct().rdd.map(lambda r: r[0]).collect()\n",
    "# Util para conhecer classes discretas de uma coluna categórica.\n",
    "# Neste caso mostra as organizacoes presentes nestes dados"
   ]
  },
  {
   "cell_type": "code",
   "execution_count": 14,
   "metadata": {},
   "outputs": [
    {
     "data": {
      "text/plain": [
       "['DEPRECIACAO DE BENS IMOVEIS',\n",
       " 'AMORTIZACAO DE INTANGIVEL',\n",
       " 'AMORTIZACAO DE IMOBILIZADO',\n",
       " 'DEPRECIACAO DE BENS MOVEIS',\n",
       " 'EXAUSTAO']"
      ]
     },
     "execution_count": 14,
     "metadata": {},
     "output_type": "execute_result"
    }
   ],
   "source": [
    "df_dp.select('no_conta_contabil').distinct().rdd.map(lambda r: r[0]).collect()\n",
    "# Util para conhecer classes discretas de uma coluna categórica.\n",
    "# Neste caso mostra as modalidades de aplicacao presentes nestes dados"
   ]
  },
  {
   "cell_type": "code",
   "execution_count": 15,
   "metadata": {},
   "outputs": [
    {
     "data": {
      "text/plain": [
       "250"
      ]
     },
     "execution_count": 15,
     "metadata": {},
     "output_type": "execute_result"
    }
   ],
   "source": [
    "df_dp = spark.sql(\"\"\"\n",
    "                  select distinct *\n",
    "                  from depreciacao\n",
    "                  \"\"\")\n",
    "df_dp.count() # Verificar se tem linhas duplicadas\n",
    "\n",
    "# Retorna 250, isso quer dizer que as linhas sao todas diferentes"
   ]
  },
  {
   "cell_type": "code",
   "execution_count": 16,
   "metadata": {},
   "outputs": [
    {
     "data": {
      "text/plain": [
       "[Row(co_natureza_juridica=4, ds_natureza_juridica='AUTARQUIA', co_organizacao_n1=1930, ds_organizacao_n1='MINISTERIO DA PREVIDENCIA SOCIAL', co_organizacao_n2=1934, ds_organizacao_n2='INSTITUTO NACIONAL DO SEGURO SOCIAL', co_organizacao_n3=-9, ds_organizacao_n3='NAO SE APLICA', an_lanc=2015, me_lanc=12, id_conta_contabil=333110100, no_conta_contabil='DEPRECIACAO DE BENS MOVEIS', va_custo_depreciacao=3371.18)]"
      ]
     },
     "execution_count": 16,
     "metadata": {},
     "output_type": "execute_result"
    }
   ],
   "source": [
    "df_dp.head(1)"
   ]
  },
  {
   "cell_type": "code",
   "execution_count": 17,
   "metadata": {},
   "outputs": [
    {
     "data": {
      "text/plain": [
       "0"
      ]
     },
     "execution_count": 17,
     "metadata": {},
     "output_type": "execute_result"
    }
   ],
   "source": [
    "df_dp_unique = spark.sql(\"\"\"\n",
    "                  select co_natureza_juridica || '-' || ds_natureza_juridica || '-' || co_organizacao_n1 || '-' || \n",
    "                  ds_organizacao_n1 || '-' ||co_organizacao_n2 || '-' || ds_organizacao_n2 ||'-' || \n",
    "                  co_organizacao_n3 || '-' || ds_organizacao_n3 || '-' || me_lanc || '-'|| an_lanc || va_custo_depreciacao ||\n",
    "                  no_conta_contabil, \n",
    "                  count(1)\n",
    "                  from depreciacao\n",
    "                  group by 1\n",
    "                  having count(1) > 1\n",
    "                  \"\"\")\n",
    "# Encontrando a chave primária através de:\n",
    "# 1- co_natureza_juridica\n",
    "# 2- ds_natureza_juridica\n",
    "# 3- co_organizacao_n1\n",
    "# 4- ds_organizacao_n1\n",
    "# 5- co_organizacao_n2\n",
    "# 6- ds_organizacao_n2\n",
    "# 7- co_organizacao_n3\n",
    "# 8- ds_organizacao_n3\n",
    "# 9- me_lanc\n",
    "# 10- an_lanc\n",
    "# 11- va_custo_depreciacao\n",
    "# 12- no_conta_contabil\n",
    "\n",
    "df_dp_unique.count()"
   ]
  },
  {
   "cell_type": "code",
   "execution_count": 18,
   "metadata": {},
   "outputs": [
    {
     "name": "stdout",
     "output_type": "stream",
     "text": [
      "+--------------------+--------------------+-----+\n",
      "|co_natureza_juridica|ds_natureza_juridica|count|\n",
      "+--------------------+--------------------+-----+\n",
      "|                   6|SOCIEDADE DE ECON...|    2|\n",
      "|                   2|    FUNDACAO PUBLICA|   20|\n",
      "|                   1|     EMPRESA PUBLICA|   27|\n",
      "|                   4|           AUTARQUIA|   86|\n",
      "|                   3|ADMINISTRACAO DIRETA|  115|\n",
      "+--------------------+--------------------+-----+\n",
      "\n"
     ]
    }
   ],
   "source": [
    "df_dp.groupBy([\"co_natureza_juridica\",\"ds_natureza_juridica\"]).count().sort(\"count\", ascending=True).show()\n",
    "# Mostra a quantidade de descricao por natureza juridica"
   ]
  },
  {
   "cell_type": "code",
   "execution_count": 21,
   "metadata": {},
   "outputs": [],
   "source": [
    "df.write \\\n",
    "  .format(\"jdbc\") \\\n",
    "  .option(\"url\", \"jdbc:postgresql://<database-ip>:<port>/custos_stn\") \\\n",
    "  .option(\"dbtable\", \"custos_stn.depreciacao\") \\\n",
    "  .option(\"user\", \"postgres\") \\\n",
    "  .option(\"driver\", \"org.postgresql.Driver\") \\\n",
    "  .option(\"password\", \"postgres\")\\\n",
    "  .save()"
   ]
  },
  {
   "cell_type": "code",
   "execution_count": null,
   "metadata": {},
   "outputs": [],
   "source": []
  }
 ],
 "metadata": {
  "kernelspec": {
   "display_name": "Python 3",
   "language": "python",
   "name": "python3"
  },
  "language_info": {
   "codemirror_mode": {
    "name": "ipython",
    "version": 3
   },
   "file_extension": ".py",
   "mimetype": "text/x-python",
   "name": "python",
   "nbconvert_exporter": "python",
   "pygments_lexer": "ipython3",
   "version": "3.8.8"
  }
 },
 "nbformat": 4,
 "nbformat_minor": 2
}